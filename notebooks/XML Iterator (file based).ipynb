{
 "metadata": {
  "name": "",
  "signature": "sha256:bd5e144d35a3a1521add8c2a2cb6703e7f24631e4b47e275c5bfff580070af05"
 },
 "nbformat": 3,
 "nbformat_minor": 0,
 "worksheets": [
  {
   "cells": [
    {
     "cell_type": "markdown",
     "metadata": {},
     "source": [
      "Recursion testing using local files instead of URL requests\n",
      "\n",
      "(can we manage the catalogRef vs dataset links regardless?)"
     ]
    },
    {
     "cell_type": "code",
     "collapsed": false,
     "input": [
      "import os\n",
      "import json\n",
      "import sys\n",
      "from lxml import etree\n",
      "\n",
      "import logging\n",
      "from logging import NullHandler\n",
      "logger = logging.getLogger(\"crawler\")\n",
      "logger.addHandler(NullHandler())\n",
      "\n",
      "logger.setLevel(logging.DEBUG)\n",
      "ch = logging.StreamHandler(sys.stdout)\n",
      "ch.setLevel(logging.DEBUG)\n",
      "formatter = logging.Formatter('%(asctime)s - [%(levelname)s] %(message)s')\n",
      "ch.setFormatter(formatter)\n",
      "logger.addHandler(ch)\n",
      "\n",
      "def generate_path(extension):\n",
      "    return os.path.join('xml_samples', extension)\n",
      "\n",
      "def request(path):\n",
      "    if not os.path.exists(path):\n",
      "        return ''\n",
      "    with open(path, 'r') as f:\n",
      "        text = f.read()\n",
      "    return text\n",
      "\n",
      "def parse_xml(text):\n",
      "    try:\n",
      "        return etree.fromstring(text)\n",
      "    except:\n",
      "        return None\n",
      "\n",
      "def extract_element_tag(tag):\n",
      "    if not tag:\n",
      "        return ''\n",
      "    return tag.split('}')[-1]    \n",
      "    \n",
      "class Crawl(object):\n",
      "    def __init__(self, path):\n",
      "        self.path = path\n",
      "        self.crawl()\n",
      "    \n",
      "    def _parse(self, path):\n",
      "        # parse the xml\n",
      "        url = generate_path(path)\n",
      "        response = request(url)\n",
      "        xml = parse_xml(response)\n",
      "        \n",
      "        logger.debug('parsed file {0}'.format(path))\n",
      "        return xml\n",
      "    \n",
      "    def crawl(self):\n",
      "        # start at the path, iterate through the catalogRefs\n",
      "        # and generate the tree of links\n",
      "        \n",
      "        fetched = []\n",
      "        to_fetch = [self.path]\n",
      "        \n",
      "        tree = {}\n",
      "        \n",
      "        while to_fetch:\n",
      "            \n",
      "            path = to_fetch.pop()\n",
      "            logger.debug('starting paths to follow: {0} : {1}'.format(len(to_fetch), path))\n",
      "            \n",
      "            xml = self._parse(path)\n",
      "            \n",
      "            local_tree = {\"children\": []}\n",
      "            \n",
      "            elements = xml.xpath('//*[local-name()=\"catalogRef\" or local-name=\"dataset\"]')\n",
      "            logger.debug('number of elements found {0}'.format(len(elements)))\n",
      "            \n",
      "            for element in elements:\n",
      "                tag = extract_element_tag(element.tag)\n",
      "                \n",
      "                logger.debug('{0} element in {1} ({2})'.format(tag.upper(), path, element.attrib['ID']))\n",
      "                logger.debug(element.attrib.get('href', 'nope'))\n",
      "                \n",
      "                if tag == 'dataset':\n",
      "                    elem = Dataset(path, element)\n",
      "                elif tag == 'catalogRef':\n",
      "                    elem = CatalogRef(path, element)\n",
      "   \n",
      "                local_tree['children'].append(elem.description)\n",
      "                to_fetch = list(set(to_fetch + elem.follows))\n",
      "                \n",
      "                logger.debug('adding paths to follow: {0} ({1})'.format(len(to_fetch), len(elem.follows)))\n",
      "\n",
      "            tree[path] = local_tree\n",
      "            fetched.append(path)\n",
      "            \n",
      "            logger.debug('fetched paths {0} ({1})'.format(len(fetched), len(to_fetch)))\n",
      "        \n",
      "        return tree\n",
      "\n",
      "class CatalogRef(object):\n",
      "    def __init__(self, path, element):\n",
      "        self.path = path\n",
      "        self.element = element\n",
      "        \n",
      "        self.description, self.follows = self._parse()\n",
      "        \n",
      "    def _parse(self):\n",
      "        # parse the xml\n",
      "        \n",
      "        name = self.element.attrib.get('name', '')\n",
      "        cat_id = self.element.attrib.get('ID', '')\n",
      "        title = self.element.attrib.get('title', '')\n",
      "        href = self.element.attrib.get('href', '')\n",
      "        tag = extract_element_tag(self.element.tag)\n",
      "        \n",
      "        # get the parent \n",
      "        parent = self.element.getparent()\n",
      "        parent_tag = extract_element_tag(parent.tag)\n",
      "        parent_id = parent.attrib.get('ID', '') if parent_tag != 'catalog' else ''\n",
      "        \n",
      "        # nested catalogRefs\n",
      "        # TODO: why is this empty and \n",
      "        follows = self.element.xpath('*[local-name()=\"catalogRef\"]')\n",
      "        follows = [f.attrib.get('href') for f in follows]\n",
      "        \n",
      "        logger.debug('{0} has {1} links to follow'.format(cat_id, len(follows)))\n",
      "        \n",
      "        description = {\n",
      "            'id': cat_id,\n",
      "            'href': href,\n",
      "            'type': tag\n",
      "        }\n",
      "        if name:\n",
      "            description.update({'name': name})\n",
      "        if title:\n",
      "            description.update({'title': title})\n",
      "        if parent_id:\n",
      "            description.update({'parent': parent_id, 'parent_type': parent_tag})\n",
      "               \n",
      "        return description, follows\n",
      "        \n",
      "        \n",
      "class Dataset(object):\n",
      "    # where services is the list of bases for this example\n",
      "    def __init__(self, path, element, services):\n",
      "        self.path = path\n",
      "        self.element = element\n",
      "        self.services = services\n",
      "        \n",
      "        self.description, self.follows = self._parse()\n",
      "    \n",
      "    def _parse(self):\n",
      "        # parse the xml\n",
      "        name = self.element.attrib.get('name', '')\n",
      "        dataset_id = self.element.attrib.get('ID', '')\n",
      "        href = self.element.attrib.get('urlPath', '')\n",
      "        \n",
      "        # get the parent \n",
      "        parent = self.element.getparent()\n",
      "        parent_tag = extract_element_tag(parent.tag)\n",
      "        parent_id = parent.attrib.get('ID', '') if parent_tag != 'catalog' else ''\n",
      "        \n",
      "        # nested catalogRefs\n",
      "        follows = self.element.xpath('*[local-name()=\"catalogRef\"]/@href')\n",
      "        \n",
      "        logger.debug('{0} has {1} links to follow'.format(dataset_id, len(follows)))\n",
      "        \n",
      "        hrefs= []\n",
      "        if href:\n",
      "            # do something about the services\n",
      "            hrefs = ['/'.join([service, href]) for service in services]\n",
      "        \n",
      "        date = next(iter(self.element.xpath('*[local-name()=\"date\"]/text()')), '')\n",
      "        \n",
      "        description = {\n",
      "            'id': dataset_id\n",
      "        }\n",
      "        if hrefs:\n",
      "            description.update({'hrefs': hrefs})\n",
      "        if name:\n",
      "            description.update({'name': name})\n",
      "        if date:\n",
      "            description.update({'date': date})\n",
      "            \n",
      "        if parent_id:\n",
      "            description.update({'parent': parent_id, 'parent_type': parent_tag})\n",
      "            \n",
      "        return description, follows\n",
      "  \n",
      "    "
     ],
     "language": "python",
     "metadata": {},
     "outputs": [],
     "prompt_number": 47
    },
    {
     "cell_type": "code",
     "collapsed": false,
     "input": [
      "# crawler = Crawl('catalog.xml')\n",
      "crawler = Crawl('TSData/catalog.xml')\n",
      "\n",
      "tree = crawler.crawl()\n",
      "\n",
      "print '***************'\n",
      "print 'crawl complete:'\n",
      "print json.dumps(tree, indent=4)"
     ],
     "language": "python",
     "metadata": {},
     "outputs": [
      {
       "output_type": "stream",
       "stream": "stdout",
       "text": [
        "2015-04-16 08:56:53,183 - [DEBUG] starting paths to follow: 0 : TSData/catalog.xml\n"
       ]
      },
      {
       "output_type": "stream",
       "stream": "stdout",
       "text": [
        "2015-04-16 08:56:53,183 - [DEBUG] starting paths to follow: 0 : TSData/catalog.xml\n"
       ]
      },
      {
       "output_type": "stream",
       "stream": "stdout",
       "text": [
        "2015-04-16 08:56:53,183 - [DEBUG] starting paths to follow: 0 : TSData/catalog.xml\n"
       ]
      },
      {
       "output_type": "stream",
       "stream": "stdout",
       "text": [
        "2015-04-16 08:56:53,183 - [DEBUG] starting paths to follow: 0 : TSData/catalog.xml\n"
       ]
      },
      {
       "output_type": "stream",
       "stream": "stdout",
       "text": [
        "2015-04-16 08:56:53,183 - [DEBUG] starting paths to follow: 0 : TSData/catalog.xml\n"
       ]
      },
      {
       "output_type": "stream",
       "stream": "stdout",
       "text": [
        "2015-04-16 08:56:53,183 - [DEBUG] starting paths to follow: 0 : TSData/catalog.xml\n"
       ]
      },
      {
       "output_type": "stream",
       "stream": "stdout",
       "text": [
        "2015-04-16 08:56:53,183 - [DEBUG] starting paths to follow: 0 : TSData/catalog.xml\n"
       ]
      },
      {
       "output_type": "stream",
       "stream": "stdout",
       "text": [
        "2015-04-16 08:56:53,183 - [DEBUG] starting paths to follow: 0 : TSData/catalog.xml\n"
       ]
      },
      {
       "output_type": "stream",
       "stream": "stdout",
       "text": [
        "2015-04-16 08:56:53,183 - [DEBUG] starting paths to follow: 0 : TSData/catalog.xml\n"
       ]
      },
      {
       "output_type": "stream",
       "stream": "stdout",
       "text": [
        "2015-04-16 08:56:53,183 - [DEBUG] starting paths to follow: 0 : TSData/catalog.xml\n"
       ]
      },
      {
       "output_type": "stream",
       "stream": "stdout",
       "text": [
        "2015-04-16 08:56:53,183 - [DEBUG] starting paths to follow: 0 : TSData/catalog.xml\n"
       ]
      },
      {
       "output_type": "stream",
       "stream": "stdout",
       "text": [
        "2015-04-16 08:56:53,183 - [DEBUG] starting paths to follow: 0 : TSData/catalog.xml\n"
       ]
      },
      {
       "output_type": "stream",
       "stream": "stdout",
       "text": [
        "2015-04-16 08:56:53,183 - [DEBUG] starting paths to follow: 0 : TSData/catalog.xml\n"
       ]
      },
      {
       "output_type": "stream",
       "stream": "stdout",
       "text": [
        "2015-04-16 08:56:53,183 - [DEBUG] starting paths to follow: 0 : TSData/catalog.xml\n"
       ]
      },
      {
       "output_type": "stream",
       "stream": "stdout",
       "text": [
        "2015-04-16 08:56:53,183 - [DEBUG] starting paths to follow: 0 : TSData/catalog.xml\n"
       ]
      },
      {
       "output_type": "stream",
       "stream": "stdout",
       "text": [
        "2015-04-16 08:56:53,183 - [DEBUG] starting paths to follow: 0 : TSData/catalog.xml\n"
       ]
      },
      {
       "output_type": "stream",
       "stream": "stdout",
       "text": [
        "2015-04-16 08:56:53,183 - [DEBUG] starting paths to follow: 0 : TSData/catalog.xml\n"
       ]
      },
      {
       "output_type": "stream",
       "stream": "stdout",
       "text": [
        "2015-04-16 08:56:53,183 - [DEBUG] starting paths to follow: 0 : TSData/catalog.xml\n"
       ]
      },
      {
       "output_type": "stream",
       "stream": "stdout",
       "text": [
        "2015-04-16 08:56:53,183 - [DEBUG] starting paths to follow: 0 : TSData/catalog.xml\n"
       ]
      },
      {
       "output_type": "stream",
       "stream": "stdout",
       "text": [
        "2015-04-16 08:56:53,183 - [DEBUG] starting paths to follow: 0 : TSData/catalog.xml\n"
       ]
      },
      {
       "output_type": "stream",
       "stream": "stdout",
       "text": [
        "2015-04-16 08:56:53,183 - [DEBUG] starting paths to follow: 0 : TSData/catalog.xml\n"
       ]
      },
      {
       "output_type": "stream",
       "stream": "stderr",
       "text": [
        "DEBUG:crawler:starting paths to follow: 0 : TSData/catalog.xml\n"
       ]
      },
      {
       "output_type": "stream",
       "stream": "stdout",
       "text": [
        "2015-04-16 08:56:53,209 - [DEBUG] parsed file TSData/catalog.xml\n"
       ]
      },
      {
       "output_type": "stream",
       "stream": "stdout",
       "text": [
        "2015-04-16 08:56:53,209 - [DEBUG] parsed file TSData/catalog.xml\n"
       ]
      },
      {
       "output_type": "stream",
       "stream": "stdout",
       "text": [
        "2015-04-16 08:56:53,209 - [DEBUG] parsed file TSData/catalog.xml\n"
       ]
      },
      {
       "output_type": "stream",
       "stream": "stdout",
       "text": [
        "2015-04-16 08:56:53,209 - [DEBUG] parsed file TSData/catalog.xml\n"
       ]
      },
      {
       "output_type": "stream",
       "stream": "stdout",
       "text": [
        "2015-04-16 08:56:53,209 - [DEBUG] parsed file TSData/catalog.xml\n"
       ]
      },
      {
       "output_type": "stream",
       "stream": "stdout",
       "text": [
        "2015-04-16 08:56:53,209 - [DEBUG] parsed file TSData/catalog.xml\n"
       ]
      },
      {
       "output_type": "stream",
       "stream": "stdout",
       "text": [
        "2015-04-16 08:56:53,209 - [DEBUG] parsed file TSData/catalog.xml\n"
       ]
      },
      {
       "output_type": "stream",
       "stream": "stdout",
       "text": [
        "2015-04-16 08:56:53,209 - [DEBUG] parsed file TSData/catalog.xml\n"
       ]
      },
      {
       "output_type": "stream",
       "stream": "stdout",
       "text": [
        "2015-04-16 08:56:53,209 - [DEBUG] parsed file TSData/catalog.xml\n"
       ]
      },
      {
       "output_type": "stream",
       "stream": "stdout",
       "text": [
        "2015-04-16 08:56:53,209 - [DEBUG] parsed file TSData/catalog.xml\n"
       ]
      },
      {
       "output_type": "stream",
       "stream": "stdout",
       "text": [
        "2015-04-16 08:56:53,209 - [DEBUG] parsed file TSData/catalog.xml\n"
       ]
      },
      {
       "output_type": "stream",
       "stream": "stdout",
       "text": [
        "2015-04-16 08:56:53,209 - [DEBUG] parsed file TSData/catalog.xml\n"
       ]
      },
      {
       "output_type": "stream",
       "stream": "stdout",
       "text": [
        "2015-04-16 08:56:53,209 - [DEBUG] parsed file TSData/catalog.xml\n"
       ]
      },
      {
       "output_type": "stream",
       "stream": "stdout",
       "text": [
        "2015-04-16 08:56:53,209 - [DEBUG] parsed file TSData/catalog.xml\n"
       ]
      },
      {
       "output_type": "stream",
       "stream": "stdout",
       "text": [
        "2015-04-16 08:56:53,209 - [DEBUG] parsed file TSData/catalog.xml\n"
       ]
      },
      {
       "output_type": "stream",
       "stream": "stdout",
       "text": [
        "2015-04-16 08:56:53,209 - [DEBUG] parsed file TSData/catalog.xml\n"
       ]
      },
      {
       "output_type": "stream",
       "stream": "stdout",
       "text": [
        "2015-04-16 08:56:53,209 - [DEBUG] parsed file TSData/catalog.xml\n"
       ]
      },
      {
       "output_type": "stream",
       "stream": "stdout",
       "text": [
        "2015-04-16 08:56:53,209 - [DEBUG] parsed file TSData/catalog.xml\n"
       ]
      },
      {
       "output_type": "stream",
       "stream": "stdout",
       "text": [
        "2015-04-16 08:56:53,209 - [DEBUG] parsed file TSData/catalog.xml\n"
       ]
      },
      {
       "output_type": "stream",
       "stream": "stdout",
       "text": [
        "2015-04-16 08:56:53,209 - [DEBUG] parsed file TSData/catalog.xml\n"
       ]
      },
      {
       "output_type": "stream",
       "stream": "stdout",
       "text": [
        "2015-04-16 08:56:53,209 - [DEBUG] parsed file TSData/catalog.xml\n"
       ]
      },
      {
       "output_type": "stream",
       "stream": "stderr",
       "text": [
        "DEBUG:crawler:parsed file TSData/catalog.xml\n"
       ]
      },
      {
       "output_type": "stream",
       "stream": "stdout",
       "text": [
        "2015-04-16 08:56:53,224 - [DEBUG] number of elements found 2\n"
       ]
      },
      {
       "output_type": "stream",
       "stream": "stdout",
       "text": [
        "2015-04-16 08:56:53,224 - [DEBUG] number of elements found 2\n"
       ]
      },
      {
       "output_type": "stream",
       "stream": "stdout",
       "text": [
        "2015-04-16 08:56:53,224 - [DEBUG] number of elements found 2\n"
       ]
      },
      {
       "output_type": "stream",
       "stream": "stdout",
       "text": [
        "2015-04-16 08:56:53,224 - [DEBUG] number of elements found 2\n"
       ]
      },
      {
       "output_type": "stream",
       "stream": "stdout",
       "text": [
        "2015-04-16 08:56:53,224 - [DEBUG] number of elements found 2\n"
       ]
      },
      {
       "output_type": "stream",
       "stream": "stdout",
       "text": [
        "2015-04-16 08:56:53,224 - [DEBUG] number of elements found 2\n"
       ]
      },
      {
       "output_type": "stream",
       "stream": "stdout",
       "text": [
        "2015-04-16 08:56:53,224 - [DEBUG] number of elements found 2\n"
       ]
      },
      {
       "output_type": "stream",
       "stream": "stdout",
       "text": [
        "2015-04-16 08:56:53,224 - [DEBUG] number of elements found 2\n"
       ]
      },
      {
       "output_type": "stream",
       "stream": "stdout",
       "text": [
        "2015-04-16 08:56:53,224 - [DEBUG] number of elements found 2\n"
       ]
      },
      {
       "output_type": "stream",
       "stream": "stdout",
       "text": [
        "2015-04-16 08:56:53,224 - [DEBUG] number of elements found 2\n"
       ]
      },
      {
       "output_type": "stream",
       "stream": "stdout",
       "text": [
        "2015-04-16 08:56:53,224 - [DEBUG] number of elements found 2\n"
       ]
      },
      {
       "output_type": "stream",
       "stream": "stdout",
       "text": [
        "2015-04-16 08:56:53,224 - [DEBUG] number of elements found 2\n"
       ]
      },
      {
       "output_type": "stream",
       "stream": "stdout",
       "text": [
        "2015-04-16 08:56:53,224 - [DEBUG] number of elements found 2\n"
       ]
      },
      {
       "output_type": "stream",
       "stream": "stdout",
       "text": [
        "2015-04-16 08:56:53,224 - [DEBUG] number of elements found 2\n"
       ]
      },
      {
       "output_type": "stream",
       "stream": "stdout",
       "text": [
        "2015-04-16 08:56:53,224 - [DEBUG] number of elements found 2\n"
       ]
      },
      {
       "output_type": "stream",
       "stream": "stdout",
       "text": [
        "2015-04-16 08:56:53,224 - [DEBUG] number of elements found 2\n"
       ]
      },
      {
       "output_type": "stream",
       "stream": "stdout",
       "text": [
        "2015-04-16 08:56:53,224 - [DEBUG] number of elements found 2\n"
       ]
      },
      {
       "output_type": "stream",
       "stream": "stdout",
       "text": [
        "2015-04-16 08:56:53,224 - [DEBUG] number of elements found 2\n"
       ]
      },
      {
       "output_type": "stream",
       "stream": "stdout",
       "text": [
        "2015-04-16 08:56:53,224 - [DEBUG] number of elements found 2\n"
       ]
      },
      {
       "output_type": "stream",
       "stream": "stdout",
       "text": [
        "2015-04-16 08:56:53,224 - [DEBUG] number of elements found 2\n"
       ]
      },
      {
       "output_type": "stream",
       "stream": "stdout",
       "text": [
        "2015-04-16 08:56:53,224 - [DEBUG] number of elements found 2\n"
       ]
      },
      {
       "output_type": "stream",
       "stream": "stderr",
       "text": [
        "DEBUG:crawler:number of elements found 2\n"
       ]
      },
      {
       "output_type": "stream",
       "stream": "stdout",
       "text": [
        "2015-04-16 08:56:53,235 - [DEBUG] CATALOGREF element in TSData/catalog.xml (TSdata/ARGO_MERCHANT)\n"
       ]
      },
      {
       "output_type": "stream",
       "stream": "stdout",
       "text": [
        "2015-04-16 08:56:53,235 - [DEBUG] CATALOGREF element in TSData/catalog.xml (TSdata/ARGO_MERCHANT)\n"
       ]
      },
      {
       "output_type": "stream",
       "stream": "stdout",
       "text": [
        "2015-04-16 08:56:53,235 - [DEBUG] CATALOGREF element in TSData/catalog.xml (TSdata/ARGO_MERCHANT)\n"
       ]
      },
      {
       "output_type": "stream",
       "stream": "stdout",
       "text": [
        "2015-04-16 08:56:53,235 - [DEBUG] CATALOGREF element in TSData/catalog.xml (TSdata/ARGO_MERCHANT)\n"
       ]
      },
      {
       "output_type": "stream",
       "stream": "stdout",
       "text": [
        "2015-04-16 08:56:53,235 - [DEBUG] CATALOGREF element in TSData/catalog.xml (TSdata/ARGO_MERCHANT)\n"
       ]
      },
      {
       "output_type": "stream",
       "stream": "stdout",
       "text": [
        "2015-04-16 08:56:53,235 - [DEBUG] CATALOGREF element in TSData/catalog.xml (TSdata/ARGO_MERCHANT)\n"
       ]
      },
      {
       "output_type": "stream",
       "stream": "stdout",
       "text": [
        "2015-04-16 08:56:53,235 - [DEBUG] CATALOGREF element in TSData/catalog.xml (TSdata/ARGO_MERCHANT)\n"
       ]
      },
      {
       "output_type": "stream",
       "stream": "stdout",
       "text": [
        "2015-04-16 08:56:53,235 - [DEBUG] CATALOGREF element in TSData/catalog.xml (TSdata/ARGO_MERCHANT)\n"
       ]
      },
      {
       "output_type": "stream",
       "stream": "stdout",
       "text": [
        "2015-04-16 08:56:53,235 - [DEBUG] CATALOGREF element in TSData/catalog.xml (TSdata/ARGO_MERCHANT)\n"
       ]
      },
      {
       "output_type": "stream",
       "stream": "stdout",
       "text": [
        "2015-04-16 08:56:53,235 - [DEBUG] CATALOGREF element in TSData/catalog.xml (TSdata/ARGO_MERCHANT)\n"
       ]
      },
      {
       "output_type": "stream",
       "stream": "stdout",
       "text": [
        "2015-04-16 08:56:53,235 - [DEBUG] CATALOGREF element in TSData/catalog.xml (TSdata/ARGO_MERCHANT)\n"
       ]
      },
      {
       "output_type": "stream",
       "stream": "stdout",
       "text": [
        "2015-04-16 08:56:53,235 - [DEBUG] CATALOGREF element in TSData/catalog.xml (TSdata/ARGO_MERCHANT)\n"
       ]
      },
      {
       "output_type": "stream",
       "stream": "stdout",
       "text": [
        "2015-04-16 08:56:53,235 - [DEBUG] CATALOGREF element in TSData/catalog.xml (TSdata/ARGO_MERCHANT)\n"
       ]
      },
      {
       "output_type": "stream",
       "stream": "stdout",
       "text": [
        "2015-04-16 08:56:53,235 - [DEBUG] CATALOGREF element in TSData/catalog.xml (TSdata/ARGO_MERCHANT)\n"
       ]
      },
      {
       "output_type": "stream",
       "stream": "stdout",
       "text": [
        "2015-04-16 08:56:53,235 - [DEBUG] CATALOGREF element in TSData/catalog.xml (TSdata/ARGO_MERCHANT)\n"
       ]
      },
      {
       "output_type": "stream",
       "stream": "stdout",
       "text": [
        "2015-04-16 08:56:53,235 - [DEBUG] CATALOGREF element in TSData/catalog.xml (TSdata/ARGO_MERCHANT)\n"
       ]
      },
      {
       "output_type": "stream",
       "stream": "stdout",
       "text": [
        "2015-04-16 08:56:53,235 - [DEBUG] CATALOGREF element in TSData/catalog.xml (TSdata/ARGO_MERCHANT)\n"
       ]
      },
      {
       "output_type": "stream",
       "stream": "stdout",
       "text": [
        "2015-04-16 08:56:53,235 - [DEBUG] CATALOGREF element in TSData/catalog.xml (TSdata/ARGO_MERCHANT)\n"
       ]
      },
      {
       "output_type": "stream",
       "stream": "stdout",
       "text": [
        "2015-04-16 08:56:53,235 - [DEBUG] CATALOGREF element in TSData/catalog.xml (TSdata/ARGO_MERCHANT)\n"
       ]
      },
      {
       "output_type": "stream",
       "stream": "stdout",
       "text": [
        "2015-04-16 08:56:53,235 - [DEBUG] CATALOGREF element in TSData/catalog.xml (TSdata/ARGO_MERCHANT)\n"
       ]
      },
      {
       "output_type": "stream",
       "stream": "stdout",
       "text": [
        "2015-04-16 08:56:53,235 - [DEBUG] CATALOGREF element in TSData/catalog.xml (TSdata/ARGO_MERCHANT)\n"
       ]
      },
      {
       "output_type": "stream",
       "stream": "stderr",
       "text": [
        "DEBUG:crawler:CATALOGREF element in TSData/catalog.xml (TSdata/ARGO_MERCHANT)\n"
       ]
      },
      {
       "output_type": "stream",
       "stream": "stdout",
       "text": [
        "2015-04-16 08:56:53,241 - [DEBUG] nope\n"
       ]
      },
      {
       "output_type": "stream",
       "stream": "stdout",
       "text": [
        "2015-04-16 08:56:53,241 - [DEBUG] nope\n"
       ]
      },
      {
       "output_type": "stream",
       "stream": "stdout",
       "text": [
        "2015-04-16 08:56:53,241 - [DEBUG] nope\n"
       ]
      },
      {
       "output_type": "stream",
       "stream": "stdout",
       "text": [
        "2015-04-16 08:56:53,241 - [DEBUG] nope\n"
       ]
      },
      {
       "output_type": "stream",
       "stream": "stdout",
       "text": [
        "2015-04-16 08:56:53,241 - [DEBUG] nope\n"
       ]
      },
      {
       "output_type": "stream",
       "stream": "stdout",
       "text": [
        "2015-04-16 08:56:53,241 - [DEBUG] nope\n"
       ]
      },
      {
       "output_type": "stream",
       "stream": "stdout",
       "text": [
        "2015-04-16 08:56:53,241 - [DEBUG] nope\n"
       ]
      },
      {
       "output_type": "stream",
       "stream": "stdout",
       "text": [
        "2015-04-16 08:56:53,241 - [DEBUG] nope\n"
       ]
      },
      {
       "output_type": "stream",
       "stream": "stdout",
       "text": [
        "2015-04-16 08:56:53,241 - [DEBUG] nope\n"
       ]
      },
      {
       "output_type": "stream",
       "stream": "stdout",
       "text": [
        "2015-04-16 08:56:53,241 - [DEBUG] nope\n"
       ]
      },
      {
       "output_type": "stream",
       "stream": "stdout",
       "text": [
        "2015-04-16 08:56:53,241 - [DEBUG] nope\n"
       ]
      },
      {
       "output_type": "stream",
       "stream": "stdout",
       "text": [
        "2015-04-16 08:56:53,241 - [DEBUG] nope\n"
       ]
      },
      {
       "output_type": "stream",
       "stream": "stdout",
       "text": [
        "2015-04-16 08:56:53,241 - [DEBUG] nope\n"
       ]
      },
      {
       "output_type": "stream",
       "stream": "stdout",
       "text": [
        "2015-04-16 08:56:53,241 - [DEBUG] nope\n"
       ]
      },
      {
       "output_type": "stream",
       "stream": "stdout",
       "text": [
        "2015-04-16 08:56:53,241 - [DEBUG] nope\n"
       ]
      },
      {
       "output_type": "stream",
       "stream": "stdout",
       "text": [
        "2015-04-16 08:56:53,241 - [DEBUG] nope\n"
       ]
      },
      {
       "output_type": "stream",
       "stream": "stdout",
       "text": [
        "2015-04-16 08:56:53,241 - [DEBUG] nope\n"
       ]
      },
      {
       "output_type": "stream",
       "stream": "stdout",
       "text": [
        "2015-04-16 08:56:53,241 - [DEBUG] nope\n"
       ]
      },
      {
       "output_type": "stream",
       "stream": "stdout",
       "text": [
        "2015-04-16 08:56:53,241 - [DEBUG] nope\n"
       ]
      },
      {
       "output_type": "stream",
       "stream": "stdout",
       "text": [
        "2015-04-16 08:56:53,241 - [DEBUG] nope\n"
       ]
      },
      {
       "output_type": "stream",
       "stream": "stdout",
       "text": [
        "2015-04-16 08:56:53,241 - [DEBUG] nope\n"
       ]
      },
      {
       "output_type": "stream",
       "stream": "stderr",
       "text": [
        "DEBUG:crawler:nope\n"
       ]
      },
      {
       "output_type": "stream",
       "stream": "stdout",
       "text": [
        "2015-04-16 08:56:53,251 - [DEBUG] TSdata/ARGO_MERCHANT has 0 links to follow\n"
       ]
      },
      {
       "output_type": "stream",
       "stream": "stdout",
       "text": [
        "2015-04-16 08:56:53,251 - [DEBUG] TSdata/ARGO_MERCHANT has 0 links to follow\n"
       ]
      },
      {
       "output_type": "stream",
       "stream": "stdout",
       "text": [
        "2015-04-16 08:56:53,251 - [DEBUG] TSdata/ARGO_MERCHANT has 0 links to follow\n"
       ]
      },
      {
       "output_type": "stream",
       "stream": "stdout",
       "text": [
        "2015-04-16 08:56:53,251 - [DEBUG] TSdata/ARGO_MERCHANT has 0 links to follow\n"
       ]
      },
      {
       "output_type": "stream",
       "stream": "stdout",
       "text": [
        "2015-04-16 08:56:53,251 - [DEBUG] TSdata/ARGO_MERCHANT has 0 links to follow\n"
       ]
      },
      {
       "output_type": "stream",
       "stream": "stdout",
       "text": [
        "2015-04-16 08:56:53,251 - [DEBUG] TSdata/ARGO_MERCHANT has 0 links to follow\n"
       ]
      },
      {
       "output_type": "stream",
       "stream": "stdout",
       "text": [
        "2015-04-16 08:56:53,251 - [DEBUG] TSdata/ARGO_MERCHANT has 0 links to follow\n"
       ]
      },
      {
       "output_type": "stream",
       "stream": "stdout",
       "text": [
        "2015-04-16 08:56:53,251 - [DEBUG] TSdata/ARGO_MERCHANT has 0 links to follow\n"
       ]
      },
      {
       "output_type": "stream",
       "stream": "stdout",
       "text": [
        "2015-04-16 08:56:53,251 - [DEBUG] TSdata/ARGO_MERCHANT has 0 links to follow\n"
       ]
      },
      {
       "output_type": "stream",
       "stream": "stdout",
       "text": [
        "2015-04-16 08:56:53,251 - [DEBUG] TSdata/ARGO_MERCHANT has 0 links to follow\n"
       ]
      },
      {
       "output_type": "stream",
       "stream": "stdout",
       "text": [
        "2015-04-16 08:56:53,251 - [DEBUG] TSdata/ARGO_MERCHANT has 0 links to follow\n"
       ]
      },
      {
       "output_type": "stream",
       "stream": "stdout",
       "text": [
        "2015-04-16 08:56:53,251 - [DEBUG] TSdata/ARGO_MERCHANT has 0 links to follow\n"
       ]
      },
      {
       "output_type": "stream",
       "stream": "stdout",
       "text": [
        "2015-04-16 08:56:53,251 - [DEBUG] TSdata/ARGO_MERCHANT has 0 links to follow\n"
       ]
      },
      {
       "output_type": "stream",
       "stream": "stdout",
       "text": [
        "2015-04-16 08:56:53,251 - [DEBUG] TSdata/ARGO_MERCHANT has 0 links to follow\n"
       ]
      },
      {
       "output_type": "stream",
       "stream": "stdout",
       "text": [
        "2015-04-16 08:56:53,251 - [DEBUG] TSdata/ARGO_MERCHANT has 0 links to follow\n"
       ]
      },
      {
       "output_type": "stream",
       "stream": "stdout",
       "text": [
        "2015-04-16 08:56:53,251 - [DEBUG] TSdata/ARGO_MERCHANT has 0 links to follow\n"
       ]
      },
      {
       "output_type": "stream",
       "stream": "stdout",
       "text": [
        "2015-04-16 08:56:53,251 - [DEBUG] TSdata/ARGO_MERCHANT has 0 links to follow\n"
       ]
      },
      {
       "output_type": "stream",
       "stream": "stdout",
       "text": [
        "2015-04-16 08:56:53,251 - [DEBUG] TSdata/ARGO_MERCHANT has 0 links to follow\n"
       ]
      },
      {
       "output_type": "stream",
       "stream": "stdout",
       "text": [
        "2015-04-16 08:56:53,251 - [DEBUG] TSdata/ARGO_MERCHANT has 0 links to follow\n"
       ]
      },
      {
       "output_type": "stream",
       "stream": "stdout",
       "text": [
        "2015-04-16 08:56:53,251 - [DEBUG] TSdata/ARGO_MERCHANT has 0 links to follow\n"
       ]
      },
      {
       "output_type": "stream",
       "stream": "stdout",
       "text": [
        "2015-04-16 08:56:53,251 - [DEBUG] TSdata/ARGO_MERCHANT has 0 links to follow\n"
       ]
      },
      {
       "output_type": "stream",
       "stream": "stderr",
       "text": [
        "DEBUG:crawler:TSdata/ARGO_MERCHANT has 0 links to follow\n"
       ]
      },
      {
       "output_type": "stream",
       "stream": "stdout",
       "text": [
        "2015-04-16 08:56:53,259 - [DEBUG] adding paths to follow: 0 (0)\n"
       ]
      },
      {
       "output_type": "stream",
       "stream": "stdout",
       "text": [
        "2015-04-16 08:56:53,259 - [DEBUG] adding paths to follow: 0 (0)\n"
       ]
      },
      {
       "output_type": "stream",
       "stream": "stdout",
       "text": [
        "2015-04-16 08:56:53,259 - [DEBUG] adding paths to follow: 0 (0)\n"
       ]
      },
      {
       "output_type": "stream",
       "stream": "stdout",
       "text": [
        "2015-04-16 08:56:53,259 - [DEBUG] adding paths to follow: 0 (0)\n"
       ]
      },
      {
       "output_type": "stream",
       "stream": "stdout",
       "text": [
        "2015-04-16 08:56:53,259 - [DEBUG] adding paths to follow: 0 (0)\n"
       ]
      },
      {
       "output_type": "stream",
       "stream": "stdout",
       "text": [
        "2015-04-16 08:56:53,259 - [DEBUG] adding paths to follow: 0 (0)\n"
       ]
      },
      {
       "output_type": "stream",
       "stream": "stdout",
       "text": [
        "2015-04-16 08:56:53,259 - [DEBUG] adding paths to follow: 0 (0)\n"
       ]
      },
      {
       "output_type": "stream",
       "stream": "stdout",
       "text": [
        "2015-04-16 08:56:53,259 - [DEBUG] adding paths to follow: 0 (0)\n"
       ]
      },
      {
       "output_type": "stream",
       "stream": "stdout",
       "text": [
        "2015-04-16 08:56:53,259 - [DEBUG] adding paths to follow: 0 (0)\n"
       ]
      },
      {
       "output_type": "stream",
       "stream": "stdout",
       "text": [
        "2015-04-16 08:56:53,259 - [DEBUG] adding paths to follow: 0 (0)\n"
       ]
      },
      {
       "output_type": "stream",
       "stream": "stdout",
       "text": [
        "2015-04-16 08:56:53,259 - [DEBUG] adding paths to follow: 0 (0)\n"
       ]
      },
      {
       "output_type": "stream",
       "stream": "stdout",
       "text": [
        "2015-04-16 08:56:53,259 - [DEBUG] adding paths to follow: 0 (0)\n"
       ]
      },
      {
       "output_type": "stream",
       "stream": "stdout",
       "text": [
        "2015-04-16 08:56:53,259 - [DEBUG] adding paths to follow: 0 (0)\n"
       ]
      },
      {
       "output_type": "stream",
       "stream": "stdout",
       "text": [
        "2015-04-16 08:56:53,259 - [DEBUG] adding paths to follow: 0 (0)\n"
       ]
      },
      {
       "output_type": "stream",
       "stream": "stdout",
       "text": [
        "2015-04-16 08:56:53,259 - [DEBUG] adding paths to follow: 0 (0)\n"
       ]
      },
      {
       "output_type": "stream",
       "stream": "stdout",
       "text": [
        "2015-04-16 08:56:53,259 - [DEBUG] adding paths to follow: 0 (0)\n"
       ]
      },
      {
       "output_type": "stream",
       "stream": "stdout",
       "text": [
        "2015-04-16 08:56:53,259 - [DEBUG] adding paths to follow: 0 (0)\n"
       ]
      },
      {
       "output_type": "stream",
       "stream": "stdout",
       "text": [
        "2015-04-16 08:56:53,259 - [DEBUG] adding paths to follow: 0 (0)\n"
       ]
      },
      {
       "output_type": "stream",
       "stream": "stdout",
       "text": [
        "2015-04-16 08:56:53,259 - [DEBUG] adding paths to follow: 0 (0)\n"
       ]
      },
      {
       "output_type": "stream",
       "stream": "stdout",
       "text": [
        "2015-04-16 08:56:53,259 - [DEBUG] adding paths to follow: 0 (0)\n"
       ]
      },
      {
       "output_type": "stream",
       "stream": "stdout",
       "text": [
        "2015-04-16 08:56:53,259 - [DEBUG] adding paths to follow: 0 (0)\n"
       ]
      },
      {
       "output_type": "stream",
       "stream": "stderr",
       "text": [
        "DEBUG:crawler:adding paths to follow: 0 (0)\n"
       ]
      },
      {
       "output_type": "stream",
       "stream": "stdout",
       "text": [
        "2015-04-16 08:56:53,267 - [DEBUG] CATALOGREF element in TSData/catalog.xml (TSdata/BARNEGAT)\n"
       ]
      },
      {
       "output_type": "stream",
       "stream": "stdout",
       "text": [
        "2015-04-16 08:56:53,267 - [DEBUG] CATALOGREF element in TSData/catalog.xml (TSdata/BARNEGAT)\n"
       ]
      },
      {
       "output_type": "stream",
       "stream": "stdout",
       "text": [
        "2015-04-16 08:56:53,267 - [DEBUG] CATALOGREF element in TSData/catalog.xml (TSdata/BARNEGAT)\n"
       ]
      },
      {
       "output_type": "stream",
       "stream": "stdout",
       "text": [
        "2015-04-16 08:56:53,267 - [DEBUG] CATALOGREF element in TSData/catalog.xml (TSdata/BARNEGAT)\n"
       ]
      },
      {
       "output_type": "stream",
       "stream": "stdout",
       "text": [
        "2015-04-16 08:56:53,267 - [DEBUG] CATALOGREF element in TSData/catalog.xml (TSdata/BARNEGAT)\n"
       ]
      },
      {
       "output_type": "stream",
       "stream": "stdout",
       "text": [
        "2015-04-16 08:56:53,267 - [DEBUG] CATALOGREF element in TSData/catalog.xml (TSdata/BARNEGAT)\n"
       ]
      },
      {
       "output_type": "stream",
       "stream": "stdout",
       "text": [
        "2015-04-16 08:56:53,267 - [DEBUG] CATALOGREF element in TSData/catalog.xml (TSdata/BARNEGAT)\n"
       ]
      },
      {
       "output_type": "stream",
       "stream": "stdout",
       "text": [
        "2015-04-16 08:56:53,267 - [DEBUG] CATALOGREF element in TSData/catalog.xml (TSdata/BARNEGAT)\n"
       ]
      },
      {
       "output_type": "stream",
       "stream": "stdout",
       "text": [
        "2015-04-16 08:56:53,267 - [DEBUG] CATALOGREF element in TSData/catalog.xml (TSdata/BARNEGAT)\n"
       ]
      },
      {
       "output_type": "stream",
       "stream": "stdout",
       "text": [
        "2015-04-16 08:56:53,267 - [DEBUG] CATALOGREF element in TSData/catalog.xml (TSdata/BARNEGAT)\n"
       ]
      },
      {
       "output_type": "stream",
       "stream": "stdout",
       "text": [
        "2015-04-16 08:56:53,267 - [DEBUG] CATALOGREF element in TSData/catalog.xml (TSdata/BARNEGAT)\n"
       ]
      },
      {
       "output_type": "stream",
       "stream": "stdout",
       "text": [
        "2015-04-16 08:56:53,267 - [DEBUG] CATALOGREF element in TSData/catalog.xml (TSdata/BARNEGAT)\n"
       ]
      },
      {
       "output_type": "stream",
       "stream": "stdout",
       "text": [
        "2015-04-16 08:56:53,267 - [DEBUG] CATALOGREF element in TSData/catalog.xml (TSdata/BARNEGAT)\n"
       ]
      },
      {
       "output_type": "stream",
       "stream": "stdout",
       "text": [
        "2015-04-16 08:56:53,267 - [DEBUG] CATALOGREF element in TSData/catalog.xml (TSdata/BARNEGAT)\n"
       ]
      },
      {
       "output_type": "stream",
       "stream": "stdout",
       "text": [
        "2015-04-16 08:56:53,267 - [DEBUG] CATALOGREF element in TSData/catalog.xml (TSdata/BARNEGAT)\n"
       ]
      },
      {
       "output_type": "stream",
       "stream": "stdout",
       "text": [
        "2015-04-16 08:56:53,267 - [DEBUG] CATALOGREF element in TSData/catalog.xml (TSdata/BARNEGAT)\n"
       ]
      },
      {
       "output_type": "stream",
       "stream": "stdout",
       "text": [
        "2015-04-16 08:56:53,267 - [DEBUG] CATALOGREF element in TSData/catalog.xml (TSdata/BARNEGAT)\n"
       ]
      },
      {
       "output_type": "stream",
       "stream": "stdout",
       "text": [
        "2015-04-16 08:56:53,267 - [DEBUG] CATALOGREF element in TSData/catalog.xml (TSdata/BARNEGAT)\n"
       ]
      },
      {
       "output_type": "stream",
       "stream": "stdout",
       "text": [
        "2015-04-16 08:56:53,267 - [DEBUG] CATALOGREF element in TSData/catalog.xml (TSdata/BARNEGAT)\n"
       ]
      },
      {
       "output_type": "stream",
       "stream": "stdout",
       "text": [
        "2015-04-16 08:56:53,267 - [DEBUG] CATALOGREF element in TSData/catalog.xml (TSdata/BARNEGAT)\n"
       ]
      },
      {
       "output_type": "stream",
       "stream": "stdout",
       "text": [
        "2015-04-16 08:56:53,267 - [DEBUG] CATALOGREF element in TSData/catalog.xml (TSdata/BARNEGAT)\n"
       ]
      },
      {
       "output_type": "stream",
       "stream": "stderr",
       "text": [
        "DEBUG:crawler:CATALOGREF element in TSData/catalog.xml (TSdata/BARNEGAT)\n"
       ]
      },
      {
       "output_type": "stream",
       "stream": "stdout",
       "text": [
        "2015-04-16 08:56:53,282 - [DEBUG] nope\n"
       ]
      },
      {
       "output_type": "stream",
       "stream": "stdout",
       "text": [
        "2015-04-16 08:56:53,282 - [DEBUG] nope\n"
       ]
      },
      {
       "output_type": "stream",
       "stream": "stdout",
       "text": [
        "2015-04-16 08:56:53,282 - [DEBUG] nope\n"
       ]
      },
      {
       "output_type": "stream",
       "stream": "stdout",
       "text": [
        "2015-04-16 08:56:53,282 - [DEBUG] nope\n"
       ]
      },
      {
       "output_type": "stream",
       "stream": "stdout",
       "text": [
        "2015-04-16 08:56:53,282 - [DEBUG] nope\n"
       ]
      },
      {
       "output_type": "stream",
       "stream": "stdout",
       "text": [
        "2015-04-16 08:56:53,282 - [DEBUG] nope\n"
       ]
      },
      {
       "output_type": "stream",
       "stream": "stdout",
       "text": [
        "2015-04-16 08:56:53,282 - [DEBUG] nope\n"
       ]
      },
      {
       "output_type": "stream",
       "stream": "stdout",
       "text": [
        "2015-04-16 08:56:53,282 - [DEBUG] nope\n"
       ]
      },
      {
       "output_type": "stream",
       "stream": "stdout",
       "text": [
        "2015-04-16 08:56:53,282 - [DEBUG] nope\n"
       ]
      },
      {
       "output_type": "stream",
       "stream": "stdout",
       "text": [
        "2015-04-16 08:56:53,282 - [DEBUG] nope\n"
       ]
      },
      {
       "output_type": "stream",
       "stream": "stdout",
       "text": [
        "2015-04-16 08:56:53,282 - [DEBUG] nope\n"
       ]
      },
      {
       "output_type": "stream",
       "stream": "stdout",
       "text": [
        "2015-04-16 08:56:53,282 - [DEBUG] nope\n"
       ]
      },
      {
       "output_type": "stream",
       "stream": "stdout",
       "text": [
        "2015-04-16 08:56:53,282 - [DEBUG] nope\n"
       ]
      },
      {
       "output_type": "stream",
       "stream": "stdout",
       "text": [
        "2015-04-16 08:56:53,282 - [DEBUG] nope\n"
       ]
      },
      {
       "output_type": "stream",
       "stream": "stdout",
       "text": [
        "2015-04-16 08:56:53,282 - [DEBUG] nope\n"
       ]
      },
      {
       "output_type": "stream",
       "stream": "stdout",
       "text": [
        "2015-04-16 08:56:53,282 - [DEBUG] nope\n"
       ]
      },
      {
       "output_type": "stream",
       "stream": "stdout",
       "text": [
        "2015-04-16 08:56:53,282 - [DEBUG] nope\n"
       ]
      },
      {
       "output_type": "stream",
       "stream": "stdout",
       "text": [
        "2015-04-16 08:56:53,282 - [DEBUG] nope\n"
       ]
      },
      {
       "output_type": "stream",
       "stream": "stdout",
       "text": [
        "2015-04-16 08:56:53,282 - [DEBUG] nope\n"
       ]
      },
      {
       "output_type": "stream",
       "stream": "stdout",
       "text": [
        "2015-04-16 08:56:53,282 - [DEBUG] nope\n"
       ]
      },
      {
       "output_type": "stream",
       "stream": "stdout",
       "text": [
        "2015-04-16 08:56:53,282 - [DEBUG] nope\n"
       ]
      },
      {
       "output_type": "stream",
       "stream": "stderr",
       "text": [
        "DEBUG:crawler:nope\n"
       ]
      },
      {
       "output_type": "stream",
       "stream": "stdout",
       "text": [
        "2015-04-16 08:56:53,290 - [DEBUG] TSdata/BARNEGAT has 0 links to follow\n"
       ]
      },
      {
       "output_type": "stream",
       "stream": "stdout",
       "text": [
        "2015-04-16 08:56:53,290 - [DEBUG] TSdata/BARNEGAT has 0 links to follow\n"
       ]
      },
      {
       "output_type": "stream",
       "stream": "stdout",
       "text": [
        "2015-04-16 08:56:53,290 - [DEBUG] TSdata/BARNEGAT has 0 links to follow\n"
       ]
      },
      {
       "output_type": "stream",
       "stream": "stdout",
       "text": [
        "2015-04-16 08:56:53,290 - [DEBUG] TSdata/BARNEGAT has 0 links to follow\n"
       ]
      },
      {
       "output_type": "stream",
       "stream": "stdout",
       "text": [
        "2015-04-16 08:56:53,290 - [DEBUG] TSdata/BARNEGAT has 0 links to follow\n"
       ]
      },
      {
       "output_type": "stream",
       "stream": "stdout",
       "text": [
        "2015-04-16 08:56:53,290 - [DEBUG] TSdata/BARNEGAT has 0 links to follow\n"
       ]
      },
      {
       "output_type": "stream",
       "stream": "stdout",
       "text": [
        "2015-04-16 08:56:53,290 - [DEBUG] TSdata/BARNEGAT has 0 links to follow\n"
       ]
      },
      {
       "output_type": "stream",
       "stream": "stdout",
       "text": [
        "2015-04-16 08:56:53,290 - [DEBUG] TSdata/BARNEGAT has 0 links to follow\n"
       ]
      },
      {
       "output_type": "stream",
       "stream": "stdout",
       "text": [
        "2015-04-16 08:56:53,290 - [DEBUG] TSdata/BARNEGAT has 0 links to follow\n"
       ]
      },
      {
       "output_type": "stream",
       "stream": "stdout",
       "text": [
        "2015-04-16 08:56:53,290 - [DEBUG] TSdata/BARNEGAT has 0 links to follow\n"
       ]
      },
      {
       "output_type": "stream",
       "stream": "stdout",
       "text": [
        "2015-04-16 08:56:53,290 - [DEBUG] TSdata/BARNEGAT has 0 links to follow\n"
       ]
      },
      {
       "output_type": "stream",
       "stream": "stdout",
       "text": [
        "2015-04-16 08:56:53,290 - [DEBUG] TSdata/BARNEGAT has 0 links to follow\n"
       ]
      },
      {
       "output_type": "stream",
       "stream": "stdout",
       "text": [
        "2015-04-16 08:56:53,290 - [DEBUG] TSdata/BARNEGAT has 0 links to follow\n"
       ]
      },
      {
       "output_type": "stream",
       "stream": "stdout",
       "text": [
        "2015-04-16 08:56:53,290 - [DEBUG] TSdata/BARNEGAT has 0 links to follow\n"
       ]
      },
      {
       "output_type": "stream",
       "stream": "stdout",
       "text": [
        "2015-04-16 08:56:53,290 - [DEBUG] TSdata/BARNEGAT has 0 links to follow\n"
       ]
      },
      {
       "output_type": "stream",
       "stream": "stdout",
       "text": [
        "2015-04-16 08:56:53,290 - [DEBUG] TSdata/BARNEGAT has 0 links to follow\n"
       ]
      },
      {
       "output_type": "stream",
       "stream": "stdout",
       "text": [
        "2015-04-16 08:56:53,290 - [DEBUG] TSdata/BARNEGAT has 0 links to follow\n"
       ]
      },
      {
       "output_type": "stream",
       "stream": "stdout",
       "text": [
        "2015-04-16 08:56:53,290 - [DEBUG] TSdata/BARNEGAT has 0 links to follow\n"
       ]
      },
      {
       "output_type": "stream",
       "stream": "stdout",
       "text": [
        "2015-04-16 08:56:53,290 - [DEBUG] TSdata/BARNEGAT has 0 links to follow\n"
       ]
      },
      {
       "output_type": "stream",
       "stream": "stdout",
       "text": [
        "2015-04-16 08:56:53,290 - [DEBUG] TSdata/BARNEGAT has 0 links to follow\n"
       ]
      },
      {
       "output_type": "stream",
       "stream": "stdout",
       "text": [
        "2015-04-16 08:56:53,290 - [DEBUG] TSdata/BARNEGAT has 0 links to follow\n"
       ]
      },
      {
       "output_type": "stream",
       "stream": "stderr",
       "text": [
        "DEBUG:crawler:TSdata/BARNEGAT has 0 links to follow\n"
       ]
      },
      {
       "output_type": "stream",
       "stream": "stdout",
       "text": [
        "2015-04-16 08:56:53,303 - [DEBUG] adding paths to follow: 0 (0)\n"
       ]
      },
      {
       "output_type": "stream",
       "stream": "stdout",
       "text": [
        "2015-04-16 08:56:53,303 - [DEBUG] adding paths to follow: 0 (0)\n"
       ]
      },
      {
       "output_type": "stream",
       "stream": "stdout",
       "text": [
        "2015-04-16 08:56:53,303 - [DEBUG] adding paths to follow: 0 (0)\n"
       ]
      },
      {
       "output_type": "stream",
       "stream": "stdout",
       "text": [
        "2015-04-16 08:56:53,303 - [DEBUG] adding paths to follow: 0 (0)\n"
       ]
      },
      {
       "output_type": "stream",
       "stream": "stdout",
       "text": [
        "2015-04-16 08:56:53,303 - [DEBUG] adding paths to follow: 0 (0)\n"
       ]
      },
      {
       "output_type": "stream",
       "stream": "stdout",
       "text": [
        "2015-04-16 08:56:53,303 - [DEBUG] adding paths to follow: 0 (0)\n"
       ]
      },
      {
       "output_type": "stream",
       "stream": "stdout",
       "text": [
        "2015-04-16 08:56:53,303 - [DEBUG] adding paths to follow: 0 (0)\n"
       ]
      },
      {
       "output_type": "stream",
       "stream": "stdout",
       "text": [
        "2015-04-16 08:56:53,303 - [DEBUG] adding paths to follow: 0 (0)\n"
       ]
      },
      {
       "output_type": "stream",
       "stream": "stdout",
       "text": [
        "2015-04-16 08:56:53,303 - [DEBUG] adding paths to follow: 0 (0)\n"
       ]
      },
      {
       "output_type": "stream",
       "stream": "stdout",
       "text": [
        "2015-04-16 08:56:53,303 - [DEBUG] adding paths to follow: 0 (0)\n"
       ]
      },
      {
       "output_type": "stream",
       "stream": "stdout",
       "text": [
        "2015-04-16 08:56:53,303 - [DEBUG] adding paths to follow: 0 (0)\n"
       ]
      },
      {
       "output_type": "stream",
       "stream": "stdout",
       "text": [
        "2015-04-16 08:56:53,303 - [DEBUG] adding paths to follow: 0 (0)\n"
       ]
      },
      {
       "output_type": "stream",
       "stream": "stdout",
       "text": [
        "2015-04-16 08:56:53,303 - [DEBUG] adding paths to follow: 0 (0)\n"
       ]
      },
      {
       "output_type": "stream",
       "stream": "stdout",
       "text": [
        "2015-04-16 08:56:53,303 - [DEBUG] adding paths to follow: 0 (0)\n"
       ]
      },
      {
       "output_type": "stream",
       "stream": "stdout",
       "text": [
        "2015-04-16 08:56:53,303 - [DEBUG] adding paths to follow: 0 (0)\n"
       ]
      },
      {
       "output_type": "stream",
       "stream": "stdout",
       "text": [
        "2015-04-16 08:56:53,303 - [DEBUG] adding paths to follow: 0 (0)\n"
       ]
      },
      {
       "output_type": "stream",
       "stream": "stdout",
       "text": [
        "2015-04-16 08:56:53,303 - [DEBUG] adding paths to follow: 0 (0)\n"
       ]
      },
      {
       "output_type": "stream",
       "stream": "stdout",
       "text": [
        "2015-04-16 08:56:53,303 - [DEBUG] adding paths to follow: 0 (0)\n"
       ]
      },
      {
       "output_type": "stream",
       "stream": "stdout",
       "text": [
        "2015-04-16 08:56:53,303 - [DEBUG] adding paths to follow: 0 (0)\n"
       ]
      },
      {
       "output_type": "stream",
       "stream": "stdout",
       "text": [
        "2015-04-16 08:56:53,303 - [DEBUG] adding paths to follow: 0 (0)\n"
       ]
      },
      {
       "output_type": "stream",
       "stream": "stdout",
       "text": [
        "2015-04-16 08:56:53,303 - [DEBUG] adding paths to follow: 0 (0)\n"
       ]
      },
      {
       "output_type": "stream",
       "stream": "stderr",
       "text": [
        "DEBUG:crawler:adding paths to follow: 0 (0)\n"
       ]
      },
      {
       "output_type": "stream",
       "stream": "stdout",
       "text": [
        "2015-04-16 08:56:53,317 - [DEBUG] fetched paths 1 (0)\n"
       ]
      },
      {
       "output_type": "stream",
       "stream": "stdout",
       "text": [
        "2015-04-16 08:56:53,317 - [DEBUG] fetched paths 1 (0)\n"
       ]
      },
      {
       "output_type": "stream",
       "stream": "stdout",
       "text": [
        "2015-04-16 08:56:53,317 - [DEBUG] fetched paths 1 (0)\n"
       ]
      },
      {
       "output_type": "stream",
       "stream": "stdout",
       "text": [
        "2015-04-16 08:56:53,317 - [DEBUG] fetched paths 1 (0)\n"
       ]
      },
      {
       "output_type": "stream",
       "stream": "stdout",
       "text": [
        "2015-04-16 08:56:53,317 - [DEBUG] fetched paths 1 (0)\n"
       ]
      },
      {
       "output_type": "stream",
       "stream": "stdout",
       "text": [
        "2015-04-16 08:56:53,317 - [DEBUG] fetched paths 1 (0)\n"
       ]
      },
      {
       "output_type": "stream",
       "stream": "stdout",
       "text": [
        "2015-04-16 08:56:53,317 - [DEBUG] fetched paths 1 (0)\n"
       ]
      },
      {
       "output_type": "stream",
       "stream": "stdout",
       "text": [
        "2015-04-16 08:56:53,317 - [DEBUG] fetched paths 1 (0)\n"
       ]
      },
      {
       "output_type": "stream",
       "stream": "stdout",
       "text": [
        "2015-04-16 08:56:53,317 - [DEBUG] fetched paths 1 (0)\n"
       ]
      },
      {
       "output_type": "stream",
       "stream": "stdout",
       "text": [
        "2015-04-16 08:56:53,317 - [DEBUG] fetched paths 1 (0)\n"
       ]
      },
      {
       "output_type": "stream",
       "stream": "stdout",
       "text": [
        "2015-04-16 08:56:53,317 - [DEBUG] fetched paths 1 (0)\n"
       ]
      },
      {
       "output_type": "stream",
       "stream": "stdout",
       "text": [
        "2015-04-16 08:56:53,317 - [DEBUG] fetched paths 1 (0)\n"
       ]
      },
      {
       "output_type": "stream",
       "stream": "stdout",
       "text": [
        "2015-04-16 08:56:53,317 - [DEBUG] fetched paths 1 (0)\n"
       ]
      },
      {
       "output_type": "stream",
       "stream": "stdout",
       "text": [
        "2015-04-16 08:56:53,317 - [DEBUG] fetched paths 1 (0)\n"
       ]
      },
      {
       "output_type": "stream",
       "stream": "stdout",
       "text": [
        "2015-04-16 08:56:53,317 - [DEBUG] fetched paths 1 (0)\n"
       ]
      },
      {
       "output_type": "stream",
       "stream": "stdout",
       "text": [
        "2015-04-16 08:56:53,317 - [DEBUG] fetched paths 1 (0)\n"
       ]
      },
      {
       "output_type": "stream",
       "stream": "stdout",
       "text": [
        "2015-04-16 08:56:53,317 - [DEBUG] fetched paths 1 (0)\n"
       ]
      },
      {
       "output_type": "stream",
       "stream": "stdout",
       "text": [
        "2015-04-16 08:56:53,317 - [DEBUG] fetched paths 1 (0)\n"
       ]
      },
      {
       "output_type": "stream",
       "stream": "stdout",
       "text": [
        "2015-04-16 08:56:53,317 - [DEBUG] fetched paths 1 (0)\n"
       ]
      },
      {
       "output_type": "stream",
       "stream": "stdout",
       "text": [
        "2015-04-16 08:56:53,317 - [DEBUG] fetched paths 1 (0)\n"
       ]
      },
      {
       "output_type": "stream",
       "stream": "stdout",
       "text": [
        "2015-04-16 08:56:53,317 - [DEBUG] fetched paths 1 (0)\n"
       ]
      },
      {
       "output_type": "stream",
       "stream": "stderr",
       "text": [
        "DEBUG:crawler:fetched paths 1 (0)\n"
       ]
      },
      {
       "output_type": "stream",
       "stream": "stdout",
       "text": [
        "2015-04-16 08:56:53,332 - [DEBUG] starting paths to follow: 0 : TSData/catalog.xml\n"
       ]
      },
      {
       "output_type": "stream",
       "stream": "stdout",
       "text": [
        "2015-04-16 08:56:53,332 - [DEBUG] starting paths to follow: 0 : TSData/catalog.xml\n"
       ]
      },
      {
       "output_type": "stream",
       "stream": "stdout",
       "text": [
        "2015-04-16 08:56:53,332 - [DEBUG] starting paths to follow: 0 : TSData/catalog.xml\n"
       ]
      },
      {
       "output_type": "stream",
       "stream": "stdout",
       "text": [
        "2015-04-16 08:56:53,332 - [DEBUG] starting paths to follow: 0 : TSData/catalog.xml\n"
       ]
      },
      {
       "output_type": "stream",
       "stream": "stdout",
       "text": [
        "2015-04-16 08:56:53,332 - [DEBUG] starting paths to follow: 0 : TSData/catalog.xml\n"
       ]
      },
      {
       "output_type": "stream",
       "stream": "stdout",
       "text": [
        "2015-04-16 08:56:53,332 - [DEBUG] starting paths to follow: 0 : TSData/catalog.xml\n"
       ]
      },
      {
       "output_type": "stream",
       "stream": "stdout",
       "text": [
        "2015-04-16 08:56:53,332 - [DEBUG] starting paths to follow: 0 : TSData/catalog.xml\n"
       ]
      },
      {
       "output_type": "stream",
       "stream": "stdout",
       "text": [
        "2015-04-16 08:56:53,332 - [DEBUG] starting paths to follow: 0 : TSData/catalog.xml\n"
       ]
      },
      {
       "output_type": "stream",
       "stream": "stdout",
       "text": [
        "2015-04-16 08:56:53,332 - [DEBUG] starting paths to follow: 0 : TSData/catalog.xml\n"
       ]
      },
      {
       "output_type": "stream",
       "stream": "stdout",
       "text": [
        "2015-04-16 08:56:53,332 - [DEBUG] starting paths to follow: 0 : TSData/catalog.xml\n"
       ]
      },
      {
       "output_type": "stream",
       "stream": "stdout",
       "text": [
        "2015-04-16 08:56:53,332 - [DEBUG] starting paths to follow: 0 : TSData/catalog.xml\n"
       ]
      },
      {
       "output_type": "stream",
       "stream": "stdout",
       "text": [
        "2015-04-16 08:56:53,332 - [DEBUG] starting paths to follow: 0 : TSData/catalog.xml\n"
       ]
      },
      {
       "output_type": "stream",
       "stream": "stdout",
       "text": [
        "2015-04-16 08:56:53,332 - [DEBUG] starting paths to follow: 0 : TSData/catalog.xml\n"
       ]
      },
      {
       "output_type": "stream",
       "stream": "stdout",
       "text": [
        "2015-04-16 08:56:53,332 - [DEBUG] starting paths to follow: 0 : TSData/catalog.xml\n"
       ]
      },
      {
       "output_type": "stream",
       "stream": "stdout",
       "text": [
        "2015-04-16 08:56:53,332 - [DEBUG] starting paths to follow: 0 : TSData/catalog.xml\n"
       ]
      },
      {
       "output_type": "stream",
       "stream": "stdout",
       "text": [
        "2015-04-16 08:56:53,332 - [DEBUG] starting paths to follow: 0 : TSData/catalog.xml\n"
       ]
      },
      {
       "output_type": "stream",
       "stream": "stdout",
       "text": [
        "2015-04-16 08:56:53,332 - [DEBUG] starting paths to follow: 0 : TSData/catalog.xml\n"
       ]
      },
      {
       "output_type": "stream",
       "stream": "stdout",
       "text": [
        "2015-04-16 08:56:53,332 - [DEBUG] starting paths to follow: 0 : TSData/catalog.xml\n"
       ]
      },
      {
       "output_type": "stream",
       "stream": "stdout",
       "text": [
        "2015-04-16 08:56:53,332 - [DEBUG] starting paths to follow: 0 : TSData/catalog.xml\n"
       ]
      },
      {
       "output_type": "stream",
       "stream": "stdout",
       "text": [
        "2015-04-16 08:56:53,332 - [DEBUG] starting paths to follow: 0 : TSData/catalog.xml\n"
       ]
      },
      {
       "output_type": "stream",
       "stream": "stdout",
       "text": [
        "2015-04-16 08:56:53,332 - [DEBUG] starting paths to follow: 0 : TSData/catalog.xml\n"
       ]
      },
      {
       "output_type": "stream",
       "stream": "stderr",
       "text": [
        "DEBUG:crawler:starting paths to follow: 0 : TSData/catalog.xml\n"
       ]
      },
      {
       "output_type": "stream",
       "stream": "stdout",
       "text": [
        "2015-04-16 08:56:53,339 - [DEBUG] parsed file TSData/catalog.xml\n"
       ]
      },
      {
       "output_type": "stream",
       "stream": "stdout",
       "text": [
        "2015-04-16 08:56:53,339 - [DEBUG] parsed file TSData/catalog.xml\n"
       ]
      },
      {
       "output_type": "stream",
       "stream": "stdout",
       "text": [
        "2015-04-16 08:56:53,339 - [DEBUG] parsed file TSData/catalog.xml\n"
       ]
      },
      {
       "output_type": "stream",
       "stream": "stdout",
       "text": [
        "2015-04-16 08:56:53,339 - [DEBUG] parsed file TSData/catalog.xml\n"
       ]
      },
      {
       "output_type": "stream",
       "stream": "stdout",
       "text": [
        "2015-04-16 08:56:53,339 - [DEBUG] parsed file TSData/catalog.xml\n"
       ]
      },
      {
       "output_type": "stream",
       "stream": "stdout",
       "text": [
        "2015-04-16 08:56:53,339 - [DEBUG] parsed file TSData/catalog.xml\n"
       ]
      },
      {
       "output_type": "stream",
       "stream": "stdout",
       "text": [
        "2015-04-16 08:56:53,339 - [DEBUG] parsed file TSData/catalog.xml\n"
       ]
      },
      {
       "output_type": "stream",
       "stream": "stdout",
       "text": [
        "2015-04-16 08:56:53,339 - [DEBUG] parsed file TSData/catalog.xml\n"
       ]
      },
      {
       "output_type": "stream",
       "stream": "stdout",
       "text": [
        "2015-04-16 08:56:53,339 - [DEBUG] parsed file TSData/catalog.xml\n"
       ]
      },
      {
       "output_type": "stream",
       "stream": "stdout",
       "text": [
        "2015-04-16 08:56:53,339 - [DEBUG] parsed file TSData/catalog.xml\n"
       ]
      },
      {
       "output_type": "stream",
       "stream": "stdout",
       "text": [
        "2015-04-16 08:56:53,339 - [DEBUG] parsed file TSData/catalog.xml\n"
       ]
      },
      {
       "output_type": "stream",
       "stream": "stdout",
       "text": [
        "2015-04-16 08:56:53,339 - [DEBUG] parsed file TSData/catalog.xml\n"
       ]
      },
      {
       "output_type": "stream",
       "stream": "stdout",
       "text": [
        "2015-04-16 08:56:53,339 - [DEBUG] parsed file TSData/catalog.xml\n"
       ]
      },
      {
       "output_type": "stream",
       "stream": "stdout",
       "text": [
        "2015-04-16 08:56:53,339 - [DEBUG] parsed file TSData/catalog.xml\n"
       ]
      },
      {
       "output_type": "stream",
       "stream": "stdout",
       "text": [
        "2015-04-16 08:56:53,339 - [DEBUG] parsed file TSData/catalog.xml\n"
       ]
      },
      {
       "output_type": "stream",
       "stream": "stdout",
       "text": [
        "2015-04-16 08:56:53,339 - [DEBUG] parsed file TSData/catalog.xml\n"
       ]
      },
      {
       "output_type": "stream",
       "stream": "stdout",
       "text": [
        "2015-04-16 08:56:53,339 - [DEBUG] parsed file TSData/catalog.xml\n"
       ]
      },
      {
       "output_type": "stream",
       "stream": "stdout",
       "text": [
        "2015-04-16 08:56:53,339 - [DEBUG] parsed file TSData/catalog.xml\n"
       ]
      },
      {
       "output_type": "stream",
       "stream": "stdout",
       "text": [
        "2015-04-16 08:56:53,339 - [DEBUG] parsed file TSData/catalog.xml\n"
       ]
      },
      {
       "output_type": "stream",
       "stream": "stdout",
       "text": [
        "2015-04-16 08:56:53,339 - [DEBUG] parsed file TSData/catalog.xml\n"
       ]
      },
      {
       "output_type": "stream",
       "stream": "stdout",
       "text": [
        "2015-04-16 08:56:53,339 - [DEBUG] parsed file TSData/catalog.xml\n"
       ]
      },
      {
       "output_type": "stream",
       "stream": "stderr",
       "text": [
        "DEBUG:crawler:parsed file TSData/catalog.xml\n"
       ]
      },
      {
       "output_type": "stream",
       "stream": "stdout",
       "text": [
        "2015-04-16 08:56:53,345 - [DEBUG] number of elements found 2\n"
       ]
      },
      {
       "output_type": "stream",
       "stream": "stdout",
       "text": [
        "2015-04-16 08:56:53,345 - [DEBUG] number of elements found 2\n"
       ]
      },
      {
       "output_type": "stream",
       "stream": "stdout",
       "text": [
        "2015-04-16 08:56:53,345 - [DEBUG] number of elements found 2\n"
       ]
      },
      {
       "output_type": "stream",
       "stream": "stdout",
       "text": [
        "2015-04-16 08:56:53,345 - [DEBUG] number of elements found 2\n"
       ]
      },
      {
       "output_type": "stream",
       "stream": "stdout",
       "text": [
        "2015-04-16 08:56:53,345 - [DEBUG] number of elements found 2\n"
       ]
      },
      {
       "output_type": "stream",
       "stream": "stdout",
       "text": [
        "2015-04-16 08:56:53,345 - [DEBUG] number of elements found 2\n"
       ]
      },
      {
       "output_type": "stream",
       "stream": "stdout",
       "text": [
        "2015-04-16 08:56:53,345 - [DEBUG] number of elements found 2\n"
       ]
      },
      {
       "output_type": "stream",
       "stream": "stdout",
       "text": [
        "2015-04-16 08:56:53,345 - [DEBUG] number of elements found 2\n"
       ]
      },
      {
       "output_type": "stream",
       "stream": "stdout",
       "text": [
        "2015-04-16 08:56:53,345 - [DEBUG] number of elements found 2\n"
       ]
      },
      {
       "output_type": "stream",
       "stream": "stdout",
       "text": [
        "2015-04-16 08:56:53,345 - [DEBUG] number of elements found 2\n"
       ]
      },
      {
       "output_type": "stream",
       "stream": "stdout",
       "text": [
        "2015-04-16 08:56:53,345 - [DEBUG] number of elements found 2\n"
       ]
      },
      {
       "output_type": "stream",
       "stream": "stdout",
       "text": [
        "2015-04-16 08:56:53,345 - [DEBUG] number of elements found 2\n"
       ]
      },
      {
       "output_type": "stream",
       "stream": "stdout",
       "text": [
        "2015-04-16 08:56:53,345 - [DEBUG] number of elements found 2\n"
       ]
      },
      {
       "output_type": "stream",
       "stream": "stdout",
       "text": [
        "2015-04-16 08:56:53,345 - [DEBUG] number of elements found 2\n"
       ]
      },
      {
       "output_type": "stream",
       "stream": "stdout",
       "text": [
        "2015-04-16 08:56:53,345 - [DEBUG] number of elements found 2\n"
       ]
      },
      {
       "output_type": "stream",
       "stream": "stdout",
       "text": [
        "2015-04-16 08:56:53,345 - [DEBUG] number of elements found 2\n"
       ]
      },
      {
       "output_type": "stream",
       "stream": "stdout",
       "text": [
        "2015-04-16 08:56:53,345 - [DEBUG] number of elements found 2\n"
       ]
      },
      {
       "output_type": "stream",
       "stream": "stdout",
       "text": [
        "2015-04-16 08:56:53,345 - [DEBUG] number of elements found 2\n"
       ]
      },
      {
       "output_type": "stream",
       "stream": "stdout",
       "text": [
        "2015-04-16 08:56:53,345 - [DEBUG] number of elements found 2\n"
       ]
      },
      {
       "output_type": "stream",
       "stream": "stdout",
       "text": [
        "2015-04-16 08:56:53,345 - [DEBUG] number of elements found 2\n"
       ]
      },
      {
       "output_type": "stream",
       "stream": "stdout",
       "text": [
        "2015-04-16 08:56:53,345 - [DEBUG] number of elements found 2\n"
       ]
      },
      {
       "output_type": "stream",
       "stream": "stderr",
       "text": [
        "DEBUG:crawler:number of elements found 2\n"
       ]
      },
      {
       "output_type": "stream",
       "stream": "stdout",
       "text": [
        "2015-04-16 08:56:53,351 - [DEBUG] CATALOGREF element in TSData/catalog.xml (TSdata/ARGO_MERCHANT)\n"
       ]
      },
      {
       "output_type": "stream",
       "stream": "stdout",
       "text": [
        "2015-04-16 08:56:53,351 - [DEBUG] CATALOGREF element in TSData/catalog.xml (TSdata/ARGO_MERCHANT)\n"
       ]
      },
      {
       "output_type": "stream",
       "stream": "stdout",
       "text": [
        "2015-04-16 08:56:53,351 - [DEBUG] CATALOGREF element in TSData/catalog.xml (TSdata/ARGO_MERCHANT)\n"
       ]
      },
      {
       "output_type": "stream",
       "stream": "stdout",
       "text": [
        "2015-04-16 08:56:53,351 - [DEBUG] CATALOGREF element in TSData/catalog.xml (TSdata/ARGO_MERCHANT)\n"
       ]
      },
      {
       "output_type": "stream",
       "stream": "stdout",
       "text": [
        "2015-04-16 08:56:53,351 - [DEBUG] CATALOGREF element in TSData/catalog.xml (TSdata/ARGO_MERCHANT)\n"
       ]
      },
      {
       "output_type": "stream",
       "stream": "stdout",
       "text": [
        "2015-04-16 08:56:53,351 - [DEBUG] CATALOGREF element in TSData/catalog.xml (TSdata/ARGO_MERCHANT)\n"
       ]
      },
      {
       "output_type": "stream",
       "stream": "stdout",
       "text": [
        "2015-04-16 08:56:53,351 - [DEBUG] CATALOGREF element in TSData/catalog.xml (TSdata/ARGO_MERCHANT)\n"
       ]
      },
      {
       "output_type": "stream",
       "stream": "stdout",
       "text": [
        "2015-04-16 08:56:53,351 - [DEBUG] CATALOGREF element in TSData/catalog.xml (TSdata/ARGO_MERCHANT)\n"
       ]
      },
      {
       "output_type": "stream",
       "stream": "stdout",
       "text": [
        "2015-04-16 08:56:53,351 - [DEBUG] CATALOGREF element in TSData/catalog.xml (TSdata/ARGO_MERCHANT)\n"
       ]
      },
      {
       "output_type": "stream",
       "stream": "stdout",
       "text": [
        "2015-04-16 08:56:53,351 - [DEBUG] CATALOGREF element in TSData/catalog.xml (TSdata/ARGO_MERCHANT)\n"
       ]
      },
      {
       "output_type": "stream",
       "stream": "stdout",
       "text": [
        "2015-04-16 08:56:53,351 - [DEBUG] CATALOGREF element in TSData/catalog.xml (TSdata/ARGO_MERCHANT)\n"
       ]
      },
      {
       "output_type": "stream",
       "stream": "stdout",
       "text": [
        "2015-04-16 08:56:53,351 - [DEBUG] CATALOGREF element in TSData/catalog.xml (TSdata/ARGO_MERCHANT)\n"
       ]
      },
      {
       "output_type": "stream",
       "stream": "stdout",
       "text": [
        "2015-04-16 08:56:53,351 - [DEBUG] CATALOGREF element in TSData/catalog.xml (TSdata/ARGO_MERCHANT)\n"
       ]
      },
      {
       "output_type": "stream",
       "stream": "stdout",
       "text": [
        "2015-04-16 08:56:53,351 - [DEBUG] CATALOGREF element in TSData/catalog.xml (TSdata/ARGO_MERCHANT)\n"
       ]
      },
      {
       "output_type": "stream",
       "stream": "stdout",
       "text": [
        "2015-04-16 08:56:53,351 - [DEBUG] CATALOGREF element in TSData/catalog.xml (TSdata/ARGO_MERCHANT)\n"
       ]
      },
      {
       "output_type": "stream",
       "stream": "stdout",
       "text": [
        "2015-04-16 08:56:53,351 - [DEBUG] CATALOGREF element in TSData/catalog.xml (TSdata/ARGO_MERCHANT)\n"
       ]
      },
      {
       "output_type": "stream",
       "stream": "stdout",
       "text": [
        "2015-04-16 08:56:53,351 - [DEBUG] CATALOGREF element in TSData/catalog.xml (TSdata/ARGO_MERCHANT)\n"
       ]
      },
      {
       "output_type": "stream",
       "stream": "stdout",
       "text": [
        "2015-04-16 08:56:53,351 - [DEBUG] CATALOGREF element in TSData/catalog.xml (TSdata/ARGO_MERCHANT)\n"
       ]
      },
      {
       "output_type": "stream",
       "stream": "stdout",
       "text": [
        "2015-04-16 08:56:53,351 - [DEBUG] CATALOGREF element in TSData/catalog.xml (TSdata/ARGO_MERCHANT)\n"
       ]
      },
      {
       "output_type": "stream",
       "stream": "stdout",
       "text": [
        "2015-04-16 08:56:53,351 - [DEBUG] CATALOGREF element in TSData/catalog.xml (TSdata/ARGO_MERCHANT)\n"
       ]
      },
      {
       "output_type": "stream",
       "stream": "stdout",
       "text": [
        "2015-04-16 08:56:53,351 - [DEBUG] CATALOGREF element in TSData/catalog.xml (TSdata/ARGO_MERCHANT)\n"
       ]
      },
      {
       "output_type": "stream",
       "stream": "stderr",
       "text": [
        "DEBUG:crawler:CATALOGREF element in TSData/catalog.xml (TSdata/ARGO_MERCHANT)\n"
       ]
      },
      {
       "output_type": "stream",
       "stream": "stdout",
       "text": [
        "2015-04-16 08:56:53,355 - [DEBUG] nope\n"
       ]
      },
      {
       "output_type": "stream",
       "stream": "stdout",
       "text": [
        "2015-04-16 08:56:53,355 - [DEBUG] nope\n"
       ]
      },
      {
       "output_type": "stream",
       "stream": "stdout",
       "text": [
        "2015-04-16 08:56:53,355 - [DEBUG] nope\n"
       ]
      },
      {
       "output_type": "stream",
       "stream": "stdout",
       "text": [
        "2015-04-16 08:56:53,355 - [DEBUG] nope\n"
       ]
      },
      {
       "output_type": "stream",
       "stream": "stdout",
       "text": [
        "2015-04-16 08:56:53,355 - [DEBUG] nope\n"
       ]
      },
      {
       "output_type": "stream",
       "stream": "stdout",
       "text": [
        "2015-04-16 08:56:53,355 - [DEBUG] nope\n"
       ]
      },
      {
       "output_type": "stream",
       "stream": "stdout",
       "text": [
        "2015-04-16 08:56:53,355 - [DEBUG] nope\n"
       ]
      },
      {
       "output_type": "stream",
       "stream": "stdout",
       "text": [
        "2015-04-16 08:56:53,355 - [DEBUG] nope\n"
       ]
      },
      {
       "output_type": "stream",
       "stream": "stdout",
       "text": [
        "2015-04-16 08:56:53,355 - [DEBUG] nope\n"
       ]
      },
      {
       "output_type": "stream",
       "stream": "stdout",
       "text": [
        "2015-04-16 08:56:53,355 - [DEBUG] nope\n"
       ]
      },
      {
       "output_type": "stream",
       "stream": "stdout",
       "text": [
        "2015-04-16 08:56:53,355 - [DEBUG] nope\n"
       ]
      },
      {
       "output_type": "stream",
       "stream": "stdout",
       "text": [
        "2015-04-16 08:56:53,355 - [DEBUG] nope\n"
       ]
      },
      {
       "output_type": "stream",
       "stream": "stdout",
       "text": [
        "2015-04-16 08:56:53,355 - [DEBUG] nope\n"
       ]
      },
      {
       "output_type": "stream",
       "stream": "stdout",
       "text": [
        "2015-04-16 08:56:53,355 - [DEBUG] nope\n"
       ]
      },
      {
       "output_type": "stream",
       "stream": "stdout",
       "text": [
        "2015-04-16 08:56:53,355 - [DEBUG] nope\n"
       ]
      },
      {
       "output_type": "stream",
       "stream": "stdout",
       "text": [
        "2015-04-16 08:56:53,355 - [DEBUG] nope\n"
       ]
      },
      {
       "output_type": "stream",
       "stream": "stdout",
       "text": [
        "2015-04-16 08:56:53,355 - [DEBUG] nope\n"
       ]
      },
      {
       "output_type": "stream",
       "stream": "stdout",
       "text": [
        "2015-04-16 08:56:53,355 - [DEBUG] nope\n"
       ]
      },
      {
       "output_type": "stream",
       "stream": "stdout",
       "text": [
        "2015-04-16 08:56:53,355 - [DEBUG] nope\n"
       ]
      },
      {
       "output_type": "stream",
       "stream": "stdout",
       "text": [
        "2015-04-16 08:56:53,355 - [DEBUG] nope\n"
       ]
      },
      {
       "output_type": "stream",
       "stream": "stdout",
       "text": [
        "2015-04-16 08:56:53,355 - [DEBUG] nope\n"
       ]
      },
      {
       "output_type": "stream",
       "stream": "stderr",
       "text": [
        "DEBUG:crawler:nope\n"
       ]
      },
      {
       "output_type": "stream",
       "stream": "stdout",
       "text": [
        "2015-04-16 08:56:53,359 - [DEBUG] TSdata/ARGO_MERCHANT has 0 links to follow\n"
       ]
      },
      {
       "output_type": "stream",
       "stream": "stdout",
       "text": [
        "2015-04-16 08:56:53,359 - [DEBUG] TSdata/ARGO_MERCHANT has 0 links to follow\n"
       ]
      },
      {
       "output_type": "stream",
       "stream": "stdout",
       "text": [
        "2015-04-16 08:56:53,359 - [DEBUG] TSdata/ARGO_MERCHANT has 0 links to follow\n"
       ]
      },
      {
       "output_type": "stream",
       "stream": "stdout",
       "text": [
        "2015-04-16 08:56:53,359 - [DEBUG] TSdata/ARGO_MERCHANT has 0 links to follow\n"
       ]
      },
      {
       "output_type": "stream",
       "stream": "stdout",
       "text": [
        "2015-04-16 08:56:53,359 - [DEBUG] TSdata/ARGO_MERCHANT has 0 links to follow\n"
       ]
      },
      {
       "output_type": "stream",
       "stream": "stdout",
       "text": [
        "2015-04-16 08:56:53,359 - [DEBUG] TSdata/ARGO_MERCHANT has 0 links to follow\n"
       ]
      },
      {
       "output_type": "stream",
       "stream": "stdout",
       "text": [
        "2015-04-16 08:56:53,359 - [DEBUG] TSdata/ARGO_MERCHANT has 0 links to follow\n"
       ]
      },
      {
       "output_type": "stream",
       "stream": "stdout",
       "text": [
        "2015-04-16 08:56:53,359 - [DEBUG] TSdata/ARGO_MERCHANT has 0 links to follow\n"
       ]
      },
      {
       "output_type": "stream",
       "stream": "stdout",
       "text": [
        "2015-04-16 08:56:53,359 - [DEBUG] TSdata/ARGO_MERCHANT has 0 links to follow\n"
       ]
      },
      {
       "output_type": "stream",
       "stream": "stdout",
       "text": [
        "2015-04-16 08:56:53,359 - [DEBUG] TSdata/ARGO_MERCHANT has 0 links to follow\n"
       ]
      },
      {
       "output_type": "stream",
       "stream": "stdout",
       "text": [
        "2015-04-16 08:56:53,359 - [DEBUG] TSdata/ARGO_MERCHANT has 0 links to follow\n"
       ]
      },
      {
       "output_type": "stream",
       "stream": "stdout",
       "text": [
        "2015-04-16 08:56:53,359 - [DEBUG] TSdata/ARGO_MERCHANT has 0 links to follow\n"
       ]
      },
      {
       "output_type": "stream",
       "stream": "stdout",
       "text": [
        "2015-04-16 08:56:53,359 - [DEBUG] TSdata/ARGO_MERCHANT has 0 links to follow\n"
       ]
      },
      {
       "output_type": "stream",
       "stream": "stdout",
       "text": [
        "2015-04-16 08:56:53,359 - [DEBUG] TSdata/ARGO_MERCHANT has 0 links to follow\n"
       ]
      },
      {
       "output_type": "stream",
       "stream": "stdout",
       "text": [
        "2015-04-16 08:56:53,359 - [DEBUG] TSdata/ARGO_MERCHANT has 0 links to follow\n"
       ]
      },
      {
       "output_type": "stream",
       "stream": "stdout",
       "text": [
        "2015-04-16 08:56:53,359 - [DEBUG] TSdata/ARGO_MERCHANT has 0 links to follow\n"
       ]
      },
      {
       "output_type": "stream",
       "stream": "stdout",
       "text": [
        "2015-04-16 08:56:53,359 - [DEBUG] TSdata/ARGO_MERCHANT has 0 links to follow\n"
       ]
      },
      {
       "output_type": "stream",
       "stream": "stdout",
       "text": [
        "2015-04-16 08:56:53,359 - [DEBUG] TSdata/ARGO_MERCHANT has 0 links to follow\n"
       ]
      },
      {
       "output_type": "stream",
       "stream": "stdout",
       "text": [
        "2015-04-16 08:56:53,359 - [DEBUG] TSdata/ARGO_MERCHANT has 0 links to follow\n"
       ]
      },
      {
       "output_type": "stream",
       "stream": "stdout",
       "text": [
        "2015-04-16 08:56:53,359 - [DEBUG] TSdata/ARGO_MERCHANT has 0 links to follow\n"
       ]
      },
      {
       "output_type": "stream",
       "stream": "stdout",
       "text": [
        "2015-04-16 08:56:53,359 - [DEBUG] TSdata/ARGO_MERCHANT has 0 links to follow\n"
       ]
      },
      {
       "output_type": "stream",
       "stream": "stderr",
       "text": [
        "DEBUG:crawler:TSdata/ARGO_MERCHANT has 0 links to follow\n"
       ]
      },
      {
       "output_type": "stream",
       "stream": "stdout",
       "text": [
        "2015-04-16 08:56:53,366 - [DEBUG] adding paths to follow: 0 (0)\n"
       ]
      },
      {
       "output_type": "stream",
       "stream": "stdout",
       "text": [
        "2015-04-16 08:56:53,366 - [DEBUG] adding paths to follow: 0 (0)\n"
       ]
      },
      {
       "output_type": "stream",
       "stream": "stdout",
       "text": [
        "2015-04-16 08:56:53,366 - [DEBUG] adding paths to follow: 0 (0)\n"
       ]
      },
      {
       "output_type": "stream",
       "stream": "stdout",
       "text": [
        "2015-04-16 08:56:53,366 - [DEBUG] adding paths to follow: 0 (0)\n"
       ]
      },
      {
       "output_type": "stream",
       "stream": "stdout",
       "text": [
        "2015-04-16 08:56:53,366 - [DEBUG] adding paths to follow: 0 (0)\n"
       ]
      },
      {
       "output_type": "stream",
       "stream": "stdout",
       "text": [
        "2015-04-16 08:56:53,366 - [DEBUG] adding paths to follow: 0 (0)\n"
       ]
      },
      {
       "output_type": "stream",
       "stream": "stdout",
       "text": [
        "2015-04-16 08:56:53,366 - [DEBUG] adding paths to follow: 0 (0)\n"
       ]
      },
      {
       "output_type": "stream",
       "stream": "stdout",
       "text": [
        "2015-04-16 08:56:53,366 - [DEBUG] adding paths to follow: 0 (0)\n"
       ]
      },
      {
       "output_type": "stream",
       "stream": "stdout",
       "text": [
        "2015-04-16 08:56:53,366 - [DEBUG] adding paths to follow: 0 (0)\n"
       ]
      },
      {
       "output_type": "stream",
       "stream": "stdout",
       "text": [
        "2015-04-16 08:56:53,366 - [DEBUG] adding paths to follow: 0 (0)\n"
       ]
      },
      {
       "output_type": "stream",
       "stream": "stdout",
       "text": [
        "2015-04-16 08:56:53,366 - [DEBUG] adding paths to follow: 0 (0)\n"
       ]
      },
      {
       "output_type": "stream",
       "stream": "stdout",
       "text": [
        "2015-04-16 08:56:53,366 - [DEBUG] adding paths to follow: 0 (0)\n"
       ]
      },
      {
       "output_type": "stream",
       "stream": "stdout",
       "text": [
        "2015-04-16 08:56:53,366 - [DEBUG] adding paths to follow: 0 (0)\n"
       ]
      },
      {
       "output_type": "stream",
       "stream": "stdout",
       "text": [
        "2015-04-16 08:56:53,366 - [DEBUG] adding paths to follow: 0 (0)\n"
       ]
      },
      {
       "output_type": "stream",
       "stream": "stdout",
       "text": [
        "2015-04-16 08:56:53,366 - [DEBUG] adding paths to follow: 0 (0)\n"
       ]
      },
      {
       "output_type": "stream",
       "stream": "stdout",
       "text": [
        "2015-04-16 08:56:53,366 - [DEBUG] adding paths to follow: 0 (0)\n"
       ]
      },
      {
       "output_type": "stream",
       "stream": "stdout",
       "text": [
        "2015-04-16 08:56:53,366 - [DEBUG] adding paths to follow: 0 (0)\n"
       ]
      },
      {
       "output_type": "stream",
       "stream": "stdout",
       "text": [
        "2015-04-16 08:56:53,366 - [DEBUG] adding paths to follow: 0 (0)\n"
       ]
      },
      {
       "output_type": "stream",
       "stream": "stdout",
       "text": [
        "2015-04-16 08:56:53,366 - [DEBUG] adding paths to follow: 0 (0)\n"
       ]
      },
      {
       "output_type": "stream",
       "stream": "stdout",
       "text": [
        "2015-04-16 08:56:53,366 - [DEBUG] adding paths to follow: 0 (0)\n"
       ]
      },
      {
       "output_type": "stream",
       "stream": "stdout",
       "text": [
        "2015-04-16 08:56:53,366 - [DEBUG] adding paths to follow: 0 (0)\n"
       ]
      },
      {
       "output_type": "stream",
       "stream": "stderr",
       "text": [
        "DEBUG:crawler:adding paths to follow: 0 (0)\n"
       ]
      },
      {
       "output_type": "stream",
       "stream": "stdout",
       "text": [
        "2015-04-16 08:56:53,372 - [DEBUG] CATALOGREF element in TSData/catalog.xml (TSdata/BARNEGAT)\n"
       ]
      },
      {
       "output_type": "stream",
       "stream": "stdout",
       "text": [
        "2015-04-16 08:56:53,372 - [DEBUG] CATALOGREF element in TSData/catalog.xml (TSdata/BARNEGAT)\n"
       ]
      },
      {
       "output_type": "stream",
       "stream": "stdout",
       "text": [
        "2015-04-16 08:56:53,372 - [DEBUG] CATALOGREF element in TSData/catalog.xml (TSdata/BARNEGAT)\n"
       ]
      },
      {
       "output_type": "stream",
       "stream": "stdout",
       "text": [
        "2015-04-16 08:56:53,372 - [DEBUG] CATALOGREF element in TSData/catalog.xml (TSdata/BARNEGAT)\n"
       ]
      },
      {
       "output_type": "stream",
       "stream": "stdout",
       "text": [
        "2015-04-16 08:56:53,372 - [DEBUG] CATALOGREF element in TSData/catalog.xml (TSdata/BARNEGAT)\n"
       ]
      },
      {
       "output_type": "stream",
       "stream": "stdout",
       "text": [
        "2015-04-16 08:56:53,372 - [DEBUG] CATALOGREF element in TSData/catalog.xml (TSdata/BARNEGAT)\n"
       ]
      },
      {
       "output_type": "stream",
       "stream": "stdout",
       "text": [
        "2015-04-16 08:56:53,372 - [DEBUG] CATALOGREF element in TSData/catalog.xml (TSdata/BARNEGAT)\n"
       ]
      },
      {
       "output_type": "stream",
       "stream": "stdout",
       "text": [
        "2015-04-16 08:56:53,372 - [DEBUG] CATALOGREF element in TSData/catalog.xml (TSdata/BARNEGAT)\n"
       ]
      },
      {
       "output_type": "stream",
       "stream": "stdout",
       "text": [
        "2015-04-16 08:56:53,372 - [DEBUG] CATALOGREF element in TSData/catalog.xml (TSdata/BARNEGAT)\n"
       ]
      },
      {
       "output_type": "stream",
       "stream": "stdout",
       "text": [
        "2015-04-16 08:56:53,372 - [DEBUG] CATALOGREF element in TSData/catalog.xml (TSdata/BARNEGAT)\n"
       ]
      },
      {
       "output_type": "stream",
       "stream": "stdout",
       "text": [
        "2015-04-16 08:56:53,372 - [DEBUG] CATALOGREF element in TSData/catalog.xml (TSdata/BARNEGAT)\n"
       ]
      },
      {
       "output_type": "stream",
       "stream": "stdout",
       "text": [
        "2015-04-16 08:56:53,372 - [DEBUG] CATALOGREF element in TSData/catalog.xml (TSdata/BARNEGAT)\n"
       ]
      },
      {
       "output_type": "stream",
       "stream": "stdout",
       "text": [
        "2015-04-16 08:56:53,372 - [DEBUG] CATALOGREF element in TSData/catalog.xml (TSdata/BARNEGAT)\n"
       ]
      },
      {
       "output_type": "stream",
       "stream": "stdout",
       "text": [
        "2015-04-16 08:56:53,372 - [DEBUG] CATALOGREF element in TSData/catalog.xml (TSdata/BARNEGAT)\n"
       ]
      },
      {
       "output_type": "stream",
       "stream": "stdout",
       "text": [
        "2015-04-16 08:56:53,372 - [DEBUG] CATALOGREF element in TSData/catalog.xml (TSdata/BARNEGAT)\n"
       ]
      },
      {
       "output_type": "stream",
       "stream": "stdout",
       "text": [
        "2015-04-16 08:56:53,372 - [DEBUG] CATALOGREF element in TSData/catalog.xml (TSdata/BARNEGAT)\n"
       ]
      },
      {
       "output_type": "stream",
       "stream": "stdout",
       "text": [
        "2015-04-16 08:56:53,372 - [DEBUG] CATALOGREF element in TSData/catalog.xml (TSdata/BARNEGAT)\n"
       ]
      },
      {
       "output_type": "stream",
       "stream": "stdout",
       "text": [
        "2015-04-16 08:56:53,372 - [DEBUG] CATALOGREF element in TSData/catalog.xml (TSdata/BARNEGAT)\n"
       ]
      },
      {
       "output_type": "stream",
       "stream": "stdout",
       "text": [
        "2015-04-16 08:56:53,372 - [DEBUG] CATALOGREF element in TSData/catalog.xml (TSdata/BARNEGAT)\n"
       ]
      },
      {
       "output_type": "stream",
       "stream": "stdout",
       "text": [
        "2015-04-16 08:56:53,372 - [DEBUG] CATALOGREF element in TSData/catalog.xml (TSdata/BARNEGAT)\n"
       ]
      },
      {
       "output_type": "stream",
       "stream": "stdout",
       "text": [
        "2015-04-16 08:56:53,372 - [DEBUG] CATALOGREF element in TSData/catalog.xml (TSdata/BARNEGAT)\n"
       ]
      },
      {
       "output_type": "stream",
       "stream": "stderr",
       "text": [
        "DEBUG:crawler:CATALOGREF element in TSData/catalog.xml (TSdata/BARNEGAT)\n"
       ]
      },
      {
       "output_type": "stream",
       "stream": "stdout",
       "text": [
        "2015-04-16 08:56:53,378 - [DEBUG] nope\n"
       ]
      },
      {
       "output_type": "stream",
       "stream": "stdout",
       "text": [
        "2015-04-16 08:56:53,378 - [DEBUG] nope\n"
       ]
      },
      {
       "output_type": "stream",
       "stream": "stdout",
       "text": [
        "2015-04-16 08:56:53,378 - [DEBUG] nope\n"
       ]
      },
      {
       "output_type": "stream",
       "stream": "stdout",
       "text": [
        "2015-04-16 08:56:53,378 - [DEBUG] nope\n"
       ]
      },
      {
       "output_type": "stream",
       "stream": "stdout",
       "text": [
        "2015-04-16 08:56:53,378 - [DEBUG] nope\n"
       ]
      },
      {
       "output_type": "stream",
       "stream": "stdout",
       "text": [
        "2015-04-16 08:56:53,378 - [DEBUG] nope\n"
       ]
      },
      {
       "output_type": "stream",
       "stream": "stdout",
       "text": [
        "2015-04-16 08:56:53,378 - [DEBUG] nope\n"
       ]
      },
      {
       "output_type": "stream",
       "stream": "stdout",
       "text": [
        "2015-04-16 08:56:53,378 - [DEBUG] nope\n"
       ]
      },
      {
       "output_type": "stream",
       "stream": "stdout",
       "text": [
        "2015-04-16 08:56:53,378 - [DEBUG] nope\n"
       ]
      },
      {
       "output_type": "stream",
       "stream": "stdout",
       "text": [
        "2015-04-16 08:56:53,378 - [DEBUG] nope\n"
       ]
      },
      {
       "output_type": "stream",
       "stream": "stdout",
       "text": [
        "2015-04-16 08:56:53,378 - [DEBUG] nope\n"
       ]
      },
      {
       "output_type": "stream",
       "stream": "stdout",
       "text": [
        "2015-04-16 08:56:53,378 - [DEBUG] nope\n"
       ]
      },
      {
       "output_type": "stream",
       "stream": "stdout",
       "text": [
        "2015-04-16 08:56:53,378 - [DEBUG] nope\n"
       ]
      },
      {
       "output_type": "stream",
       "stream": "stdout",
       "text": [
        "2015-04-16 08:56:53,378 - [DEBUG] nope\n"
       ]
      },
      {
       "output_type": "stream",
       "stream": "stdout",
       "text": [
        "2015-04-16 08:56:53,378 - [DEBUG] nope\n"
       ]
      },
      {
       "output_type": "stream",
       "stream": "stdout",
       "text": [
        "2015-04-16 08:56:53,378 - [DEBUG] nope\n"
       ]
      },
      {
       "output_type": "stream",
       "stream": "stdout",
       "text": [
        "2015-04-16 08:56:53,378 - [DEBUG] nope\n"
       ]
      },
      {
       "output_type": "stream",
       "stream": "stdout",
       "text": [
        "2015-04-16 08:56:53,378 - [DEBUG] nope\n"
       ]
      },
      {
       "output_type": "stream",
       "stream": "stdout",
       "text": [
        "2015-04-16 08:56:53,378 - [DEBUG] nope\n"
       ]
      },
      {
       "output_type": "stream",
       "stream": "stdout",
       "text": [
        "2015-04-16 08:56:53,378 - [DEBUG] nope\n"
       ]
      },
      {
       "output_type": "stream",
       "stream": "stdout",
       "text": [
        "2015-04-16 08:56:53,378 - [DEBUG] nope\n"
       ]
      },
      {
       "output_type": "stream",
       "stream": "stderr",
       "text": [
        "DEBUG:crawler:nope\n"
       ]
      },
      {
       "output_type": "stream",
       "stream": "stdout",
       "text": [
        "2015-04-16 08:56:53,385 - [DEBUG] TSdata/BARNEGAT has 0 links to follow\n"
       ]
      },
      {
       "output_type": "stream",
       "stream": "stdout",
       "text": [
        "2015-04-16 08:56:53,385 - [DEBUG] TSdata/BARNEGAT has 0 links to follow\n"
       ]
      },
      {
       "output_type": "stream",
       "stream": "stdout",
       "text": [
        "2015-04-16 08:56:53,385 - [DEBUG] TSdata/BARNEGAT has 0 links to follow\n"
       ]
      },
      {
       "output_type": "stream",
       "stream": "stdout",
       "text": [
        "2015-04-16 08:56:53,385 - [DEBUG] TSdata/BARNEGAT has 0 links to follow\n"
       ]
      },
      {
       "output_type": "stream",
       "stream": "stdout",
       "text": [
        "2015-04-16 08:56:53,385 - [DEBUG] TSdata/BARNEGAT has 0 links to follow\n"
       ]
      },
      {
       "output_type": "stream",
       "stream": "stdout",
       "text": [
        "2015-04-16 08:56:53,385 - [DEBUG] TSdata/BARNEGAT has 0 links to follow\n"
       ]
      },
      {
       "output_type": "stream",
       "stream": "stdout",
       "text": [
        "2015-04-16 08:56:53,385 - [DEBUG] TSdata/BARNEGAT has 0 links to follow\n"
       ]
      },
      {
       "output_type": "stream",
       "stream": "stdout",
       "text": [
        "2015-04-16 08:56:53,385 - [DEBUG] TSdata/BARNEGAT has 0 links to follow\n"
       ]
      },
      {
       "output_type": "stream",
       "stream": "stdout",
       "text": [
        "2015-04-16 08:56:53,385 - [DEBUG] TSdata/BARNEGAT has 0 links to follow\n"
       ]
      },
      {
       "output_type": "stream",
       "stream": "stdout",
       "text": [
        "2015-04-16 08:56:53,385 - [DEBUG] TSdata/BARNEGAT has 0 links to follow\n"
       ]
      },
      {
       "output_type": "stream",
       "stream": "stdout",
       "text": [
        "2015-04-16 08:56:53,385 - [DEBUG] TSdata/BARNEGAT has 0 links to follow\n"
       ]
      },
      {
       "output_type": "stream",
       "stream": "stdout",
       "text": [
        "2015-04-16 08:56:53,385 - [DEBUG] TSdata/BARNEGAT has 0 links to follow\n"
       ]
      },
      {
       "output_type": "stream",
       "stream": "stdout",
       "text": [
        "2015-04-16 08:56:53,385 - [DEBUG] TSdata/BARNEGAT has 0 links to follow\n"
       ]
      },
      {
       "output_type": "stream",
       "stream": "stdout",
       "text": [
        "2015-04-16 08:56:53,385 - [DEBUG] TSdata/BARNEGAT has 0 links to follow\n"
       ]
      },
      {
       "output_type": "stream",
       "stream": "stdout",
       "text": [
        "2015-04-16 08:56:53,385 - [DEBUG] TSdata/BARNEGAT has 0 links to follow\n"
       ]
      },
      {
       "output_type": "stream",
       "stream": "stdout",
       "text": [
        "2015-04-16 08:56:53,385 - [DEBUG] TSdata/BARNEGAT has 0 links to follow\n"
       ]
      },
      {
       "output_type": "stream",
       "stream": "stdout",
       "text": [
        "2015-04-16 08:56:53,385 - [DEBUG] TSdata/BARNEGAT has 0 links to follow\n"
       ]
      },
      {
       "output_type": "stream",
       "stream": "stdout",
       "text": [
        "2015-04-16 08:56:53,385 - [DEBUG] TSdata/BARNEGAT has 0 links to follow\n"
       ]
      },
      {
       "output_type": "stream",
       "stream": "stdout",
       "text": [
        "2015-04-16 08:56:53,385 - [DEBUG] TSdata/BARNEGAT has 0 links to follow\n"
       ]
      },
      {
       "output_type": "stream",
       "stream": "stdout",
       "text": [
        "2015-04-16 08:56:53,385 - [DEBUG] TSdata/BARNEGAT has 0 links to follow\n"
       ]
      },
      {
       "output_type": "stream",
       "stream": "stdout",
       "text": [
        "2015-04-16 08:56:53,385 - [DEBUG] TSdata/BARNEGAT has 0 links to follow\n"
       ]
      },
      {
       "output_type": "stream",
       "stream": "stderr",
       "text": [
        "DEBUG:crawler:TSdata/BARNEGAT has 0 links to follow\n"
       ]
      },
      {
       "output_type": "stream",
       "stream": "stdout",
       "text": [
        "2015-04-16 08:56:53,392 - [DEBUG] adding paths to follow: 0 (0)\n"
       ]
      },
      {
       "output_type": "stream",
       "stream": "stdout",
       "text": [
        "2015-04-16 08:56:53,392 - [DEBUG] adding paths to follow: 0 (0)\n"
       ]
      },
      {
       "output_type": "stream",
       "stream": "stdout",
       "text": [
        "2015-04-16 08:56:53,392 - [DEBUG] adding paths to follow: 0 (0)\n"
       ]
      },
      {
       "output_type": "stream",
       "stream": "stdout",
       "text": [
        "2015-04-16 08:56:53,392 - [DEBUG] adding paths to follow: 0 (0)\n"
       ]
      },
      {
       "output_type": "stream",
       "stream": "stdout",
       "text": [
        "2015-04-16 08:56:53,392 - [DEBUG] adding paths to follow: 0 (0)\n"
       ]
      },
      {
       "output_type": "stream",
       "stream": "stdout",
       "text": [
        "2015-04-16 08:56:53,392 - [DEBUG] adding paths to follow: 0 (0)\n"
       ]
      },
      {
       "output_type": "stream",
       "stream": "stdout",
       "text": [
        "2015-04-16 08:56:53,392 - [DEBUG] adding paths to follow: 0 (0)\n"
       ]
      },
      {
       "output_type": "stream",
       "stream": "stdout",
       "text": [
        "2015-04-16 08:56:53,392 - [DEBUG] adding paths to follow: 0 (0)\n"
       ]
      },
      {
       "output_type": "stream",
       "stream": "stdout",
       "text": [
        "2015-04-16 08:56:53,392 - [DEBUG] adding paths to follow: 0 (0)\n"
       ]
      },
      {
       "output_type": "stream",
       "stream": "stdout",
       "text": [
        "2015-04-16 08:56:53,392 - [DEBUG] adding paths to follow: 0 (0)\n"
       ]
      },
      {
       "output_type": "stream",
       "stream": "stdout",
       "text": [
        "2015-04-16 08:56:53,392 - [DEBUG] adding paths to follow: 0 (0)\n"
       ]
      },
      {
       "output_type": "stream",
       "stream": "stdout",
       "text": [
        "2015-04-16 08:56:53,392 - [DEBUG] adding paths to follow: 0 (0)\n"
       ]
      },
      {
       "output_type": "stream",
       "stream": "stdout",
       "text": [
        "2015-04-16 08:56:53,392 - [DEBUG] adding paths to follow: 0 (0)\n"
       ]
      },
      {
       "output_type": "stream",
       "stream": "stdout",
       "text": [
        "2015-04-16 08:56:53,392 - [DEBUG] adding paths to follow: 0 (0)\n"
       ]
      },
      {
       "output_type": "stream",
       "stream": "stdout",
       "text": [
        "2015-04-16 08:56:53,392 - [DEBUG] adding paths to follow: 0 (0)\n"
       ]
      },
      {
       "output_type": "stream",
       "stream": "stdout",
       "text": [
        "2015-04-16 08:56:53,392 - [DEBUG] adding paths to follow: 0 (0)\n"
       ]
      },
      {
       "output_type": "stream",
       "stream": "stdout",
       "text": [
        "2015-04-16 08:56:53,392 - [DEBUG] adding paths to follow: 0 (0)\n"
       ]
      },
      {
       "output_type": "stream",
       "stream": "stdout",
       "text": [
        "2015-04-16 08:56:53,392 - [DEBUG] adding paths to follow: 0 (0)\n"
       ]
      },
      {
       "output_type": "stream",
       "stream": "stdout",
       "text": [
        "2015-04-16 08:56:53,392 - [DEBUG] adding paths to follow: 0 (0)\n"
       ]
      },
      {
       "output_type": "stream",
       "stream": "stdout",
       "text": [
        "2015-04-16 08:56:53,392 - [DEBUG] adding paths to follow: 0 (0)\n"
       ]
      },
      {
       "output_type": "stream",
       "stream": "stdout",
       "text": [
        "2015-04-16 08:56:53,392 - [DEBUG] adding paths to follow: 0 (0)\n"
       ]
      },
      {
       "output_type": "stream",
       "stream": "stderr",
       "text": [
        "DEBUG:crawler:adding paths to follow: 0 (0)\n"
       ]
      },
      {
       "output_type": "stream",
       "stream": "stdout",
       "text": [
        "2015-04-16 08:56:53,398 - [DEBUG] fetched paths 1 (0)\n"
       ]
      },
      {
       "output_type": "stream",
       "stream": "stdout",
       "text": [
        "2015-04-16 08:56:53,398 - [DEBUG] fetched paths 1 (0)\n"
       ]
      },
      {
       "output_type": "stream",
       "stream": "stdout",
       "text": [
        "2015-04-16 08:56:53,398 - [DEBUG] fetched paths 1 (0)\n"
       ]
      },
      {
       "output_type": "stream",
       "stream": "stdout",
       "text": [
        "2015-04-16 08:56:53,398 - [DEBUG] fetched paths 1 (0)\n"
       ]
      },
      {
       "output_type": "stream",
       "stream": "stdout",
       "text": [
        "2015-04-16 08:56:53,398 - [DEBUG] fetched paths 1 (0)\n"
       ]
      },
      {
       "output_type": "stream",
       "stream": "stdout",
       "text": [
        "2015-04-16 08:56:53,398 - [DEBUG] fetched paths 1 (0)\n"
       ]
      },
      {
       "output_type": "stream",
       "stream": "stdout",
       "text": [
        "2015-04-16 08:56:53,398 - [DEBUG] fetched paths 1 (0)\n"
       ]
      },
      {
       "output_type": "stream",
       "stream": "stdout",
       "text": [
        "2015-04-16 08:56:53,398 - [DEBUG] fetched paths 1 (0)\n"
       ]
      },
      {
       "output_type": "stream",
       "stream": "stdout",
       "text": [
        "2015-04-16 08:56:53,398 - [DEBUG] fetched paths 1 (0)\n"
       ]
      },
      {
       "output_type": "stream",
       "stream": "stdout",
       "text": [
        "2015-04-16 08:56:53,398 - [DEBUG] fetched paths 1 (0)\n"
       ]
      },
      {
       "output_type": "stream",
       "stream": "stdout",
       "text": [
        "2015-04-16 08:56:53,398 - [DEBUG] fetched paths 1 (0)\n"
       ]
      },
      {
       "output_type": "stream",
       "stream": "stdout",
       "text": [
        "2015-04-16 08:56:53,398 - [DEBUG] fetched paths 1 (0)\n"
       ]
      },
      {
       "output_type": "stream",
       "stream": "stdout",
       "text": [
        "2015-04-16 08:56:53,398 - [DEBUG] fetched paths 1 (0)\n"
       ]
      },
      {
       "output_type": "stream",
       "stream": "stdout",
       "text": [
        "2015-04-16 08:56:53,398 - [DEBUG] fetched paths 1 (0)\n"
       ]
      },
      {
       "output_type": "stream",
       "stream": "stdout",
       "text": [
        "2015-04-16 08:56:53,398 - [DEBUG] fetched paths 1 (0)\n"
       ]
      },
      {
       "output_type": "stream",
       "stream": "stdout",
       "text": [
        "2015-04-16 08:56:53,398 - [DEBUG] fetched paths 1 (0)\n"
       ]
      },
      {
       "output_type": "stream",
       "stream": "stdout",
       "text": [
        "2015-04-16 08:56:53,398 - [DEBUG] fetched paths 1 (0)\n"
       ]
      },
      {
       "output_type": "stream",
       "stream": "stdout",
       "text": [
        "2015-04-16 08:56:53,398 - [DEBUG] fetched paths 1 (0)\n"
       ]
      },
      {
       "output_type": "stream",
       "stream": "stdout",
       "text": [
        "2015-04-16 08:56:53,398 - [DEBUG] fetched paths 1 (0)\n"
       ]
      },
      {
       "output_type": "stream",
       "stream": "stdout",
       "text": [
        "2015-04-16 08:56:53,398 - [DEBUG] fetched paths 1 (0)\n"
       ]
      },
      {
       "output_type": "stream",
       "stream": "stdout",
       "text": [
        "2015-04-16 08:56:53,398 - [DEBUG] fetched paths 1 (0)\n"
       ]
      },
      {
       "output_type": "stream",
       "stream": "stderr",
       "text": [
        "DEBUG:crawler:fetched paths 1 (0)\n"
       ]
      },
      {
       "output_type": "stream",
       "stream": "stdout",
       "text": [
        "***************\n",
        "crawl complete:\n",
        "{\n",
        "    \"TSData/catalog.xml\": {\n",
        "        \"children\": [\n",
        "            {\n",
        "                \"parent_type\": \"dataset\", \n",
        "                \"href\": \"\", \n",
        "                \"type\": \"catalogRef\", \n",
        "                \"id\": \"TSdata/ARGO_MERCHANT\", \n",
        "                \"parent\": \"TSdata\"\n",
        "            }, \n",
        "            {\n",
        "                \"parent_type\": \"dataset\", \n",
        "                \"href\": \"\", \n",
        "                \"type\": \"catalogRef\", \n",
        "                \"id\": \"TSdata/BARNEGAT\", \n",
        "                \"parent\": \"TSdata\"\n",
        "            }\n",
        "        ]\n",
        "    }\n",
        "}\n"
       ]
      }
     ],
     "prompt_number": 48
    },
    {
     "cell_type": "code",
     "collapsed": false,
     "input": [
      "hrefs_to_parse = ['catalog.xml']\n",
      "hrefs_parsed = []\n",
      "\n",
      "while hrefs_to_parse:\n",
      "    href_path = hrefs_to_parse.pop()\n",
      "    path = generate_path(href_path)\n",
      "    \n",
      "    print '## PARSING : {0} from {1}'.format(path, href_path)\n",
      "    \n",
      "    response = request(path)\n",
      "    xml = parse_xml(response)\n",
      "    \n",
      "    print '\\thas XML : {0}'.format(xml is not None)\n",
      "\n",
      "    prefix = '/'.join(path.split('/')[1:-1])\n",
      "    \n",
      "    elements = xml.xpath('//*[local-name()=\"catalogRef\" or local-name()=\"dataset\"]')\n",
      "    \n",
      "    print '\\thas {0} elements'.format(len(elements))\n",
      "    \n",
      "    for element in elements:\n",
      "        tag = extract_element_tag(element.tag)\n",
      "        \n",
      "        if tag == 'catalogRef':\n",
      "            new_path = element.attrib.get('{http://www.w3.org/1999/xlink}href', '')\n",
      "        elif tag == 'dataset':\n",
      "            new_path = element.attrib.get('urlPath', '')\n",
      "        \n",
      "        terminus = tag == 'dataset' and 'urlPath' in element.attrib\n",
      "        \n",
      "        if not new_path:\n",
      "            print '\\t!!!! Failed to extract path', element.attrib.keys()\n",
      "            continue\n",
      "            \n",
      "        new_path = new_path.replace('/thredds/catalog/', '')\n",
      "        new_path = '/'.join([prefix, new_path])\n",
      "        if new_path.startswith('/'):\n",
      "            new_path = new_path[1:]\n",
      "        \n",
      "        if not terminus:\n",
      "            hrefs_to_parse.append(new_path)\n",
      "        else:\n",
      "            print '\\t--------Terminus : {0}'.format(new_path)\n",
      "\n",
      "    hrefs_parsed.append(path)\n",
      "    print '## Left to parse : {0}'.format(len(hrefs_to_parse))\n",
      "    \n",
      "    \n"
     ],
     "language": "python",
     "metadata": {},
     "outputs": [
      {
       "output_type": "stream",
       "stream": "stdout",
       "text": [
        "## PARSING : xml_samples/catalog.xml from catalog.xml\n",
        "\thas XML : True\n",
        "\thas 1 elements\n",
        "## Left to parse : 1\n",
        "## PARSING : xml_samples/TSdata/catalog.xml from TSdata/catalog.xml\n",
        "\thas XML : True\n",
        "\thas 3 elements\n",
        "\t!!!! Failed to extract path ['name', 'ID']\n",
        "## Left to parse : 2\n",
        "## PARSING : xml_samples/TSdata/BARNEGAT/catalog.xml from TSdata/BARNEGAT/catalog.xml\n",
        "\thas XML : True\n",
        "\thas 30 elements\n",
        "\t!!!! Failed to extract path ['name', 'ID']\n",
        "\t--------Terminus : TSdata/BARNEGAT/TSdata/BARNEGAT/9611ecp-a.nc\n",
        "\t--------Terminus : TSdata/BARNEGAT/TSdata/BARNEGAT/9612solot-a.nc\n",
        "\t--------Terminus : TSdata/BARNEGAT/TSdata/BARNEGAT/9613HRaqd-cal.nc\n",
        "\t--------Terminus : TSdata/BARNEGAT/TSdata/BARNEGAT/9614dw-a.nc\n",
        "\t--------Terminus : TSdata/BARNEGAT/TSdata/BARNEGAT/9615exo-a.nc\n",
        "\t--------Terminus : TSdata/BARNEGAT/TSdata/BARNEGAT/9616ecp-a.nc\n",
        "\t--------Terminus : TSdata/BARNEGAT/TSdata/BARNEGAT/9617solot-a.nc\n",
        "\t--------Terminus : TSdata/BARNEGAT/TSdata/BARNEGAT/9621dw-a.nc\n",
        "\t--------Terminus : TSdata/BARNEGAT/TSdata/BARNEGAT/9622ecn-a.nc\n",
        "\t--------Terminus : TSdata/BARNEGAT/TSdata/BARNEGAT/9631ecp-a.nc\n",
        "\t--------Terminus : TSdata/BARNEGAT/TSdata/BARNEGAT/9632solot-a.nc\n",
        "\t--------Terminus : TSdata/BARNEGAT/TSdata/BARNEGAT/9633HRaqd-cal.nc\n",
        "\t--------Terminus : TSdata/BARNEGAT/TSdata/BARNEGAT/9634dw-a.nc\n",
        "\t--------Terminus : TSdata/BARNEGAT/TSdata/BARNEGAT/9635exo-a.nc\n",
        "\t--------Terminus : TSdata/BARNEGAT/TSdata/BARNEGAT/9636ecp-a.nc\n",
        "\t--------Terminus : TSdata/BARNEGAT/TSdata/BARNEGAT/9637solot-a.nc\n",
        "\t--------Terminus : TSdata/BARNEGAT/TSdata/BARNEGAT/9641dw-a.nc\n",
        "\t--------Terminus : TSdata/BARNEGAT/TSdata/BARNEGAT/9642ecn-a.nc\n",
        "\t--------Terminus : TSdata/BARNEGAT/TSdata/BARNEGAT/9771ecp-a.nc\n",
        "\t--------Terminus : TSdata/BARNEGAT/TSdata/BARNEGAT/9772solot-a.nc\n",
        "\t--------Terminus : TSdata/BARNEGAT/TSdata/BARNEGAT/9773HRaqdb-cal.nc\n",
        "\t--------Terminus : TSdata/BARNEGAT/TSdata/BARNEGAT/9773HRaqds-cal.nc\n",
        "\t--------Terminus : TSdata/BARNEGAT/TSdata/BARNEGAT/9774dw-a.nc\n",
        "\t--------Terminus : TSdata/BARNEGAT/TSdata/BARNEGAT/9774dw_trim.nc\n",
        "\t--------Terminus : TSdata/BARNEGAT/TSdata/BARNEGAT/9775exo-a.nc\n",
        "\t--------Terminus : TSdata/BARNEGAT/TSdata/BARNEGAT/9776ecp-a.nc\n",
        "\t--------Terminus : TSdata/BARNEGAT/TSdata/BARNEGAT/9777solot-a.nc\n",
        "\t--------Terminus : TSdata/BARNEGAT/TSdata/BARNEGAT/9781dw-a.nc\n",
        "\t--------Terminus : TSdata/BARNEGAT/TSdata/BARNEGAT/9782ecn-a.nc\n",
        "## Left to parse : 1\n",
        "## PARSING : xml_samples/TSdata/ARGO_MERCHANT/catalog.xml from TSdata/ARGO_MERCHANT/catalog.xml\n",
        "\thas XML : True\n",
        "\thas 7 elements\n",
        "\t!!!! Failed to extract path ['name', 'ID']\n",
        "\t--------Terminus : TSdata/ARGO_MERCHANT/TSdata/ARGO_MERCHANT/1211-A1H.cdf\n",
        "\t--------Terminus : TSdata/ARGO_MERCHANT/TSdata/ARGO_MERCHANT/1211-AA.cdf\n",
        "\t--------Terminus : TSdata/ARGO_MERCHANT/TSdata/ARGO_MERCHANT/1211P-A.cdf\n",
        "\t--------Terminus : TSdata/ARGO_MERCHANT/TSdata/ARGO_MERCHANT/1211P-A1H.cdf\n",
        "\t--------Terminus : TSdata/ARGO_MERCHANT/TSdata/ARGO_MERCHANT/1211TR-A.cdf\n",
        "\t--------Terminus : TSdata/ARGO_MERCHANT/TSdata/ARGO_MERCHANT/1211TR-A1H.cdf\n",
        "## Left to parse : 0\n"
       ]
      }
     ],
     "prompt_number": 71
    },
    {
     "cell_type": "code",
     "collapsed": false,
     "input": [],
     "language": "python",
     "metadata": {},
     "outputs": []
    }
   ],
   "metadata": {}
  }
 ]
}