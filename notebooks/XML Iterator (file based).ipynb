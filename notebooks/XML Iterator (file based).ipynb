{
 "metadata": {
  "name": "",
  "signature": "sha256:f2adc665218863ff44ee79b838d48410f88cbcd6cc52bd7d5ea5d19265f19079"
 },
 "nbformat": 3,
 "nbformat_minor": 0,
 "worksheets": [
  {
   "cells": [
    {
     "cell_type": "markdown",
     "metadata": {},
     "source": [
      "Recursion testing using local files instead of URL requests\n",
      "\n",
      "(can we manage the catalogRef vs dataset links regardless?)"
     ]
    },
    {
     "cell_type": "code",
     "collapsed": false,
     "input": [
      "import os\n",
      "import json\n",
      "import sys\n",
      "from lxml import etree\n",
      "\n",
      "import logging\n",
      "from logging import NullHandler\n",
      "logger = logging.getLogger(\"crawler\")\n",
      "logger.addHandler(NullHandler())\n",
      "\n",
      "logger.setLevel(logging.DEBUG)\n",
      "ch = logging.StreamHandler(sys.stdout)\n",
      "ch.setLevel(logging.DEBUG)\n",
      "formatter = logging.Formatter('%(asctime)s - [%(levelname)s] %(message)s')\n",
      "ch.setFormatter(formatter)\n",
      "logger.addHandler(ch)\n",
      "\n",
      "def generate_path(extension):\n",
      "    return os.path.join('xml_samples', extension)\n",
      "\n",
      "def request(path):\n",
      "    if not os.path.exists(path):\n",
      "        return ''\n",
      "    with open(path, 'r') as f:\n",
      "        text = f.read()\n",
      "    return text\n",
      "\n",
      "def parse_xml(text):\n",
      "    try:\n",
      "        return etree.fromstring(text)\n",
      "    except:\n",
      "        return None\n",
      "\n",
      "def extract_element_tag(tag):\n",
      "    if not tag:\n",
      "        return ''\n",
      "    return tag.split('}')[-1]    \n",
      "    \n",
      "class Crawl(object):\n",
      "    def __init__(self, path):\n",
      "        self.path = path\n",
      "        self.crawl()\n",
      "    \n",
      "    def _parse(self, path):\n",
      "        # parse the xml\n",
      "        url = generate_path(path)\n",
      "        response = request(url)\n",
      "        xml = parse_xml(response)\n",
      "        \n",
      "        logger.debug('parsed file {0}'.format(path))\n",
      "        return xml\n",
      "    \n",
      "    def crawl(self):\n",
      "        # start at the path, iterate through the catalogRefs\n",
      "        # and generate the tree of links\n",
      "        \n",
      "        fetched = []\n",
      "        to_fetch = [self.path]\n",
      "        \n",
      "        tree = {}\n",
      "        \n",
      "        while to_fetch:\n",
      "            logger.debug('starting paths to follow: {0}'.format(len(to_fetch)))\n",
      "            path = to_fetch.pop()\n",
      "            \n",
      "            xml = self._parse(path)\n",
      "            \n",
      "            local_tree = {\"children\": []}\n",
      "            \n",
      "            elements = xml.xpath('//*[local-name()=\"catalogRef\" or local-name=\"dataset\"]')\n",
      "            logger.debug('number of elements found {0}'.format(len(elements)))\n",
      "            \n",
      "            for element in elements:\n",
      "                tag = extract_element_tag(element.tag)\n",
      "                \n",
      "                logger.debug('{0} element in {1} ({2})'.format(tag.upper(), path, element.attrib['ID']))\n",
      "                logger.debug(element.attrib.get('href', 'nope'))\n",
      "                \n",
      "                if tag == 'dataset':\n",
      "                    elem = Dataset(path, element)\n",
      "                elif tag == 'catalogRef':\n",
      "                    elem = CatalogRef(path, element)\n",
      "   \n",
      "                local_tree['children'].append(elem.description)\n",
      "                to_fetch = list(set(to_fetch + elem.follows))\n",
      "                \n",
      "                logger.debug('adding paths to follow: {0} ({1})'.format(len(to_fetch), len(elem.follows)))\n",
      "\n",
      "            tree[path] = local_tree\n",
      "            fetched.append(path)\n",
      "            \n",
      "            logger.debug('fetched paths {0} ({1})'.format(len(fetched), len(to_fetch)))\n",
      "        \n",
      "        return tree\n",
      "\n",
      "class CatalogRef(object):\n",
      "    def __init__(self, path, element):\n",
      "        self.path = path\n",
      "        self.element = element\n",
      "        \n",
      "        self.description, self.follows = self._parse()\n",
      "        \n",
      "    def _parse(self):\n",
      "        # parse the xml\n",
      "        \n",
      "        name = self.element.attrib.get('name', '')\n",
      "        cat_id = self.element.attrib.get('ID', '')\n",
      "        title = self.element.attrib.get('title', '')\n",
      "        href = self.element.attrib.get('href', '')\n",
      "        tag = extract_element_tag(self.element.tag)\n",
      "        \n",
      "        # get the parent \n",
      "        parent = self.element.getparent()\n",
      "        parent_tag = extract_element_tag(parent.tag)\n",
      "        parent_id = parent.attrib.get('ID', '') if parent_tag != 'catalog' else ''\n",
      "        \n",
      "        # nested catalogRefs\n",
      "        # TODO: why is this empty and \n",
      "        follows = self.element.xpath('*[local-name()=\"catalogRef\"]')\n",
      "        follows = [f.attrib.get('href') for f in follows]\n",
      "        \n",
      "        logger.debug('{0} has {1} links to follow'.format(cat_id, len(follows)))\n",
      "        \n",
      "        description = {\n",
      "            'id': cat_id,\n",
      "            'href': href,\n",
      "            'type': tag\n",
      "        }\n",
      "        if name:\n",
      "            description.update({'name': name})\n",
      "        if title:\n",
      "            description.update({'title': title})\n",
      "        if parent_id:\n",
      "            description.update({'parent': parent_id, 'parent_type': parent_tag})\n",
      "            \n",
      "        return description, follows\n",
      "        \n",
      "        \n",
      "class Dataset(object):\n",
      "    # where services is the list of bases for this example\n",
      "    def __init__(self, path, element, services):\n",
      "        self.path = path\n",
      "        self.element = element\n",
      "        self.services = services\n",
      "        \n",
      "        self.description, self.follows = self._parse()\n",
      "    \n",
      "    def _parse(self):\n",
      "        # parse the xml\n",
      "        name = self.element.attrib.get('name', '')\n",
      "        dataset_id = self.element.attrib.get('ID', '')\n",
      "        href = self.element.attrib.get('urlPath', '')\n",
      "        \n",
      "        # get the parent \n",
      "        parent = self.element.getparent()\n",
      "        parent_tag = extract_element_tag(parent.tag)\n",
      "        parent_id = parent.attrib.get('ID', '') if parent_tag != 'catalog' else ''\n",
      "        \n",
      "        # nested catalogRefs\n",
      "        follows = self.element.xpath('*[local-name()=\"catalogRef\"]/@href')\n",
      "        \n",
      "        logger.debug('{0} has {1} links to follow'.format(dataset_id, len(follows)))\n",
      "        \n",
      "        hrefs= []\n",
      "        if href:\n",
      "            # do something about the services\n",
      "            hrefs = ['/'.join([service, href]) for service in services]\n",
      "        \n",
      "        date = next(iter(self.element.xpath('*[local-name()=\"date\"]/text()')), '')\n",
      "        \n",
      "        description = {\n",
      "            'id': dataset_id\n",
      "        }\n",
      "        if hrefs:\n",
      "            description.update({'hrefs': hrefs})\n",
      "        if name:\n",
      "            description.update({'name': name})\n",
      "        if date:\n",
      "            description.update({'date': date})\n",
      "            \n",
      "        if parent_id:\n",
      "            description.update({'parent': parent_id, 'parent_type': parent_tag})\n",
      "            \n",
      "        return description, follows\n",
      "  \n",
      "    "
     ],
     "language": "python",
     "metadata": {},
     "outputs": [],
     "prompt_number": 42
    },
    {
     "cell_type": "code",
     "collapsed": false,
     "input": [
      "# crawler = Crawl('catalog.xml')\n",
      "crawler = Crawl('TSData/catalog.xml')\n",
      "\n",
      "tree = crawler.crawl()\n",
      "\n",
      "print '***************'\n",
      "print 'crawl complete:'\n",
      "print json.dumps(tree, indent=4)"
     ],
     "language": "python",
     "metadata": {},
     "outputs": [
      {
       "output_type": "stream",
       "stream": "stdout",
       "text": [
        "2015-04-14 08:50:41,601 - [DEBUG] starting paths to follow: 1\n"
       ]
      },
      {
       "output_type": "stream",
       "stream": "stdout",
       "text": [
        "2015-04-14 08:50:41,601 - [DEBUG] starting paths to follow: 1\n"
       ]
      },
      {
       "output_type": "stream",
       "stream": "stdout",
       "text": [
        "2015-04-14 08:50:41,601 - [DEBUG] starting paths to follow: 1\n"
       ]
      },
      {
       "output_type": "stream",
       "stream": "stdout",
       "text": [
        "2015-04-14 08:50:41,601 - [DEBUG] starting paths to follow: 1\n"
       ]
      },
      {
       "output_type": "stream",
       "stream": "stdout",
       "text": [
        "2015-04-14 08:50:41,601 - [DEBUG] starting paths to follow: 1\n"
       ]
      },
      {
       "output_type": "stream",
       "stream": "stdout",
       "text": [
        "2015-04-14 08:50:41,601 - [DEBUG] starting paths to follow: 1\n"
       ]
      },
      {
       "output_type": "stream",
       "stream": "stdout",
       "text": [
        "2015-04-14 08:50:41,601 - [DEBUG] starting paths to follow: 1\n"
       ]
      },
      {
       "output_type": "stream",
       "stream": "stdout",
       "text": [
        "2015-04-14 08:50:41,601 - [DEBUG] starting paths to follow: 1\n"
       ]
      },
      {
       "output_type": "stream",
       "stream": "stdout",
       "text": [
        "2015-04-14 08:50:41,601 - [DEBUG] starting paths to follow: 1\n"
       ]
      },
      {
       "output_type": "stream",
       "stream": "stdout",
       "text": [
        "2015-04-14 08:50:41,601 - [DEBUG] starting paths to follow: 1\n"
       ]
      },
      {
       "output_type": "stream",
       "stream": "stdout",
       "text": [
        "2015-04-14 08:50:41,601 - [DEBUG] starting paths to follow: 1\n"
       ]
      },
      {
       "output_type": "stream",
       "stream": "stdout",
       "text": [
        "2015-04-14 08:50:41,601 - [DEBUG] starting paths to follow: 1\n"
       ]
      },
      {
       "output_type": "stream",
       "stream": "stdout",
       "text": [
        "2015-04-14 08:50:41,601 - [DEBUG] starting paths to follow: 1\n"
       ]
      },
      {
       "output_type": "stream",
       "stream": "stdout",
       "text": [
        "2015-04-14 08:50:41,601 - [DEBUG] starting paths to follow: 1\n"
       ]
      },
      {
       "output_type": "stream",
       "stream": "stdout",
       "text": [
        "2015-04-14 08:50:41,601 - [DEBUG] starting paths to follow: 1\n"
       ]
      },
      {
       "output_type": "stream",
       "stream": "stdout",
       "text": [
        "2015-04-14 08:50:41,601 - [DEBUG] starting paths to follow: 1\n"
       ]
      },
      {
       "output_type": "stream",
       "stream": "stdout",
       "text": [
        "2015-04-14 08:50:41,601 - [DEBUG] starting paths to follow: 1\n"
       ]
      },
      {
       "output_type": "stream",
       "stream": "stdout",
       "text": [
        "2015-04-14 08:50:41,601 - [DEBUG] starting paths to follow: 1\n"
       ]
      },
      {
       "output_type": "stream",
       "stream": "stdout",
       "text": [
        "2015-04-14 08:50:41,601 - [DEBUG] starting paths to follow: 1\n"
       ]
      },
      {
       "output_type": "stream",
       "stream": "stdout",
       "text": [
        "2015-04-14 08:50:41,601 - [DEBUG] starting paths to follow: 1\n"
       ]
      },
      {
       "output_type": "stream",
       "stream": "stderr",
       "text": [
        "DEBUG:crawler:starting paths to follow: 1\n"
       ]
      },
      {
       "output_type": "stream",
       "stream": "stdout",
       "text": [
        "2015-04-14 08:50:41,608 - [DEBUG] parsed file TSData/catalog.xml\n"
       ]
      },
      {
       "output_type": "stream",
       "stream": "stdout",
       "text": [
        "2015-04-14 08:50:41,608 - [DEBUG] parsed file TSData/catalog.xml\n"
       ]
      },
      {
       "output_type": "stream",
       "stream": "stdout",
       "text": [
        "2015-04-14 08:50:41,608 - [DEBUG] parsed file TSData/catalog.xml\n"
       ]
      },
      {
       "output_type": "stream",
       "stream": "stdout",
       "text": [
        "2015-04-14 08:50:41,608 - [DEBUG] parsed file TSData/catalog.xml\n"
       ]
      },
      {
       "output_type": "stream",
       "stream": "stdout",
       "text": [
        "2015-04-14 08:50:41,608 - [DEBUG] parsed file TSData/catalog.xml\n"
       ]
      },
      {
       "output_type": "stream",
       "stream": "stdout",
       "text": [
        "2015-04-14 08:50:41,608 - [DEBUG] parsed file TSData/catalog.xml\n"
       ]
      },
      {
       "output_type": "stream",
       "stream": "stdout",
       "text": [
        "2015-04-14 08:50:41,608 - [DEBUG] parsed file TSData/catalog.xml\n"
       ]
      },
      {
       "output_type": "stream",
       "stream": "stdout",
       "text": [
        "2015-04-14 08:50:41,608 - [DEBUG] parsed file TSData/catalog.xml\n"
       ]
      },
      {
       "output_type": "stream",
       "stream": "stdout",
       "text": [
        "2015-04-14 08:50:41,608 - [DEBUG] parsed file TSData/catalog.xml\n"
       ]
      },
      {
       "output_type": "stream",
       "stream": "stdout",
       "text": [
        "2015-04-14 08:50:41,608 - [DEBUG] parsed file TSData/catalog.xml\n"
       ]
      },
      {
       "output_type": "stream",
       "stream": "stdout",
       "text": [
        "2015-04-14 08:50:41,608 - [DEBUG] parsed file TSData/catalog.xml\n"
       ]
      },
      {
       "output_type": "stream",
       "stream": "stdout",
       "text": [
        "2015-04-14 08:50:41,608 - [DEBUG] parsed file TSData/catalog.xml\n"
       ]
      },
      {
       "output_type": "stream",
       "stream": "stdout",
       "text": [
        "2015-04-14 08:50:41,608 - [DEBUG] parsed file TSData/catalog.xml\n"
       ]
      },
      {
       "output_type": "stream",
       "stream": "stdout",
       "text": [
        "2015-04-14 08:50:41,608 - [DEBUG] parsed file TSData/catalog.xml\n"
       ]
      },
      {
       "output_type": "stream",
       "stream": "stdout",
       "text": [
        "2015-04-14 08:50:41,608 - [DEBUG] parsed file TSData/catalog.xml\n"
       ]
      },
      {
       "output_type": "stream",
       "stream": "stdout",
       "text": [
        "2015-04-14 08:50:41,608 - [DEBUG] parsed file TSData/catalog.xml\n"
       ]
      },
      {
       "output_type": "stream",
       "stream": "stdout",
       "text": [
        "2015-04-14 08:50:41,608 - [DEBUG] parsed file TSData/catalog.xml\n"
       ]
      },
      {
       "output_type": "stream",
       "stream": "stdout",
       "text": [
        "2015-04-14 08:50:41,608 - [DEBUG] parsed file TSData/catalog.xml\n"
       ]
      },
      {
       "output_type": "stream",
       "stream": "stdout",
       "text": [
        "2015-04-14 08:50:41,608 - [DEBUG] parsed file TSData/catalog.xml\n"
       ]
      },
      {
       "output_type": "stream",
       "stream": "stdout",
       "text": [
        "2015-04-14 08:50:41,608 - [DEBUG] parsed file TSData/catalog.xml\n"
       ]
      },
      {
       "output_type": "stream",
       "stream": "stderr",
       "text": [
        "DEBUG:crawler:parsed file TSData/catalog.xml\n"
       ]
      },
      {
       "output_type": "stream",
       "stream": "stdout",
       "text": [
        "2015-04-14 08:50:41,613 - [DEBUG] number of elements found 2\n"
       ]
      },
      {
       "output_type": "stream",
       "stream": "stdout",
       "text": [
        "2015-04-14 08:50:41,613 - [DEBUG] number of elements found 2\n"
       ]
      },
      {
       "output_type": "stream",
       "stream": "stdout",
       "text": [
        "2015-04-14 08:50:41,613 - [DEBUG] number of elements found 2\n"
       ]
      },
      {
       "output_type": "stream",
       "stream": "stdout",
       "text": [
        "2015-04-14 08:50:41,613 - [DEBUG] number of elements found 2\n"
       ]
      },
      {
       "output_type": "stream",
       "stream": "stdout",
       "text": [
        "2015-04-14 08:50:41,613 - [DEBUG] number of elements found 2\n"
       ]
      },
      {
       "output_type": "stream",
       "stream": "stdout",
       "text": [
        "2015-04-14 08:50:41,613 - [DEBUG] number of elements found 2\n"
       ]
      },
      {
       "output_type": "stream",
       "stream": "stdout",
       "text": [
        "2015-04-14 08:50:41,613 - [DEBUG] number of elements found 2\n"
       ]
      },
      {
       "output_type": "stream",
       "stream": "stdout",
       "text": [
        "2015-04-14 08:50:41,613 - [DEBUG] number of elements found 2\n"
       ]
      },
      {
       "output_type": "stream",
       "stream": "stdout",
       "text": [
        "2015-04-14 08:50:41,613 - [DEBUG] number of elements found 2\n"
       ]
      },
      {
       "output_type": "stream",
       "stream": "stdout",
       "text": [
        "2015-04-14 08:50:41,613 - [DEBUG] number of elements found 2\n"
       ]
      },
      {
       "output_type": "stream",
       "stream": "stdout",
       "text": [
        "2015-04-14 08:50:41,613 - [DEBUG] number of elements found 2\n"
       ]
      },
      {
       "output_type": "stream",
       "stream": "stdout",
       "text": [
        "2015-04-14 08:50:41,613 - [DEBUG] number of elements found 2\n"
       ]
      },
      {
       "output_type": "stream",
       "stream": "stdout",
       "text": [
        "2015-04-14 08:50:41,613 - [DEBUG] number of elements found 2\n"
       ]
      },
      {
       "output_type": "stream",
       "stream": "stdout",
       "text": [
        "2015-04-14 08:50:41,613 - [DEBUG] number of elements found 2\n"
       ]
      },
      {
       "output_type": "stream",
       "stream": "stdout",
       "text": [
        "2015-04-14 08:50:41,613 - [DEBUG] number of elements found 2\n"
       ]
      },
      {
       "output_type": "stream",
       "stream": "stdout",
       "text": [
        "2015-04-14 08:50:41,613 - [DEBUG] number of elements found 2\n"
       ]
      },
      {
       "output_type": "stream",
       "stream": "stdout",
       "text": [
        "2015-04-14 08:50:41,613 - [DEBUG] number of elements found 2\n"
       ]
      },
      {
       "output_type": "stream",
       "stream": "stdout",
       "text": [
        "2015-04-14 08:50:41,613 - [DEBUG] number of elements found 2\n"
       ]
      },
      {
       "output_type": "stream",
       "stream": "stdout",
       "text": [
        "2015-04-14 08:50:41,613 - [DEBUG] number of elements found 2\n"
       ]
      },
      {
       "output_type": "stream",
       "stream": "stdout",
       "text": [
        "2015-04-14 08:50:41,613 - [DEBUG] number of elements found 2\n"
       ]
      },
      {
       "output_type": "stream",
       "stream": "stderr",
       "text": [
        "DEBUG:crawler:number of elements found 2\n"
       ]
      },
      {
       "output_type": "stream",
       "stream": "stdout",
       "text": [
        "2015-04-14 08:50:41,623 - [DEBUG] CATALOGREF element in TSData/catalog.xml (TSdata/ARGO_MERCHANT)\n"
       ]
      },
      {
       "output_type": "stream",
       "stream": "stdout",
       "text": [
        "2015-04-14 08:50:41,623 - [DEBUG] CATALOGREF element in TSData/catalog.xml (TSdata/ARGO_MERCHANT)\n"
       ]
      },
      {
       "output_type": "stream",
       "stream": "stdout",
       "text": [
        "2015-04-14 08:50:41,623 - [DEBUG] CATALOGREF element in TSData/catalog.xml (TSdata/ARGO_MERCHANT)\n"
       ]
      },
      {
       "output_type": "stream",
       "stream": "stdout",
       "text": [
        "2015-04-14 08:50:41,623 - [DEBUG] CATALOGREF element in TSData/catalog.xml (TSdata/ARGO_MERCHANT)\n"
       ]
      },
      {
       "output_type": "stream",
       "stream": "stdout",
       "text": [
        "2015-04-14 08:50:41,623 - [DEBUG] CATALOGREF element in TSData/catalog.xml (TSdata/ARGO_MERCHANT)\n"
       ]
      },
      {
       "output_type": "stream",
       "stream": "stdout",
       "text": [
        "2015-04-14 08:50:41,623 - [DEBUG] CATALOGREF element in TSData/catalog.xml (TSdata/ARGO_MERCHANT)\n"
       ]
      },
      {
       "output_type": "stream",
       "stream": "stdout",
       "text": [
        "2015-04-14 08:50:41,623 - [DEBUG] CATALOGREF element in TSData/catalog.xml (TSdata/ARGO_MERCHANT)\n"
       ]
      },
      {
       "output_type": "stream",
       "stream": "stdout",
       "text": [
        "2015-04-14 08:50:41,623 - [DEBUG] CATALOGREF element in TSData/catalog.xml (TSdata/ARGO_MERCHANT)\n"
       ]
      },
      {
       "output_type": "stream",
       "stream": "stdout",
       "text": [
        "2015-04-14 08:50:41,623 - [DEBUG] CATALOGREF element in TSData/catalog.xml (TSdata/ARGO_MERCHANT)\n"
       ]
      },
      {
       "output_type": "stream",
       "stream": "stdout",
       "text": [
        "2015-04-14 08:50:41,623 - [DEBUG] CATALOGREF element in TSData/catalog.xml (TSdata/ARGO_MERCHANT)\n"
       ]
      },
      {
       "output_type": "stream",
       "stream": "stdout",
       "text": [
        "2015-04-14 08:50:41,623 - [DEBUG] CATALOGREF element in TSData/catalog.xml (TSdata/ARGO_MERCHANT)\n"
       ]
      },
      {
       "output_type": "stream",
       "stream": "stdout",
       "text": [
        "2015-04-14 08:50:41,623 - [DEBUG] CATALOGREF element in TSData/catalog.xml (TSdata/ARGO_MERCHANT)\n"
       ]
      },
      {
       "output_type": "stream",
       "stream": "stdout",
       "text": [
        "2015-04-14 08:50:41,623 - [DEBUG] CATALOGREF element in TSData/catalog.xml (TSdata/ARGO_MERCHANT)\n"
       ]
      },
      {
       "output_type": "stream",
       "stream": "stdout",
       "text": [
        "2015-04-14 08:50:41,623 - [DEBUG] CATALOGREF element in TSData/catalog.xml (TSdata/ARGO_MERCHANT)\n"
       ]
      },
      {
       "output_type": "stream",
       "stream": "stdout",
       "text": [
        "2015-04-14 08:50:41,623 - [DEBUG] CATALOGREF element in TSData/catalog.xml (TSdata/ARGO_MERCHANT)\n"
       ]
      },
      {
       "output_type": "stream",
       "stream": "stdout",
       "text": [
        "2015-04-14 08:50:41,623 - [DEBUG] CATALOGREF element in TSData/catalog.xml (TSdata/ARGO_MERCHANT)\n"
       ]
      },
      {
       "output_type": "stream",
       "stream": "stdout",
       "text": [
        "2015-04-14 08:50:41,623 - [DEBUG] CATALOGREF element in TSData/catalog.xml (TSdata/ARGO_MERCHANT)\n"
       ]
      },
      {
       "output_type": "stream",
       "stream": "stdout",
       "text": [
        "2015-04-14 08:50:41,623 - [DEBUG] CATALOGREF element in TSData/catalog.xml (TSdata/ARGO_MERCHANT)\n"
       ]
      },
      {
       "output_type": "stream",
       "stream": "stdout",
       "text": [
        "2015-04-14 08:50:41,623 - [DEBUG] CATALOGREF element in TSData/catalog.xml (TSdata/ARGO_MERCHANT)\n"
       ]
      },
      {
       "output_type": "stream",
       "stream": "stdout",
       "text": [
        "2015-04-14 08:50:41,623 - [DEBUG] CATALOGREF element in TSData/catalog.xml (TSdata/ARGO_MERCHANT)\n"
       ]
      },
      {
       "output_type": "stream",
       "stream": "stderr",
       "text": [
        "DEBUG:crawler:CATALOGREF element in TSData/catalog.xml (TSdata/ARGO_MERCHANT)\n"
       ]
      },
      {
       "output_type": "stream",
       "stream": "stdout",
       "text": [
        "2015-04-14 08:50:41,640 - [DEBUG] nope\n"
       ]
      },
      {
       "output_type": "stream",
       "stream": "stdout",
       "text": [
        "2015-04-14 08:50:41,640 - [DEBUG] nope\n"
       ]
      },
      {
       "output_type": "stream",
       "stream": "stdout",
       "text": [
        "2015-04-14 08:50:41,640 - [DEBUG] nope\n"
       ]
      },
      {
       "output_type": "stream",
       "stream": "stdout",
       "text": [
        "2015-04-14 08:50:41,640 - [DEBUG] nope\n"
       ]
      },
      {
       "output_type": "stream",
       "stream": "stdout",
       "text": [
        "2015-04-14 08:50:41,640 - [DEBUG] nope\n"
       ]
      },
      {
       "output_type": "stream",
       "stream": "stdout",
       "text": [
        "2015-04-14 08:50:41,640 - [DEBUG] nope\n"
       ]
      },
      {
       "output_type": "stream",
       "stream": "stdout",
       "text": [
        "2015-04-14 08:50:41,640 - [DEBUG] nope\n"
       ]
      },
      {
       "output_type": "stream",
       "stream": "stdout",
       "text": [
        "2015-04-14 08:50:41,640 - [DEBUG] nope\n"
       ]
      },
      {
       "output_type": "stream",
       "stream": "stdout",
       "text": [
        "2015-04-14 08:50:41,640 - [DEBUG] nope\n"
       ]
      },
      {
       "output_type": "stream",
       "stream": "stdout",
       "text": [
        "2015-04-14 08:50:41,640 - [DEBUG] nope\n"
       ]
      },
      {
       "output_type": "stream",
       "stream": "stdout",
       "text": [
        "2015-04-14 08:50:41,640 - [DEBUG] nope\n"
       ]
      },
      {
       "output_type": "stream",
       "stream": "stdout",
       "text": [
        "2015-04-14 08:50:41,640 - [DEBUG] nope\n"
       ]
      },
      {
       "output_type": "stream",
       "stream": "stdout",
       "text": [
        "2015-04-14 08:50:41,640 - [DEBUG] nope\n"
       ]
      },
      {
       "output_type": "stream",
       "stream": "stdout",
       "text": [
        "2015-04-14 08:50:41,640 - [DEBUG] nope\n"
       ]
      },
      {
       "output_type": "stream",
       "stream": "stdout",
       "text": [
        "2015-04-14 08:50:41,640 - [DEBUG] nope\n"
       ]
      },
      {
       "output_type": "stream",
       "stream": "stdout",
       "text": [
        "2015-04-14 08:50:41,640 - [DEBUG] nope\n"
       ]
      },
      {
       "output_type": "stream",
       "stream": "stdout",
       "text": [
        "2015-04-14 08:50:41,640 - [DEBUG] nope\n"
       ]
      },
      {
       "output_type": "stream",
       "stream": "stdout",
       "text": [
        "2015-04-14 08:50:41,640 - [DEBUG] nope\n"
       ]
      },
      {
       "output_type": "stream",
       "stream": "stdout",
       "text": [
        "2015-04-14 08:50:41,640 - [DEBUG] nope\n"
       ]
      },
      {
       "output_type": "stream",
       "stream": "stdout",
       "text": [
        "2015-04-14 08:50:41,640 - [DEBUG] nope\n"
       ]
      },
      {
       "output_type": "stream",
       "stream": "stderr",
       "text": [
        "DEBUG:crawler:nope\n"
       ]
      },
      {
       "output_type": "stream",
       "stream": "stdout",
       "text": [
        "2015-04-14 08:50:41,653 - [DEBUG] TSdata/ARGO_MERCHANT has 0 links to follow\n"
       ]
      },
      {
       "output_type": "stream",
       "stream": "stdout",
       "text": [
        "2015-04-14 08:50:41,653 - [DEBUG] TSdata/ARGO_MERCHANT has 0 links to follow\n"
       ]
      },
      {
       "output_type": "stream",
       "stream": "stdout",
       "text": [
        "2015-04-14 08:50:41,653 - [DEBUG] TSdata/ARGO_MERCHANT has 0 links to follow\n"
       ]
      },
      {
       "output_type": "stream",
       "stream": "stdout",
       "text": [
        "2015-04-14 08:50:41,653 - [DEBUG] TSdata/ARGO_MERCHANT has 0 links to follow\n"
       ]
      },
      {
       "output_type": "stream",
       "stream": "stdout",
       "text": [
        "2015-04-14 08:50:41,653 - [DEBUG] TSdata/ARGO_MERCHANT has 0 links to follow\n"
       ]
      },
      {
       "output_type": "stream",
       "stream": "stdout",
       "text": [
        "2015-04-14 08:50:41,653 - [DEBUG] TSdata/ARGO_MERCHANT has 0 links to follow\n"
       ]
      },
      {
       "output_type": "stream",
       "stream": "stdout",
       "text": [
        "2015-04-14 08:50:41,653 - [DEBUG] TSdata/ARGO_MERCHANT has 0 links to follow\n"
       ]
      },
      {
       "output_type": "stream",
       "stream": "stdout",
       "text": [
        "2015-04-14 08:50:41,653 - [DEBUG] TSdata/ARGO_MERCHANT has 0 links to follow\n"
       ]
      },
      {
       "output_type": "stream",
       "stream": "stdout",
       "text": [
        "2015-04-14 08:50:41,653 - [DEBUG] TSdata/ARGO_MERCHANT has 0 links to follow\n"
       ]
      },
      {
       "output_type": "stream",
       "stream": "stdout",
       "text": [
        "2015-04-14 08:50:41,653 - [DEBUG] TSdata/ARGO_MERCHANT has 0 links to follow\n"
       ]
      },
      {
       "output_type": "stream",
       "stream": "stdout",
       "text": [
        "2015-04-14 08:50:41,653 - [DEBUG] TSdata/ARGO_MERCHANT has 0 links to follow\n"
       ]
      },
      {
       "output_type": "stream",
       "stream": "stdout",
       "text": [
        "2015-04-14 08:50:41,653 - [DEBUG] TSdata/ARGO_MERCHANT has 0 links to follow\n"
       ]
      },
      {
       "output_type": "stream",
       "stream": "stdout",
       "text": [
        "2015-04-14 08:50:41,653 - [DEBUG] TSdata/ARGO_MERCHANT has 0 links to follow\n"
       ]
      },
      {
       "output_type": "stream",
       "stream": "stdout",
       "text": [
        "2015-04-14 08:50:41,653 - [DEBUG] TSdata/ARGO_MERCHANT has 0 links to follow\n"
       ]
      },
      {
       "output_type": "stream",
       "stream": "stdout",
       "text": [
        "2015-04-14 08:50:41,653 - [DEBUG] TSdata/ARGO_MERCHANT has 0 links to follow\n"
       ]
      },
      {
       "output_type": "stream",
       "stream": "stdout",
       "text": [
        "2015-04-14 08:50:41,653 - [DEBUG] TSdata/ARGO_MERCHANT has 0 links to follow\n"
       ]
      },
      {
       "output_type": "stream",
       "stream": "stdout",
       "text": [
        "2015-04-14 08:50:41,653 - [DEBUG] TSdata/ARGO_MERCHANT has 0 links to follow\n"
       ]
      },
      {
       "output_type": "stream",
       "stream": "stdout",
       "text": [
        "2015-04-14 08:50:41,653 - [DEBUG] TSdata/ARGO_MERCHANT has 0 links to follow\n"
       ]
      },
      {
       "output_type": "stream",
       "stream": "stdout",
       "text": [
        "2015-04-14 08:50:41,653 - [DEBUG] TSdata/ARGO_MERCHANT has 0 links to follow\n"
       ]
      },
      {
       "output_type": "stream",
       "stream": "stdout",
       "text": [
        "2015-04-14 08:50:41,653 - [DEBUG] TSdata/ARGO_MERCHANT has 0 links to follow\n"
       ]
      },
      {
       "output_type": "stream",
       "stream": "stderr",
       "text": [
        "DEBUG:crawler:TSdata/ARGO_MERCHANT has 0 links to follow\n"
       ]
      },
      {
       "output_type": "stream",
       "stream": "stdout",
       "text": [
        "2015-04-14 08:50:41,662 - [DEBUG] adding paths to follow: 0 (0)\n"
       ]
      },
      {
       "output_type": "stream",
       "stream": "stdout",
       "text": [
        "2015-04-14 08:50:41,662 - [DEBUG] adding paths to follow: 0 (0)\n"
       ]
      },
      {
       "output_type": "stream",
       "stream": "stdout",
       "text": [
        "2015-04-14 08:50:41,662 - [DEBUG] adding paths to follow: 0 (0)\n"
       ]
      },
      {
       "output_type": "stream",
       "stream": "stdout",
       "text": [
        "2015-04-14 08:50:41,662 - [DEBUG] adding paths to follow: 0 (0)\n"
       ]
      },
      {
       "output_type": "stream",
       "stream": "stdout",
       "text": [
        "2015-04-14 08:50:41,662 - [DEBUG] adding paths to follow: 0 (0)\n"
       ]
      },
      {
       "output_type": "stream",
       "stream": "stdout",
       "text": [
        "2015-04-14 08:50:41,662 - [DEBUG] adding paths to follow: 0 (0)\n"
       ]
      },
      {
       "output_type": "stream",
       "stream": "stdout",
       "text": [
        "2015-04-14 08:50:41,662 - [DEBUG] adding paths to follow: 0 (0)\n"
       ]
      },
      {
       "output_type": "stream",
       "stream": "stdout",
       "text": [
        "2015-04-14 08:50:41,662 - [DEBUG] adding paths to follow: 0 (0)\n"
       ]
      },
      {
       "output_type": "stream",
       "stream": "stdout",
       "text": [
        "2015-04-14 08:50:41,662 - [DEBUG] adding paths to follow: 0 (0)\n"
       ]
      },
      {
       "output_type": "stream",
       "stream": "stdout",
       "text": [
        "2015-04-14 08:50:41,662 - [DEBUG] adding paths to follow: 0 (0)\n"
       ]
      },
      {
       "output_type": "stream",
       "stream": "stdout",
       "text": [
        "2015-04-14 08:50:41,662 - [DEBUG] adding paths to follow: 0 (0)\n"
       ]
      },
      {
       "output_type": "stream",
       "stream": "stdout",
       "text": [
        "2015-04-14 08:50:41,662 - [DEBUG] adding paths to follow: 0 (0)\n"
       ]
      },
      {
       "output_type": "stream",
       "stream": "stdout",
       "text": [
        "2015-04-14 08:50:41,662 - [DEBUG] adding paths to follow: 0 (0)\n"
       ]
      },
      {
       "output_type": "stream",
       "stream": "stdout",
       "text": [
        "2015-04-14 08:50:41,662 - [DEBUG] adding paths to follow: 0 (0)\n"
       ]
      },
      {
       "output_type": "stream",
       "stream": "stdout",
       "text": [
        "2015-04-14 08:50:41,662 - [DEBUG] adding paths to follow: 0 (0)\n"
       ]
      },
      {
       "output_type": "stream",
       "stream": "stdout",
       "text": [
        "2015-04-14 08:50:41,662 - [DEBUG] adding paths to follow: 0 (0)\n"
       ]
      },
      {
       "output_type": "stream",
       "stream": "stdout",
       "text": [
        "2015-04-14 08:50:41,662 - [DEBUG] adding paths to follow: 0 (0)\n"
       ]
      },
      {
       "output_type": "stream",
       "stream": "stdout",
       "text": [
        "2015-04-14 08:50:41,662 - [DEBUG] adding paths to follow: 0 (0)\n"
       ]
      },
      {
       "output_type": "stream",
       "stream": "stdout",
       "text": [
        "2015-04-14 08:50:41,662 - [DEBUG] adding paths to follow: 0 (0)\n"
       ]
      },
      {
       "output_type": "stream",
       "stream": "stdout",
       "text": [
        "2015-04-14 08:50:41,662 - [DEBUG] adding paths to follow: 0 (0)\n"
       ]
      },
      {
       "output_type": "stream",
       "stream": "stderr",
       "text": [
        "DEBUG:crawler:adding paths to follow: 0 (0)\n"
       ]
      },
      {
       "output_type": "stream",
       "stream": "stdout",
       "text": [
        "2015-04-14 08:50:41,676 - [DEBUG] CATALOGREF element in TSData/catalog.xml (TSdata/BARNEGAT)\n"
       ]
      },
      {
       "output_type": "stream",
       "stream": "stdout",
       "text": [
        "2015-04-14 08:50:41,676 - [DEBUG] CATALOGREF element in TSData/catalog.xml (TSdata/BARNEGAT)\n"
       ]
      },
      {
       "output_type": "stream",
       "stream": "stdout",
       "text": [
        "2015-04-14 08:50:41,676 - [DEBUG] CATALOGREF element in TSData/catalog.xml (TSdata/BARNEGAT)\n"
       ]
      },
      {
       "output_type": "stream",
       "stream": "stdout",
       "text": [
        "2015-04-14 08:50:41,676 - [DEBUG] CATALOGREF element in TSData/catalog.xml (TSdata/BARNEGAT)\n"
       ]
      },
      {
       "output_type": "stream",
       "stream": "stdout",
       "text": [
        "2015-04-14 08:50:41,676 - [DEBUG] CATALOGREF element in TSData/catalog.xml (TSdata/BARNEGAT)\n"
       ]
      },
      {
       "output_type": "stream",
       "stream": "stdout",
       "text": [
        "2015-04-14 08:50:41,676 - [DEBUG] CATALOGREF element in TSData/catalog.xml (TSdata/BARNEGAT)\n"
       ]
      },
      {
       "output_type": "stream",
       "stream": "stdout",
       "text": [
        "2015-04-14 08:50:41,676 - [DEBUG] CATALOGREF element in TSData/catalog.xml (TSdata/BARNEGAT)\n"
       ]
      },
      {
       "output_type": "stream",
       "stream": "stdout",
       "text": [
        "2015-04-14 08:50:41,676 - [DEBUG] CATALOGREF element in TSData/catalog.xml (TSdata/BARNEGAT)\n"
       ]
      },
      {
       "output_type": "stream",
       "stream": "stdout",
       "text": [
        "2015-04-14 08:50:41,676 - [DEBUG] CATALOGREF element in TSData/catalog.xml (TSdata/BARNEGAT)\n"
       ]
      },
      {
       "output_type": "stream",
       "stream": "stdout",
       "text": [
        "2015-04-14 08:50:41,676 - [DEBUG] CATALOGREF element in TSData/catalog.xml (TSdata/BARNEGAT)\n"
       ]
      },
      {
       "output_type": "stream",
       "stream": "stdout",
       "text": [
        "2015-04-14 08:50:41,676 - [DEBUG] CATALOGREF element in TSData/catalog.xml (TSdata/BARNEGAT)\n"
       ]
      },
      {
       "output_type": "stream",
       "stream": "stdout",
       "text": [
        "2015-04-14 08:50:41,676 - [DEBUG] CATALOGREF element in TSData/catalog.xml (TSdata/BARNEGAT)\n"
       ]
      },
      {
       "output_type": "stream",
       "stream": "stdout",
       "text": [
        "2015-04-14 08:50:41,676 - [DEBUG] CATALOGREF element in TSData/catalog.xml (TSdata/BARNEGAT)\n"
       ]
      },
      {
       "output_type": "stream",
       "stream": "stdout",
       "text": [
        "2015-04-14 08:50:41,676 - [DEBUG] CATALOGREF element in TSData/catalog.xml (TSdata/BARNEGAT)\n"
       ]
      },
      {
       "output_type": "stream",
       "stream": "stdout",
       "text": [
        "2015-04-14 08:50:41,676 - [DEBUG] CATALOGREF element in TSData/catalog.xml (TSdata/BARNEGAT)\n"
       ]
      },
      {
       "output_type": "stream",
       "stream": "stdout",
       "text": [
        "2015-04-14 08:50:41,676 - [DEBUG] CATALOGREF element in TSData/catalog.xml (TSdata/BARNEGAT)\n"
       ]
      },
      {
       "output_type": "stream",
       "stream": "stdout",
       "text": [
        "2015-04-14 08:50:41,676 - [DEBUG] CATALOGREF element in TSData/catalog.xml (TSdata/BARNEGAT)\n"
       ]
      },
      {
       "output_type": "stream",
       "stream": "stdout",
       "text": [
        "2015-04-14 08:50:41,676 - [DEBUG] CATALOGREF element in TSData/catalog.xml (TSdata/BARNEGAT)\n"
       ]
      },
      {
       "output_type": "stream",
       "stream": "stdout",
       "text": [
        "2015-04-14 08:50:41,676 - [DEBUG] CATALOGREF element in TSData/catalog.xml (TSdata/BARNEGAT)\n"
       ]
      },
      {
       "output_type": "stream",
       "stream": "stdout",
       "text": [
        "2015-04-14 08:50:41,676 - [DEBUG] CATALOGREF element in TSData/catalog.xml (TSdata/BARNEGAT)\n"
       ]
      },
      {
       "output_type": "stream",
       "stream": "stderr",
       "text": [
        "DEBUG:crawler:CATALOGREF element in TSData/catalog.xml (TSdata/BARNEGAT)\n"
       ]
      },
      {
       "output_type": "stream",
       "stream": "stdout",
       "text": [
        "2015-04-14 08:50:41,686 - [DEBUG] nope\n"
       ]
      },
      {
       "output_type": "stream",
       "stream": "stdout",
       "text": [
        "2015-04-14 08:50:41,686 - [DEBUG] nope\n"
       ]
      },
      {
       "output_type": "stream",
       "stream": "stdout",
       "text": [
        "2015-04-14 08:50:41,686 - [DEBUG] nope\n"
       ]
      },
      {
       "output_type": "stream",
       "stream": "stdout",
       "text": [
        "2015-04-14 08:50:41,686 - [DEBUG] nope\n"
       ]
      },
      {
       "output_type": "stream",
       "stream": "stdout",
       "text": [
        "2015-04-14 08:50:41,686 - [DEBUG] nope\n"
       ]
      },
      {
       "output_type": "stream",
       "stream": "stdout",
       "text": [
        "2015-04-14 08:50:41,686 - [DEBUG] nope\n"
       ]
      },
      {
       "output_type": "stream",
       "stream": "stdout",
       "text": [
        "2015-04-14 08:50:41,686 - [DEBUG] nope\n"
       ]
      },
      {
       "output_type": "stream",
       "stream": "stdout",
       "text": [
        "2015-04-14 08:50:41,686 - [DEBUG] nope\n"
       ]
      },
      {
       "output_type": "stream",
       "stream": "stdout",
       "text": [
        "2015-04-14 08:50:41,686 - [DEBUG] nope\n"
       ]
      },
      {
       "output_type": "stream",
       "stream": "stdout",
       "text": [
        "2015-04-14 08:50:41,686 - [DEBUG] nope\n"
       ]
      },
      {
       "output_type": "stream",
       "stream": "stdout",
       "text": [
        "2015-04-14 08:50:41,686 - [DEBUG] nope\n"
       ]
      },
      {
       "output_type": "stream",
       "stream": "stdout",
       "text": [
        "2015-04-14 08:50:41,686 - [DEBUG] nope\n"
       ]
      },
      {
       "output_type": "stream",
       "stream": "stdout",
       "text": [
        "2015-04-14 08:50:41,686 - [DEBUG] nope\n"
       ]
      },
      {
       "output_type": "stream",
       "stream": "stdout",
       "text": [
        "2015-04-14 08:50:41,686 - [DEBUG] nope\n"
       ]
      },
      {
       "output_type": "stream",
       "stream": "stdout",
       "text": [
        "2015-04-14 08:50:41,686 - [DEBUG] nope\n"
       ]
      },
      {
       "output_type": "stream",
       "stream": "stdout",
       "text": [
        "2015-04-14 08:50:41,686 - [DEBUG] nope\n"
       ]
      },
      {
       "output_type": "stream",
       "stream": "stdout",
       "text": [
        "2015-04-14 08:50:41,686 - [DEBUG] nope\n"
       ]
      },
      {
       "output_type": "stream",
       "stream": "stdout",
       "text": [
        "2015-04-14 08:50:41,686 - [DEBUG] nope\n"
       ]
      },
      {
       "output_type": "stream",
       "stream": "stdout",
       "text": [
        "2015-04-14 08:50:41,686 - [DEBUG] nope\n"
       ]
      },
      {
       "output_type": "stream",
       "stream": "stdout",
       "text": [
        "2015-04-14 08:50:41,686 - [DEBUG] nope\n"
       ]
      },
      {
       "output_type": "stream",
       "stream": "stderr",
       "text": [
        "DEBUG:crawler:nope\n"
       ]
      },
      {
       "output_type": "stream",
       "stream": "stdout",
       "text": [
        "2015-04-14 08:50:41,692 - [DEBUG] TSdata/BARNEGAT has 0 links to follow\n"
       ]
      },
      {
       "output_type": "stream",
       "stream": "stdout",
       "text": [
        "2015-04-14 08:50:41,692 - [DEBUG] TSdata/BARNEGAT has 0 links to follow\n"
       ]
      },
      {
       "output_type": "stream",
       "stream": "stdout",
       "text": [
        "2015-04-14 08:50:41,692 - [DEBUG] TSdata/BARNEGAT has 0 links to follow\n"
       ]
      },
      {
       "output_type": "stream",
       "stream": "stdout",
       "text": [
        "2015-04-14 08:50:41,692 - [DEBUG] TSdata/BARNEGAT has 0 links to follow\n"
       ]
      },
      {
       "output_type": "stream",
       "stream": "stdout",
       "text": [
        "2015-04-14 08:50:41,692 - [DEBUG] TSdata/BARNEGAT has 0 links to follow\n"
       ]
      },
      {
       "output_type": "stream",
       "stream": "stdout",
       "text": [
        "2015-04-14 08:50:41,692 - [DEBUG] TSdata/BARNEGAT has 0 links to follow\n"
       ]
      },
      {
       "output_type": "stream",
       "stream": "stdout",
       "text": [
        "2015-04-14 08:50:41,692 - [DEBUG] TSdata/BARNEGAT has 0 links to follow\n"
       ]
      },
      {
       "output_type": "stream",
       "stream": "stdout",
       "text": [
        "2015-04-14 08:50:41,692 - [DEBUG] TSdata/BARNEGAT has 0 links to follow\n"
       ]
      },
      {
       "output_type": "stream",
       "stream": "stdout",
       "text": [
        "2015-04-14 08:50:41,692 - [DEBUG] TSdata/BARNEGAT has 0 links to follow\n"
       ]
      },
      {
       "output_type": "stream",
       "stream": "stdout",
       "text": [
        "2015-04-14 08:50:41,692 - [DEBUG] TSdata/BARNEGAT has 0 links to follow\n"
       ]
      },
      {
       "output_type": "stream",
       "stream": "stdout",
       "text": [
        "2015-04-14 08:50:41,692 - [DEBUG] TSdata/BARNEGAT has 0 links to follow\n"
       ]
      },
      {
       "output_type": "stream",
       "stream": "stdout",
       "text": [
        "2015-04-14 08:50:41,692 - [DEBUG] TSdata/BARNEGAT has 0 links to follow\n"
       ]
      },
      {
       "output_type": "stream",
       "stream": "stdout",
       "text": [
        "2015-04-14 08:50:41,692 - [DEBUG] TSdata/BARNEGAT has 0 links to follow\n"
       ]
      },
      {
       "output_type": "stream",
       "stream": "stdout",
       "text": [
        "2015-04-14 08:50:41,692 - [DEBUG] TSdata/BARNEGAT has 0 links to follow\n"
       ]
      },
      {
       "output_type": "stream",
       "stream": "stdout",
       "text": [
        "2015-04-14 08:50:41,692 - [DEBUG] TSdata/BARNEGAT has 0 links to follow\n"
       ]
      },
      {
       "output_type": "stream",
       "stream": "stdout",
       "text": [
        "2015-04-14 08:50:41,692 - [DEBUG] TSdata/BARNEGAT has 0 links to follow\n"
       ]
      },
      {
       "output_type": "stream",
       "stream": "stdout",
       "text": [
        "2015-04-14 08:50:41,692 - [DEBUG] TSdata/BARNEGAT has 0 links to follow\n"
       ]
      },
      {
       "output_type": "stream",
       "stream": "stdout",
       "text": [
        "2015-04-14 08:50:41,692 - [DEBUG] TSdata/BARNEGAT has 0 links to follow\n"
       ]
      },
      {
       "output_type": "stream",
       "stream": "stdout",
       "text": [
        "2015-04-14 08:50:41,692 - [DEBUG] TSdata/BARNEGAT has 0 links to follow\n"
       ]
      },
      {
       "output_type": "stream",
       "stream": "stdout",
       "text": [
        "2015-04-14 08:50:41,692 - [DEBUG] TSdata/BARNEGAT has 0 links to follow\n"
       ]
      },
      {
       "output_type": "stream",
       "stream": "stderr",
       "text": [
        "DEBUG:crawler:TSdata/BARNEGAT has 0 links to follow\n"
       ]
      },
      {
       "output_type": "stream",
       "stream": "stdout",
       "text": [
        "2015-04-14 08:50:41,698 - [DEBUG] adding paths to follow: 0 (0)\n"
       ]
      },
      {
       "output_type": "stream",
       "stream": "stdout",
       "text": [
        "2015-04-14 08:50:41,698 - [DEBUG] adding paths to follow: 0 (0)\n"
       ]
      },
      {
       "output_type": "stream",
       "stream": "stdout",
       "text": [
        "2015-04-14 08:50:41,698 - [DEBUG] adding paths to follow: 0 (0)\n"
       ]
      },
      {
       "output_type": "stream",
       "stream": "stdout",
       "text": [
        "2015-04-14 08:50:41,698 - [DEBUG] adding paths to follow: 0 (0)\n"
       ]
      },
      {
       "output_type": "stream",
       "stream": "stdout",
       "text": [
        "2015-04-14 08:50:41,698 - [DEBUG] adding paths to follow: 0 (0)\n"
       ]
      },
      {
       "output_type": "stream",
       "stream": "stdout",
       "text": [
        "2015-04-14 08:50:41,698 - [DEBUG] adding paths to follow: 0 (0)\n"
       ]
      },
      {
       "output_type": "stream",
       "stream": "stdout",
       "text": [
        "2015-04-14 08:50:41,698 - [DEBUG] adding paths to follow: 0 (0)\n"
       ]
      },
      {
       "output_type": "stream",
       "stream": "stdout",
       "text": [
        "2015-04-14 08:50:41,698 - [DEBUG] adding paths to follow: 0 (0)\n"
       ]
      },
      {
       "output_type": "stream",
       "stream": "stdout",
       "text": [
        "2015-04-14 08:50:41,698 - [DEBUG] adding paths to follow: 0 (0)\n"
       ]
      },
      {
       "output_type": "stream",
       "stream": "stdout",
       "text": [
        "2015-04-14 08:50:41,698 - [DEBUG] adding paths to follow: 0 (0)\n"
       ]
      },
      {
       "output_type": "stream",
       "stream": "stdout",
       "text": [
        "2015-04-14 08:50:41,698 - [DEBUG] adding paths to follow: 0 (0)\n"
       ]
      },
      {
       "output_type": "stream",
       "stream": "stdout",
       "text": [
        "2015-04-14 08:50:41,698 - [DEBUG] adding paths to follow: 0 (0)\n"
       ]
      },
      {
       "output_type": "stream",
       "stream": "stdout",
       "text": [
        "2015-04-14 08:50:41,698 - [DEBUG] adding paths to follow: 0 (0)\n"
       ]
      },
      {
       "output_type": "stream",
       "stream": "stdout",
       "text": [
        "2015-04-14 08:50:41,698 - [DEBUG] adding paths to follow: 0 (0)\n"
       ]
      },
      {
       "output_type": "stream",
       "stream": "stdout",
       "text": [
        "2015-04-14 08:50:41,698 - [DEBUG] adding paths to follow: 0 (0)\n"
       ]
      },
      {
       "output_type": "stream",
       "stream": "stdout",
       "text": [
        "2015-04-14 08:50:41,698 - [DEBUG] adding paths to follow: 0 (0)\n"
       ]
      },
      {
       "output_type": "stream",
       "stream": "stdout",
       "text": [
        "2015-04-14 08:50:41,698 - [DEBUG] adding paths to follow: 0 (0)\n"
       ]
      },
      {
       "output_type": "stream",
       "stream": "stdout",
       "text": [
        "2015-04-14 08:50:41,698 - [DEBUG] adding paths to follow: 0 (0)\n"
       ]
      },
      {
       "output_type": "stream",
       "stream": "stdout",
       "text": [
        "2015-04-14 08:50:41,698 - [DEBUG] adding paths to follow: 0 (0)\n"
       ]
      },
      {
       "output_type": "stream",
       "stream": "stdout",
       "text": [
        "2015-04-14 08:50:41,698 - [DEBUG] adding paths to follow: 0 (0)\n"
       ]
      },
      {
       "output_type": "stream",
       "stream": "stderr",
       "text": [
        "DEBUG:crawler:adding paths to follow: 0 (0)\n"
       ]
      },
      {
       "output_type": "stream",
       "stream": "stdout",
       "text": [
        "2015-04-14 08:50:41,704 - [DEBUG] fetched paths 1 (0)\n"
       ]
      },
      {
       "output_type": "stream",
       "stream": "stdout",
       "text": [
        "2015-04-14 08:50:41,704 - [DEBUG] fetched paths 1 (0)\n"
       ]
      },
      {
       "output_type": "stream",
       "stream": "stdout",
       "text": [
        "2015-04-14 08:50:41,704 - [DEBUG] fetched paths 1 (0)\n"
       ]
      },
      {
       "output_type": "stream",
       "stream": "stdout",
       "text": [
        "2015-04-14 08:50:41,704 - [DEBUG] fetched paths 1 (0)\n"
       ]
      },
      {
       "output_type": "stream",
       "stream": "stdout",
       "text": [
        "2015-04-14 08:50:41,704 - [DEBUG] fetched paths 1 (0)\n"
       ]
      },
      {
       "output_type": "stream",
       "stream": "stdout",
       "text": [
        "2015-04-14 08:50:41,704 - [DEBUG] fetched paths 1 (0)\n"
       ]
      },
      {
       "output_type": "stream",
       "stream": "stdout",
       "text": [
        "2015-04-14 08:50:41,704 - [DEBUG] fetched paths 1 (0)\n"
       ]
      },
      {
       "output_type": "stream",
       "stream": "stdout",
       "text": [
        "2015-04-14 08:50:41,704 - [DEBUG] fetched paths 1 (0)\n"
       ]
      },
      {
       "output_type": "stream",
       "stream": "stdout",
       "text": [
        "2015-04-14 08:50:41,704 - [DEBUG] fetched paths 1 (0)\n"
       ]
      },
      {
       "output_type": "stream",
       "stream": "stdout",
       "text": [
        "2015-04-14 08:50:41,704 - [DEBUG] fetched paths 1 (0)\n"
       ]
      },
      {
       "output_type": "stream",
       "stream": "stdout",
       "text": [
        "2015-04-14 08:50:41,704 - [DEBUG] fetched paths 1 (0)\n"
       ]
      },
      {
       "output_type": "stream",
       "stream": "stdout",
       "text": [
        "2015-04-14 08:50:41,704 - [DEBUG] fetched paths 1 (0)\n"
       ]
      },
      {
       "output_type": "stream",
       "stream": "stdout",
       "text": [
        "2015-04-14 08:50:41,704 - [DEBUG] fetched paths 1 (0)\n"
       ]
      },
      {
       "output_type": "stream",
       "stream": "stdout",
       "text": [
        "2015-04-14 08:50:41,704 - [DEBUG] fetched paths 1 (0)\n"
       ]
      },
      {
       "output_type": "stream",
       "stream": "stdout",
       "text": [
        "2015-04-14 08:50:41,704 - [DEBUG] fetched paths 1 (0)\n"
       ]
      },
      {
       "output_type": "stream",
       "stream": "stdout",
       "text": [
        "2015-04-14 08:50:41,704 - [DEBUG] fetched paths 1 (0)\n"
       ]
      },
      {
       "output_type": "stream",
       "stream": "stdout",
       "text": [
        "2015-04-14 08:50:41,704 - [DEBUG] fetched paths 1 (0)\n"
       ]
      },
      {
       "output_type": "stream",
       "stream": "stdout",
       "text": [
        "2015-04-14 08:50:41,704 - [DEBUG] fetched paths 1 (0)\n"
       ]
      },
      {
       "output_type": "stream",
       "stream": "stdout",
       "text": [
        "2015-04-14 08:50:41,704 - [DEBUG] fetched paths 1 (0)\n"
       ]
      },
      {
       "output_type": "stream",
       "stream": "stdout",
       "text": [
        "2015-04-14 08:50:41,704 - [DEBUG] fetched paths 1 (0)\n"
       ]
      },
      {
       "output_type": "stream",
       "stream": "stderr",
       "text": [
        "DEBUG:crawler:fetched paths 1 (0)\n"
       ]
      },
      {
       "output_type": "stream",
       "stream": "stdout",
       "text": [
        "2015-04-14 08:50:41,707 - [DEBUG] starting paths to follow: 1\n"
       ]
      },
      {
       "output_type": "stream",
       "stream": "stdout",
       "text": [
        "2015-04-14 08:50:41,707 - [DEBUG] starting paths to follow: 1\n"
       ]
      },
      {
       "output_type": "stream",
       "stream": "stdout",
       "text": [
        "2015-04-14 08:50:41,707 - [DEBUG] starting paths to follow: 1\n"
       ]
      },
      {
       "output_type": "stream",
       "stream": "stdout",
       "text": [
        "2015-04-14 08:50:41,707 - [DEBUG] starting paths to follow: 1\n"
       ]
      },
      {
       "output_type": "stream",
       "stream": "stdout",
       "text": [
        "2015-04-14 08:50:41,707 - [DEBUG] starting paths to follow: 1\n"
       ]
      },
      {
       "output_type": "stream",
       "stream": "stdout",
       "text": [
        "2015-04-14 08:50:41,707 - [DEBUG] starting paths to follow: 1\n"
       ]
      },
      {
       "output_type": "stream",
       "stream": "stdout",
       "text": [
        "2015-04-14 08:50:41,707 - [DEBUG] starting paths to follow: 1\n"
       ]
      },
      {
       "output_type": "stream",
       "stream": "stdout",
       "text": [
        "2015-04-14 08:50:41,707 - [DEBUG] starting paths to follow: 1\n"
       ]
      },
      {
       "output_type": "stream",
       "stream": "stdout",
       "text": [
        "2015-04-14 08:50:41,707 - [DEBUG] starting paths to follow: 1\n"
       ]
      },
      {
       "output_type": "stream",
       "stream": "stdout",
       "text": [
        "2015-04-14 08:50:41,707 - [DEBUG] starting paths to follow: 1\n"
       ]
      },
      {
       "output_type": "stream",
       "stream": "stdout",
       "text": [
        "2015-04-14 08:50:41,707 - [DEBUG] starting paths to follow: 1\n"
       ]
      },
      {
       "output_type": "stream",
       "stream": "stdout",
       "text": [
        "2015-04-14 08:50:41,707 - [DEBUG] starting paths to follow: 1\n"
       ]
      },
      {
       "output_type": "stream",
       "stream": "stdout",
       "text": [
        "2015-04-14 08:50:41,707 - [DEBUG] starting paths to follow: 1\n"
       ]
      },
      {
       "output_type": "stream",
       "stream": "stdout",
       "text": [
        "2015-04-14 08:50:41,707 - [DEBUG] starting paths to follow: 1\n"
       ]
      },
      {
       "output_type": "stream",
       "stream": "stdout",
       "text": [
        "2015-04-14 08:50:41,707 - [DEBUG] starting paths to follow: 1\n"
       ]
      },
      {
       "output_type": "stream",
       "stream": "stdout",
       "text": [
        "2015-04-14 08:50:41,707 - [DEBUG] starting paths to follow: 1\n"
       ]
      },
      {
       "output_type": "stream",
       "stream": "stdout",
       "text": [
        "2015-04-14 08:50:41,707 - [DEBUG] starting paths to follow: 1\n"
       ]
      },
      {
       "output_type": "stream",
       "stream": "stdout",
       "text": [
        "2015-04-14 08:50:41,707 - [DEBUG] starting paths to follow: 1\n"
       ]
      },
      {
       "output_type": "stream",
       "stream": "stdout",
       "text": [
        "2015-04-14 08:50:41,707 - [DEBUG] starting paths to follow: 1\n"
       ]
      },
      {
       "output_type": "stream",
       "stream": "stdout",
       "text": [
        "2015-04-14 08:50:41,707 - [DEBUG] starting paths to follow: 1\n"
       ]
      },
      {
       "output_type": "stream",
       "stream": "stderr",
       "text": [
        "DEBUG:crawler:starting paths to follow: 1\n"
       ]
      },
      {
       "output_type": "stream",
       "stream": "stdout",
       "text": [
        "2015-04-14 08:50:41,712 - [DEBUG] parsed file TSData/catalog.xml\n"
       ]
      },
      {
       "output_type": "stream",
       "stream": "stdout",
       "text": [
        "2015-04-14 08:50:41,712 - [DEBUG] parsed file TSData/catalog.xml\n"
       ]
      },
      {
       "output_type": "stream",
       "stream": "stdout",
       "text": [
        "2015-04-14 08:50:41,712 - [DEBUG] parsed file TSData/catalog.xml\n"
       ]
      },
      {
       "output_type": "stream",
       "stream": "stdout",
       "text": [
        "2015-04-14 08:50:41,712 - [DEBUG] parsed file TSData/catalog.xml\n"
       ]
      },
      {
       "output_type": "stream",
       "stream": "stdout",
       "text": [
        "2015-04-14 08:50:41,712 - [DEBUG] parsed file TSData/catalog.xml\n"
       ]
      },
      {
       "output_type": "stream",
       "stream": "stdout",
       "text": [
        "2015-04-14 08:50:41,712 - [DEBUG] parsed file TSData/catalog.xml\n"
       ]
      },
      {
       "output_type": "stream",
       "stream": "stdout",
       "text": [
        "2015-04-14 08:50:41,712 - [DEBUG] parsed file TSData/catalog.xml\n"
       ]
      },
      {
       "output_type": "stream",
       "stream": "stdout",
       "text": [
        "2015-04-14 08:50:41,712 - [DEBUG] parsed file TSData/catalog.xml\n"
       ]
      },
      {
       "output_type": "stream",
       "stream": "stdout",
       "text": [
        "2015-04-14 08:50:41,712 - [DEBUG] parsed file TSData/catalog.xml\n"
       ]
      },
      {
       "output_type": "stream",
       "stream": "stdout",
       "text": [
        "2015-04-14 08:50:41,712 - [DEBUG] parsed file TSData/catalog.xml\n"
       ]
      },
      {
       "output_type": "stream",
       "stream": "stdout",
       "text": [
        "2015-04-14 08:50:41,712 - [DEBUG] parsed file TSData/catalog.xml\n"
       ]
      },
      {
       "output_type": "stream",
       "stream": "stdout",
       "text": [
        "2015-04-14 08:50:41,712 - [DEBUG] parsed file TSData/catalog.xml\n"
       ]
      },
      {
       "output_type": "stream",
       "stream": "stdout",
       "text": [
        "2015-04-14 08:50:41,712 - [DEBUG] parsed file TSData/catalog.xml\n"
       ]
      },
      {
       "output_type": "stream",
       "stream": "stdout",
       "text": [
        "2015-04-14 08:50:41,712 - [DEBUG] parsed file TSData/catalog.xml\n"
       ]
      },
      {
       "output_type": "stream",
       "stream": "stdout",
       "text": [
        "2015-04-14 08:50:41,712 - [DEBUG] parsed file TSData/catalog.xml\n"
       ]
      },
      {
       "output_type": "stream",
       "stream": "stdout",
       "text": [
        "2015-04-14 08:50:41,712 - [DEBUG] parsed file TSData/catalog.xml\n"
       ]
      },
      {
       "output_type": "stream",
       "stream": "stdout",
       "text": [
        "2015-04-14 08:50:41,712 - [DEBUG] parsed file TSData/catalog.xml\n"
       ]
      },
      {
       "output_type": "stream",
       "stream": "stdout",
       "text": [
        "2015-04-14 08:50:41,712 - [DEBUG] parsed file TSData/catalog.xml\n"
       ]
      },
      {
       "output_type": "stream",
       "stream": "stdout",
       "text": [
        "2015-04-14 08:50:41,712 - [DEBUG] parsed file TSData/catalog.xml\n"
       ]
      },
      {
       "output_type": "stream",
       "stream": "stdout",
       "text": [
        "2015-04-14 08:50:41,712 - [DEBUG] parsed file TSData/catalog.xml\n"
       ]
      },
      {
       "output_type": "stream",
       "stream": "stderr",
       "text": [
        "DEBUG:crawler:parsed file TSData/catalog.xml\n"
       ]
      },
      {
       "output_type": "stream",
       "stream": "stdout",
       "text": [
        "2015-04-14 08:50:41,718 - [DEBUG] number of elements found 2\n"
       ]
      },
      {
       "output_type": "stream",
       "stream": "stdout",
       "text": [
        "2015-04-14 08:50:41,718 - [DEBUG] number of elements found 2\n"
       ]
      },
      {
       "output_type": "stream",
       "stream": "stdout",
       "text": [
        "2015-04-14 08:50:41,718 - [DEBUG] number of elements found 2\n"
       ]
      },
      {
       "output_type": "stream",
       "stream": "stdout",
       "text": [
        "2015-04-14 08:50:41,718 - [DEBUG] number of elements found 2\n"
       ]
      },
      {
       "output_type": "stream",
       "stream": "stdout",
       "text": [
        "2015-04-14 08:50:41,718 - [DEBUG] number of elements found 2\n"
       ]
      },
      {
       "output_type": "stream",
       "stream": "stdout",
       "text": [
        "2015-04-14 08:50:41,718 - [DEBUG] number of elements found 2\n"
       ]
      },
      {
       "output_type": "stream",
       "stream": "stdout",
       "text": [
        "2015-04-14 08:50:41,718 - [DEBUG] number of elements found 2\n"
       ]
      },
      {
       "output_type": "stream",
       "stream": "stdout",
       "text": [
        "2015-04-14 08:50:41,718 - [DEBUG] number of elements found 2\n"
       ]
      },
      {
       "output_type": "stream",
       "stream": "stdout",
       "text": [
        "2015-04-14 08:50:41,718 - [DEBUG] number of elements found 2\n"
       ]
      },
      {
       "output_type": "stream",
       "stream": "stdout",
       "text": [
        "2015-04-14 08:50:41,718 - [DEBUG] number of elements found 2\n"
       ]
      },
      {
       "output_type": "stream",
       "stream": "stdout",
       "text": [
        "2015-04-14 08:50:41,718 - [DEBUG] number of elements found 2\n"
       ]
      },
      {
       "output_type": "stream",
       "stream": "stdout",
       "text": [
        "2015-04-14 08:50:41,718 - [DEBUG] number of elements found 2\n"
       ]
      },
      {
       "output_type": "stream",
       "stream": "stdout",
       "text": [
        "2015-04-14 08:50:41,718 - [DEBUG] number of elements found 2\n"
       ]
      },
      {
       "output_type": "stream",
       "stream": "stdout",
       "text": [
        "2015-04-14 08:50:41,718 - [DEBUG] number of elements found 2\n"
       ]
      },
      {
       "output_type": "stream",
       "stream": "stdout",
       "text": [
        "2015-04-14 08:50:41,718 - [DEBUG] number of elements found 2\n"
       ]
      },
      {
       "output_type": "stream",
       "stream": "stdout",
       "text": [
        "2015-04-14 08:50:41,718 - [DEBUG] number of elements found 2\n"
       ]
      },
      {
       "output_type": "stream",
       "stream": "stdout",
       "text": [
        "2015-04-14 08:50:41,718 - [DEBUG] number of elements found 2\n"
       ]
      },
      {
       "output_type": "stream",
       "stream": "stdout",
       "text": [
        "2015-04-14 08:50:41,718 - [DEBUG] number of elements found 2\n"
       ]
      },
      {
       "output_type": "stream",
       "stream": "stdout",
       "text": [
        "2015-04-14 08:50:41,718 - [DEBUG] number of elements found 2\n"
       ]
      },
      {
       "output_type": "stream",
       "stream": "stdout",
       "text": [
        "2015-04-14 08:50:41,718 - [DEBUG] number of elements found 2\n"
       ]
      },
      {
       "output_type": "stream",
       "stream": "stderr",
       "text": [
        "DEBUG:crawler:number of elements found 2\n"
       ]
      },
      {
       "output_type": "stream",
       "stream": "stdout",
       "text": [
        "2015-04-14 08:50:41,722 - [DEBUG] CATALOGREF element in TSData/catalog.xml (TSdata/ARGO_MERCHANT)\n"
       ]
      },
      {
       "output_type": "stream",
       "stream": "stdout",
       "text": [
        "2015-04-14 08:50:41,722 - [DEBUG] CATALOGREF element in TSData/catalog.xml (TSdata/ARGO_MERCHANT)\n"
       ]
      },
      {
       "output_type": "stream",
       "stream": "stdout",
       "text": [
        "2015-04-14 08:50:41,722 - [DEBUG] CATALOGREF element in TSData/catalog.xml (TSdata/ARGO_MERCHANT)\n"
       ]
      },
      {
       "output_type": "stream",
       "stream": "stdout",
       "text": [
        "2015-04-14 08:50:41,722 - [DEBUG] CATALOGREF element in TSData/catalog.xml (TSdata/ARGO_MERCHANT)\n"
       ]
      },
      {
       "output_type": "stream",
       "stream": "stdout",
       "text": [
        "2015-04-14 08:50:41,722 - [DEBUG] CATALOGREF element in TSData/catalog.xml (TSdata/ARGO_MERCHANT)\n"
       ]
      },
      {
       "output_type": "stream",
       "stream": "stdout",
       "text": [
        "2015-04-14 08:50:41,722 - [DEBUG] CATALOGREF element in TSData/catalog.xml (TSdata/ARGO_MERCHANT)\n"
       ]
      },
      {
       "output_type": "stream",
       "stream": "stdout",
       "text": [
        "2015-04-14 08:50:41,722 - [DEBUG] CATALOGREF element in TSData/catalog.xml (TSdata/ARGO_MERCHANT)\n"
       ]
      },
      {
       "output_type": "stream",
       "stream": "stdout",
       "text": [
        "2015-04-14 08:50:41,722 - [DEBUG] CATALOGREF element in TSData/catalog.xml (TSdata/ARGO_MERCHANT)\n"
       ]
      },
      {
       "output_type": "stream",
       "stream": "stdout",
       "text": [
        "2015-04-14 08:50:41,722 - [DEBUG] CATALOGREF element in TSData/catalog.xml (TSdata/ARGO_MERCHANT)\n"
       ]
      },
      {
       "output_type": "stream",
       "stream": "stdout",
       "text": [
        "2015-04-14 08:50:41,722 - [DEBUG] CATALOGREF element in TSData/catalog.xml (TSdata/ARGO_MERCHANT)\n"
       ]
      },
      {
       "output_type": "stream",
       "stream": "stdout",
       "text": [
        "2015-04-14 08:50:41,722 - [DEBUG] CATALOGREF element in TSData/catalog.xml (TSdata/ARGO_MERCHANT)\n"
       ]
      },
      {
       "output_type": "stream",
       "stream": "stdout",
       "text": [
        "2015-04-14 08:50:41,722 - [DEBUG] CATALOGREF element in TSData/catalog.xml (TSdata/ARGO_MERCHANT)\n"
       ]
      },
      {
       "output_type": "stream",
       "stream": "stdout",
       "text": [
        "2015-04-14 08:50:41,722 - [DEBUG] CATALOGREF element in TSData/catalog.xml (TSdata/ARGO_MERCHANT)\n"
       ]
      },
      {
       "output_type": "stream",
       "stream": "stdout",
       "text": [
        "2015-04-14 08:50:41,722 - [DEBUG] CATALOGREF element in TSData/catalog.xml (TSdata/ARGO_MERCHANT)\n"
       ]
      },
      {
       "output_type": "stream",
       "stream": "stdout",
       "text": [
        "2015-04-14 08:50:41,722 - [DEBUG] CATALOGREF element in TSData/catalog.xml (TSdata/ARGO_MERCHANT)\n"
       ]
      },
      {
       "output_type": "stream",
       "stream": "stdout",
       "text": [
        "2015-04-14 08:50:41,722 - [DEBUG] CATALOGREF element in TSData/catalog.xml (TSdata/ARGO_MERCHANT)\n"
       ]
      },
      {
       "output_type": "stream",
       "stream": "stdout",
       "text": [
        "2015-04-14 08:50:41,722 - [DEBUG] CATALOGREF element in TSData/catalog.xml (TSdata/ARGO_MERCHANT)\n"
       ]
      },
      {
       "output_type": "stream",
       "stream": "stdout",
       "text": [
        "2015-04-14 08:50:41,722 - [DEBUG] CATALOGREF element in TSData/catalog.xml (TSdata/ARGO_MERCHANT)\n"
       ]
      },
      {
       "output_type": "stream",
       "stream": "stdout",
       "text": [
        "2015-04-14 08:50:41,722 - [DEBUG] CATALOGREF element in TSData/catalog.xml (TSdata/ARGO_MERCHANT)\n"
       ]
      },
      {
       "output_type": "stream",
       "stream": "stdout",
       "text": [
        "2015-04-14 08:50:41,722 - [DEBUG] CATALOGREF element in TSData/catalog.xml (TSdata/ARGO_MERCHANT)\n"
       ]
      },
      {
       "output_type": "stream",
       "stream": "stderr",
       "text": [
        "DEBUG:crawler:CATALOGREF element in TSData/catalog.xml (TSdata/ARGO_MERCHANT)\n"
       ]
      },
      {
       "output_type": "stream",
       "stream": "stdout",
       "text": [
        "2015-04-14 08:50:41,727 - [DEBUG] nope\n"
       ]
      },
      {
       "output_type": "stream",
       "stream": "stdout",
       "text": [
        "2015-04-14 08:50:41,727 - [DEBUG] nope\n"
       ]
      },
      {
       "output_type": "stream",
       "stream": "stdout",
       "text": [
        "2015-04-14 08:50:41,727 - [DEBUG] nope\n"
       ]
      },
      {
       "output_type": "stream",
       "stream": "stdout",
       "text": [
        "2015-04-14 08:50:41,727 - [DEBUG] nope\n"
       ]
      },
      {
       "output_type": "stream",
       "stream": "stdout",
       "text": [
        "2015-04-14 08:50:41,727 - [DEBUG] nope\n"
       ]
      },
      {
       "output_type": "stream",
       "stream": "stdout",
       "text": [
        "2015-04-14 08:50:41,727 - [DEBUG] nope\n"
       ]
      },
      {
       "output_type": "stream",
       "stream": "stdout",
       "text": [
        "2015-04-14 08:50:41,727 - [DEBUG] nope\n"
       ]
      },
      {
       "output_type": "stream",
       "stream": "stdout",
       "text": [
        "2015-04-14 08:50:41,727 - [DEBUG] nope\n"
       ]
      },
      {
       "output_type": "stream",
       "stream": "stdout",
       "text": [
        "2015-04-14 08:50:41,727 - [DEBUG] nope\n"
       ]
      },
      {
       "output_type": "stream",
       "stream": "stdout",
       "text": [
        "2015-04-14 08:50:41,727 - [DEBUG] nope\n"
       ]
      },
      {
       "output_type": "stream",
       "stream": "stdout",
       "text": [
        "2015-04-14 08:50:41,727 - [DEBUG] nope\n"
       ]
      },
      {
       "output_type": "stream",
       "stream": "stdout",
       "text": [
        "2015-04-14 08:50:41,727 - [DEBUG] nope\n"
       ]
      },
      {
       "output_type": "stream",
       "stream": "stdout",
       "text": [
        "2015-04-14 08:50:41,727 - [DEBUG] nope\n"
       ]
      },
      {
       "output_type": "stream",
       "stream": "stdout",
       "text": [
        "2015-04-14 08:50:41,727 - [DEBUG] nope\n"
       ]
      },
      {
       "output_type": "stream",
       "stream": "stdout",
       "text": [
        "2015-04-14 08:50:41,727 - [DEBUG] nope\n"
       ]
      },
      {
       "output_type": "stream",
       "stream": "stdout",
       "text": [
        "2015-04-14 08:50:41,727 - [DEBUG] nope\n"
       ]
      },
      {
       "output_type": "stream",
       "stream": "stdout",
       "text": [
        "2015-04-14 08:50:41,727 - [DEBUG] nope\n"
       ]
      },
      {
       "output_type": "stream",
       "stream": "stdout",
       "text": [
        "2015-04-14 08:50:41,727 - [DEBUG] nope\n"
       ]
      },
      {
       "output_type": "stream",
       "stream": "stdout",
       "text": [
        "2015-04-14 08:50:41,727 - [DEBUG] nope\n"
       ]
      },
      {
       "output_type": "stream",
       "stream": "stdout",
       "text": [
        "2015-04-14 08:50:41,727 - [DEBUG] nope\n"
       ]
      },
      {
       "output_type": "stream",
       "stream": "stderr",
       "text": [
        "DEBUG:crawler:nope\n"
       ]
      },
      {
       "output_type": "stream",
       "stream": "stdout",
       "text": [
        "2015-04-14 08:50:41,732 - [DEBUG] TSdata/ARGO_MERCHANT has 0 links to follow\n"
       ]
      },
      {
       "output_type": "stream",
       "stream": "stdout",
       "text": [
        "2015-04-14 08:50:41,732 - [DEBUG] TSdata/ARGO_MERCHANT has 0 links to follow\n"
       ]
      },
      {
       "output_type": "stream",
       "stream": "stdout",
       "text": [
        "2015-04-14 08:50:41,732 - [DEBUG] TSdata/ARGO_MERCHANT has 0 links to follow\n"
       ]
      },
      {
       "output_type": "stream",
       "stream": "stdout",
       "text": [
        "2015-04-14 08:50:41,732 - [DEBUG] TSdata/ARGO_MERCHANT has 0 links to follow\n"
       ]
      },
      {
       "output_type": "stream",
       "stream": "stdout",
       "text": [
        "2015-04-14 08:50:41,732 - [DEBUG] TSdata/ARGO_MERCHANT has 0 links to follow\n"
       ]
      },
      {
       "output_type": "stream",
       "stream": "stdout",
       "text": [
        "2015-04-14 08:50:41,732 - [DEBUG] TSdata/ARGO_MERCHANT has 0 links to follow\n"
       ]
      },
      {
       "output_type": "stream",
       "stream": "stdout",
       "text": [
        "2015-04-14 08:50:41,732 - [DEBUG] TSdata/ARGO_MERCHANT has 0 links to follow\n"
       ]
      },
      {
       "output_type": "stream",
       "stream": "stdout",
       "text": [
        "2015-04-14 08:50:41,732 - [DEBUG] TSdata/ARGO_MERCHANT has 0 links to follow\n"
       ]
      },
      {
       "output_type": "stream",
       "stream": "stdout",
       "text": [
        "2015-04-14 08:50:41,732 - [DEBUG] TSdata/ARGO_MERCHANT has 0 links to follow\n"
       ]
      },
      {
       "output_type": "stream",
       "stream": "stdout",
       "text": [
        "2015-04-14 08:50:41,732 - [DEBUG] TSdata/ARGO_MERCHANT has 0 links to follow\n"
       ]
      },
      {
       "output_type": "stream",
       "stream": "stdout",
       "text": [
        "2015-04-14 08:50:41,732 - [DEBUG] TSdata/ARGO_MERCHANT has 0 links to follow\n"
       ]
      },
      {
       "output_type": "stream",
       "stream": "stdout",
       "text": [
        "2015-04-14 08:50:41,732 - [DEBUG] TSdata/ARGO_MERCHANT has 0 links to follow\n"
       ]
      },
      {
       "output_type": "stream",
       "stream": "stdout",
       "text": [
        "2015-04-14 08:50:41,732 - [DEBUG] TSdata/ARGO_MERCHANT has 0 links to follow\n"
       ]
      },
      {
       "output_type": "stream",
       "stream": "stdout",
       "text": [
        "2015-04-14 08:50:41,732 - [DEBUG] TSdata/ARGO_MERCHANT has 0 links to follow\n"
       ]
      },
      {
       "output_type": "stream",
       "stream": "stdout",
       "text": [
        "2015-04-14 08:50:41,732 - [DEBUG] TSdata/ARGO_MERCHANT has 0 links to follow\n"
       ]
      },
      {
       "output_type": "stream",
       "stream": "stdout",
       "text": [
        "2015-04-14 08:50:41,732 - [DEBUG] TSdata/ARGO_MERCHANT has 0 links to follow\n"
       ]
      },
      {
       "output_type": "stream",
       "stream": "stdout",
       "text": [
        "2015-04-14 08:50:41,732 - [DEBUG] TSdata/ARGO_MERCHANT has 0 links to follow\n"
       ]
      },
      {
       "output_type": "stream",
       "stream": "stdout",
       "text": [
        "2015-04-14 08:50:41,732 - [DEBUG] TSdata/ARGO_MERCHANT has 0 links to follow\n"
       ]
      },
      {
       "output_type": "stream",
       "stream": "stdout",
       "text": [
        "2015-04-14 08:50:41,732 - [DEBUG] TSdata/ARGO_MERCHANT has 0 links to follow\n"
       ]
      },
      {
       "output_type": "stream",
       "stream": "stdout",
       "text": [
        "2015-04-14 08:50:41,732 - [DEBUG] TSdata/ARGO_MERCHANT has 0 links to follow\n"
       ]
      },
      {
       "output_type": "stream",
       "stream": "stderr",
       "text": [
        "DEBUG:crawler:TSdata/ARGO_MERCHANT has 0 links to follow\n"
       ]
      },
      {
       "output_type": "stream",
       "stream": "stdout",
       "text": [
        "2015-04-14 08:50:41,737 - [DEBUG] adding paths to follow: 0 (0)\n"
       ]
      },
      {
       "output_type": "stream",
       "stream": "stdout",
       "text": [
        "2015-04-14 08:50:41,737 - [DEBUG] adding paths to follow: 0 (0)\n"
       ]
      },
      {
       "output_type": "stream",
       "stream": "stdout",
       "text": [
        "2015-04-14 08:50:41,737 - [DEBUG] adding paths to follow: 0 (0)\n"
       ]
      },
      {
       "output_type": "stream",
       "stream": "stdout",
       "text": [
        "2015-04-14 08:50:41,737 - [DEBUG] adding paths to follow: 0 (0)\n"
       ]
      },
      {
       "output_type": "stream",
       "stream": "stdout",
       "text": [
        "2015-04-14 08:50:41,737 - [DEBUG] adding paths to follow: 0 (0)\n"
       ]
      },
      {
       "output_type": "stream",
       "stream": "stdout",
       "text": [
        "2015-04-14 08:50:41,737 - [DEBUG] adding paths to follow: 0 (0)\n"
       ]
      },
      {
       "output_type": "stream",
       "stream": "stdout",
       "text": [
        "2015-04-14 08:50:41,737 - [DEBUG] adding paths to follow: 0 (0)\n"
       ]
      },
      {
       "output_type": "stream",
       "stream": "stdout",
       "text": [
        "2015-04-14 08:50:41,737 - [DEBUG] adding paths to follow: 0 (0)\n"
       ]
      },
      {
       "output_type": "stream",
       "stream": "stdout",
       "text": [
        "2015-04-14 08:50:41,737 - [DEBUG] adding paths to follow: 0 (0)\n"
       ]
      },
      {
       "output_type": "stream",
       "stream": "stdout",
       "text": [
        "2015-04-14 08:50:41,737 - [DEBUG] adding paths to follow: 0 (0)\n"
       ]
      },
      {
       "output_type": "stream",
       "stream": "stdout",
       "text": [
        "2015-04-14 08:50:41,737 - [DEBUG] adding paths to follow: 0 (0)\n"
       ]
      },
      {
       "output_type": "stream",
       "stream": "stdout",
       "text": [
        "2015-04-14 08:50:41,737 - [DEBUG] adding paths to follow: 0 (0)\n"
       ]
      },
      {
       "output_type": "stream",
       "stream": "stdout",
       "text": [
        "2015-04-14 08:50:41,737 - [DEBUG] adding paths to follow: 0 (0)\n"
       ]
      },
      {
       "output_type": "stream",
       "stream": "stdout",
       "text": [
        "2015-04-14 08:50:41,737 - [DEBUG] adding paths to follow: 0 (0)\n"
       ]
      },
      {
       "output_type": "stream",
       "stream": "stdout",
       "text": [
        "2015-04-14 08:50:41,737 - [DEBUG] adding paths to follow: 0 (0)\n"
       ]
      },
      {
       "output_type": "stream",
       "stream": "stdout",
       "text": [
        "2015-04-14 08:50:41,737 - [DEBUG] adding paths to follow: 0 (0)\n"
       ]
      },
      {
       "output_type": "stream",
       "stream": "stdout",
       "text": [
        "2015-04-14 08:50:41,737 - [DEBUG] adding paths to follow: 0 (0)\n"
       ]
      },
      {
       "output_type": "stream",
       "stream": "stdout",
       "text": [
        "2015-04-14 08:50:41,737 - [DEBUG] adding paths to follow: 0 (0)\n"
       ]
      },
      {
       "output_type": "stream",
       "stream": "stdout",
       "text": [
        "2015-04-14 08:50:41,737 - [DEBUG] adding paths to follow: 0 (0)\n"
       ]
      },
      {
       "output_type": "stream",
       "stream": "stdout",
       "text": [
        "2015-04-14 08:50:41,737 - [DEBUG] adding paths to follow: 0 (0)\n"
       ]
      },
      {
       "output_type": "stream",
       "stream": "stderr",
       "text": [
        "DEBUG:crawler:adding paths to follow: 0 (0)\n"
       ]
      },
      {
       "output_type": "stream",
       "stream": "stdout",
       "text": [
        "2015-04-14 08:50:41,741 - [DEBUG] CATALOGREF element in TSData/catalog.xml (TSdata/BARNEGAT)\n"
       ]
      },
      {
       "output_type": "stream",
       "stream": "stdout",
       "text": [
        "2015-04-14 08:50:41,741 - [DEBUG] CATALOGREF element in TSData/catalog.xml (TSdata/BARNEGAT)\n"
       ]
      },
      {
       "output_type": "stream",
       "stream": "stdout",
       "text": [
        "2015-04-14 08:50:41,741 - [DEBUG] CATALOGREF element in TSData/catalog.xml (TSdata/BARNEGAT)\n"
       ]
      },
      {
       "output_type": "stream",
       "stream": "stdout",
       "text": [
        "2015-04-14 08:50:41,741 - [DEBUG] CATALOGREF element in TSData/catalog.xml (TSdata/BARNEGAT)\n"
       ]
      },
      {
       "output_type": "stream",
       "stream": "stdout",
       "text": [
        "2015-04-14 08:50:41,741 - [DEBUG] CATALOGREF element in TSData/catalog.xml (TSdata/BARNEGAT)\n"
       ]
      },
      {
       "output_type": "stream",
       "stream": "stdout",
       "text": [
        "2015-04-14 08:50:41,741 - [DEBUG] CATALOGREF element in TSData/catalog.xml (TSdata/BARNEGAT)\n"
       ]
      },
      {
       "output_type": "stream",
       "stream": "stdout",
       "text": [
        "2015-04-14 08:50:41,741 - [DEBUG] CATALOGREF element in TSData/catalog.xml (TSdata/BARNEGAT)\n"
       ]
      },
      {
       "output_type": "stream",
       "stream": "stdout",
       "text": [
        "2015-04-14 08:50:41,741 - [DEBUG] CATALOGREF element in TSData/catalog.xml (TSdata/BARNEGAT)\n"
       ]
      },
      {
       "output_type": "stream",
       "stream": "stdout",
       "text": [
        "2015-04-14 08:50:41,741 - [DEBUG] CATALOGREF element in TSData/catalog.xml (TSdata/BARNEGAT)\n"
       ]
      },
      {
       "output_type": "stream",
       "stream": "stdout",
       "text": [
        "2015-04-14 08:50:41,741 - [DEBUG] CATALOGREF element in TSData/catalog.xml (TSdata/BARNEGAT)\n"
       ]
      },
      {
       "output_type": "stream",
       "stream": "stdout",
       "text": [
        "2015-04-14 08:50:41,741 - [DEBUG] CATALOGREF element in TSData/catalog.xml (TSdata/BARNEGAT)\n"
       ]
      },
      {
       "output_type": "stream",
       "stream": "stdout",
       "text": [
        "2015-04-14 08:50:41,741 - [DEBUG] CATALOGREF element in TSData/catalog.xml (TSdata/BARNEGAT)\n"
       ]
      },
      {
       "output_type": "stream",
       "stream": "stdout",
       "text": [
        "2015-04-14 08:50:41,741 - [DEBUG] CATALOGREF element in TSData/catalog.xml (TSdata/BARNEGAT)\n"
       ]
      },
      {
       "output_type": "stream",
       "stream": "stdout",
       "text": [
        "2015-04-14 08:50:41,741 - [DEBUG] CATALOGREF element in TSData/catalog.xml (TSdata/BARNEGAT)\n"
       ]
      },
      {
       "output_type": "stream",
       "stream": "stdout",
       "text": [
        "2015-04-14 08:50:41,741 - [DEBUG] CATALOGREF element in TSData/catalog.xml (TSdata/BARNEGAT)\n"
       ]
      },
      {
       "output_type": "stream",
       "stream": "stdout",
       "text": [
        "2015-04-14 08:50:41,741 - [DEBUG] CATALOGREF element in TSData/catalog.xml (TSdata/BARNEGAT)\n"
       ]
      },
      {
       "output_type": "stream",
       "stream": "stdout",
       "text": [
        "2015-04-14 08:50:41,741 - [DEBUG] CATALOGREF element in TSData/catalog.xml (TSdata/BARNEGAT)\n"
       ]
      },
      {
       "output_type": "stream",
       "stream": "stdout",
       "text": [
        "2015-04-14 08:50:41,741 - [DEBUG] CATALOGREF element in TSData/catalog.xml (TSdata/BARNEGAT)\n"
       ]
      },
      {
       "output_type": "stream",
       "stream": "stdout",
       "text": [
        "2015-04-14 08:50:41,741 - [DEBUG] CATALOGREF element in TSData/catalog.xml (TSdata/BARNEGAT)\n"
       ]
      },
      {
       "output_type": "stream",
       "stream": "stdout",
       "text": [
        "2015-04-14 08:50:41,741 - [DEBUG] CATALOGREF element in TSData/catalog.xml (TSdata/BARNEGAT)\n"
       ]
      },
      {
       "output_type": "stream",
       "stream": "stderr",
       "text": [
        "DEBUG:crawler:CATALOGREF element in TSData/catalog.xml (TSdata/BARNEGAT)\n"
       ]
      },
      {
       "output_type": "stream",
       "stream": "stdout",
       "text": [
        "2015-04-14 08:50:41,747 - [DEBUG] nope\n"
       ]
      },
      {
       "output_type": "stream",
       "stream": "stdout",
       "text": [
        "2015-04-14 08:50:41,747 - [DEBUG] nope\n"
       ]
      },
      {
       "output_type": "stream",
       "stream": "stdout",
       "text": [
        "2015-04-14 08:50:41,747 - [DEBUG] nope\n"
       ]
      },
      {
       "output_type": "stream",
       "stream": "stdout",
       "text": [
        "2015-04-14 08:50:41,747 - [DEBUG] nope\n"
       ]
      },
      {
       "output_type": "stream",
       "stream": "stdout",
       "text": [
        "2015-04-14 08:50:41,747 - [DEBUG] nope\n"
       ]
      },
      {
       "output_type": "stream",
       "stream": "stdout",
       "text": [
        "2015-04-14 08:50:41,747 - [DEBUG] nope\n"
       ]
      },
      {
       "output_type": "stream",
       "stream": "stdout",
       "text": [
        "2015-04-14 08:50:41,747 - [DEBUG] nope\n"
       ]
      },
      {
       "output_type": "stream",
       "stream": "stdout",
       "text": [
        "2015-04-14 08:50:41,747 - [DEBUG] nope\n"
       ]
      },
      {
       "output_type": "stream",
       "stream": "stdout",
       "text": [
        "2015-04-14 08:50:41,747 - [DEBUG] nope\n"
       ]
      },
      {
       "output_type": "stream",
       "stream": "stdout",
       "text": [
        "2015-04-14 08:50:41,747 - [DEBUG] nope\n"
       ]
      },
      {
       "output_type": "stream",
       "stream": "stdout",
       "text": [
        "2015-04-14 08:50:41,747 - [DEBUG] nope\n"
       ]
      },
      {
       "output_type": "stream",
       "stream": "stdout",
       "text": [
        "2015-04-14 08:50:41,747 - [DEBUG] nope\n"
       ]
      },
      {
       "output_type": "stream",
       "stream": "stdout",
       "text": [
        "2015-04-14 08:50:41,747 - [DEBUG] nope\n"
       ]
      },
      {
       "output_type": "stream",
       "stream": "stdout",
       "text": [
        "2015-04-14 08:50:41,747 - [DEBUG] nope\n"
       ]
      },
      {
       "output_type": "stream",
       "stream": "stdout",
       "text": [
        "2015-04-14 08:50:41,747 - [DEBUG] nope\n"
       ]
      },
      {
       "output_type": "stream",
       "stream": "stdout",
       "text": [
        "2015-04-14 08:50:41,747 - [DEBUG] nope\n"
       ]
      },
      {
       "output_type": "stream",
       "stream": "stdout",
       "text": [
        "2015-04-14 08:50:41,747 - [DEBUG] nope\n"
       ]
      },
      {
       "output_type": "stream",
       "stream": "stdout",
       "text": [
        "2015-04-14 08:50:41,747 - [DEBUG] nope\n"
       ]
      },
      {
       "output_type": "stream",
       "stream": "stdout",
       "text": [
        "2015-04-14 08:50:41,747 - [DEBUG] nope\n"
       ]
      },
      {
       "output_type": "stream",
       "stream": "stdout",
       "text": [
        "2015-04-14 08:50:41,747 - [DEBUG] nope\n"
       ]
      },
      {
       "output_type": "stream",
       "stream": "stderr",
       "text": [
        "DEBUG:crawler:nope\n"
       ]
      },
      {
       "output_type": "stream",
       "stream": "stdout",
       "text": [
        "2015-04-14 08:50:41,753 - [DEBUG] TSdata/BARNEGAT has 0 links to follow\n"
       ]
      },
      {
       "output_type": "stream",
       "stream": "stdout",
       "text": [
        "2015-04-14 08:50:41,753 - [DEBUG] TSdata/BARNEGAT has 0 links to follow\n"
       ]
      },
      {
       "output_type": "stream",
       "stream": "stdout",
       "text": [
        "2015-04-14 08:50:41,753 - [DEBUG] TSdata/BARNEGAT has 0 links to follow\n"
       ]
      },
      {
       "output_type": "stream",
       "stream": "stdout",
       "text": [
        "2015-04-14 08:50:41,753 - [DEBUG] TSdata/BARNEGAT has 0 links to follow\n"
       ]
      },
      {
       "output_type": "stream",
       "stream": "stdout",
       "text": [
        "2015-04-14 08:50:41,753 - [DEBUG] TSdata/BARNEGAT has 0 links to follow\n"
       ]
      },
      {
       "output_type": "stream",
       "stream": "stdout",
       "text": [
        "2015-04-14 08:50:41,753 - [DEBUG] TSdata/BARNEGAT has 0 links to follow\n"
       ]
      },
      {
       "output_type": "stream",
       "stream": "stdout",
       "text": [
        "2015-04-14 08:50:41,753 - [DEBUG] TSdata/BARNEGAT has 0 links to follow\n"
       ]
      },
      {
       "output_type": "stream",
       "stream": "stdout",
       "text": [
        "2015-04-14 08:50:41,753 - [DEBUG] TSdata/BARNEGAT has 0 links to follow\n"
       ]
      },
      {
       "output_type": "stream",
       "stream": "stdout",
       "text": [
        "2015-04-14 08:50:41,753 - [DEBUG] TSdata/BARNEGAT has 0 links to follow\n"
       ]
      },
      {
       "output_type": "stream",
       "stream": "stdout",
       "text": [
        "2015-04-14 08:50:41,753 - [DEBUG] TSdata/BARNEGAT has 0 links to follow\n"
       ]
      },
      {
       "output_type": "stream",
       "stream": "stdout",
       "text": [
        "2015-04-14 08:50:41,753 - [DEBUG] TSdata/BARNEGAT has 0 links to follow\n"
       ]
      },
      {
       "output_type": "stream",
       "stream": "stdout",
       "text": [
        "2015-04-14 08:50:41,753 - [DEBUG] TSdata/BARNEGAT has 0 links to follow\n"
       ]
      },
      {
       "output_type": "stream",
       "stream": "stdout",
       "text": [
        "2015-04-14 08:50:41,753 - [DEBUG] TSdata/BARNEGAT has 0 links to follow\n"
       ]
      },
      {
       "output_type": "stream",
       "stream": "stdout",
       "text": [
        "2015-04-14 08:50:41,753 - [DEBUG] TSdata/BARNEGAT has 0 links to follow\n"
       ]
      },
      {
       "output_type": "stream",
       "stream": "stdout",
       "text": [
        "2015-04-14 08:50:41,753 - [DEBUG] TSdata/BARNEGAT has 0 links to follow\n"
       ]
      },
      {
       "output_type": "stream",
       "stream": "stdout",
       "text": [
        "2015-04-14 08:50:41,753 - [DEBUG] TSdata/BARNEGAT has 0 links to follow\n"
       ]
      },
      {
       "output_type": "stream",
       "stream": "stdout",
       "text": [
        "2015-04-14 08:50:41,753 - [DEBUG] TSdata/BARNEGAT has 0 links to follow\n"
       ]
      },
      {
       "output_type": "stream",
       "stream": "stdout",
       "text": [
        "2015-04-14 08:50:41,753 - [DEBUG] TSdata/BARNEGAT has 0 links to follow\n"
       ]
      },
      {
       "output_type": "stream",
       "stream": "stdout",
       "text": [
        "2015-04-14 08:50:41,753 - [DEBUG] TSdata/BARNEGAT has 0 links to follow\n"
       ]
      },
      {
       "output_type": "stream",
       "stream": "stdout",
       "text": [
        "2015-04-14 08:50:41,753 - [DEBUG] TSdata/BARNEGAT has 0 links to follow\n"
       ]
      },
      {
       "output_type": "stream",
       "stream": "stderr",
       "text": [
        "DEBUG:crawler:TSdata/BARNEGAT has 0 links to follow\n"
       ]
      },
      {
       "output_type": "stream",
       "stream": "stdout",
       "text": [
        "2015-04-14 08:50:41,759 - [DEBUG] adding paths to follow: 0 (0)\n"
       ]
      },
      {
       "output_type": "stream",
       "stream": "stdout",
       "text": [
        "2015-04-14 08:50:41,759 - [DEBUG] adding paths to follow: 0 (0)\n"
       ]
      },
      {
       "output_type": "stream",
       "stream": "stdout",
       "text": [
        "2015-04-14 08:50:41,759 - [DEBUG] adding paths to follow: 0 (0)\n"
       ]
      },
      {
       "output_type": "stream",
       "stream": "stdout",
       "text": [
        "2015-04-14 08:50:41,759 - [DEBUG] adding paths to follow: 0 (0)\n"
       ]
      },
      {
       "output_type": "stream",
       "stream": "stdout",
       "text": [
        "2015-04-14 08:50:41,759 - [DEBUG] adding paths to follow: 0 (0)\n"
       ]
      },
      {
       "output_type": "stream",
       "stream": "stdout",
       "text": [
        "2015-04-14 08:50:41,759 - [DEBUG] adding paths to follow: 0 (0)\n"
       ]
      },
      {
       "output_type": "stream",
       "stream": "stdout",
       "text": [
        "2015-04-14 08:50:41,759 - [DEBUG] adding paths to follow: 0 (0)\n"
       ]
      },
      {
       "output_type": "stream",
       "stream": "stdout",
       "text": [
        "2015-04-14 08:50:41,759 - [DEBUG] adding paths to follow: 0 (0)\n"
       ]
      },
      {
       "output_type": "stream",
       "stream": "stdout",
       "text": [
        "2015-04-14 08:50:41,759 - [DEBUG] adding paths to follow: 0 (0)\n"
       ]
      },
      {
       "output_type": "stream",
       "stream": "stdout",
       "text": [
        "2015-04-14 08:50:41,759 - [DEBUG] adding paths to follow: 0 (0)\n"
       ]
      },
      {
       "output_type": "stream",
       "stream": "stdout",
       "text": [
        "2015-04-14 08:50:41,759 - [DEBUG] adding paths to follow: 0 (0)\n"
       ]
      },
      {
       "output_type": "stream",
       "stream": "stdout",
       "text": [
        "2015-04-14 08:50:41,759 - [DEBUG] adding paths to follow: 0 (0)\n"
       ]
      },
      {
       "output_type": "stream",
       "stream": "stdout",
       "text": [
        "2015-04-14 08:50:41,759 - [DEBUG] adding paths to follow: 0 (0)\n"
       ]
      },
      {
       "output_type": "stream",
       "stream": "stdout",
       "text": [
        "2015-04-14 08:50:41,759 - [DEBUG] adding paths to follow: 0 (0)\n"
       ]
      },
      {
       "output_type": "stream",
       "stream": "stdout",
       "text": [
        "2015-04-14 08:50:41,759 - [DEBUG] adding paths to follow: 0 (0)\n"
       ]
      },
      {
       "output_type": "stream",
       "stream": "stdout",
       "text": [
        "2015-04-14 08:50:41,759 - [DEBUG] adding paths to follow: 0 (0)\n"
       ]
      },
      {
       "output_type": "stream",
       "stream": "stdout",
       "text": [
        "2015-04-14 08:50:41,759 - [DEBUG] adding paths to follow: 0 (0)\n"
       ]
      },
      {
       "output_type": "stream",
       "stream": "stdout",
       "text": [
        "2015-04-14 08:50:41,759 - [DEBUG] adding paths to follow: 0 (0)\n"
       ]
      },
      {
       "output_type": "stream",
       "stream": "stdout",
       "text": [
        "2015-04-14 08:50:41,759 - [DEBUG] adding paths to follow: 0 (0)\n"
       ]
      },
      {
       "output_type": "stream",
       "stream": "stdout",
       "text": [
        "2015-04-14 08:50:41,759 - [DEBUG] adding paths to follow: 0 (0)\n"
       ]
      },
      {
       "output_type": "stream",
       "stream": "stderr",
       "text": [
        "DEBUG:crawler:adding paths to follow: 0 (0)\n"
       ]
      },
      {
       "output_type": "stream",
       "stream": "stdout",
       "text": [
        "2015-04-14 08:50:41,764 - [DEBUG] fetched paths 1 (0)\n"
       ]
      },
      {
       "output_type": "stream",
       "stream": "stdout",
       "text": [
        "2015-04-14 08:50:41,764 - [DEBUG] fetched paths 1 (0)\n"
       ]
      },
      {
       "output_type": "stream",
       "stream": "stdout",
       "text": [
        "2015-04-14 08:50:41,764 - [DEBUG] fetched paths 1 (0)\n"
       ]
      },
      {
       "output_type": "stream",
       "stream": "stdout",
       "text": [
        "2015-04-14 08:50:41,764 - [DEBUG] fetched paths 1 (0)\n"
       ]
      },
      {
       "output_type": "stream",
       "stream": "stdout",
       "text": [
        "2015-04-14 08:50:41,764 - [DEBUG] fetched paths 1 (0)\n"
       ]
      },
      {
       "output_type": "stream",
       "stream": "stdout",
       "text": [
        "2015-04-14 08:50:41,764 - [DEBUG] fetched paths 1 (0)\n"
       ]
      },
      {
       "output_type": "stream",
       "stream": "stdout",
       "text": [
        "2015-04-14 08:50:41,764 - [DEBUG] fetched paths 1 (0)\n"
       ]
      },
      {
       "output_type": "stream",
       "stream": "stdout",
       "text": [
        "2015-04-14 08:50:41,764 - [DEBUG] fetched paths 1 (0)\n"
       ]
      },
      {
       "output_type": "stream",
       "stream": "stdout",
       "text": [
        "2015-04-14 08:50:41,764 - [DEBUG] fetched paths 1 (0)\n"
       ]
      },
      {
       "output_type": "stream",
       "stream": "stdout",
       "text": [
        "2015-04-14 08:50:41,764 - [DEBUG] fetched paths 1 (0)\n"
       ]
      },
      {
       "output_type": "stream",
       "stream": "stdout",
       "text": [
        "2015-04-14 08:50:41,764 - [DEBUG] fetched paths 1 (0)\n"
       ]
      },
      {
       "output_type": "stream",
       "stream": "stdout",
       "text": [
        "2015-04-14 08:50:41,764 - [DEBUG] fetched paths 1 (0)\n"
       ]
      },
      {
       "output_type": "stream",
       "stream": "stdout",
       "text": [
        "2015-04-14 08:50:41,764 - [DEBUG] fetched paths 1 (0)\n"
       ]
      },
      {
       "output_type": "stream",
       "stream": "stdout",
       "text": [
        "2015-04-14 08:50:41,764 - [DEBUG] fetched paths 1 (0)\n"
       ]
      },
      {
       "output_type": "stream",
       "stream": "stdout",
       "text": [
        "2015-04-14 08:50:41,764 - [DEBUG] fetched paths 1 (0)\n"
       ]
      },
      {
       "output_type": "stream",
       "stream": "stdout",
       "text": [
        "2015-04-14 08:50:41,764 - [DEBUG] fetched paths 1 (0)\n"
       ]
      },
      {
       "output_type": "stream",
       "stream": "stdout",
       "text": [
        "2015-04-14 08:50:41,764 - [DEBUG] fetched paths 1 (0)\n"
       ]
      },
      {
       "output_type": "stream",
       "stream": "stdout",
       "text": [
        "2015-04-14 08:50:41,764 - [DEBUG] fetched paths 1 (0)\n"
       ]
      },
      {
       "output_type": "stream",
       "stream": "stdout",
       "text": [
        "2015-04-14 08:50:41,764 - [DEBUG] fetched paths 1 (0)\n"
       ]
      },
      {
       "output_type": "stream",
       "stream": "stdout",
       "text": [
        "2015-04-14 08:50:41,764 - [DEBUG] fetched paths 1 (0)\n"
       ]
      },
      {
       "output_type": "stream",
       "stream": "stderr",
       "text": [
        "DEBUG:crawler:fetched paths 1 (0)\n"
       ]
      },
      {
       "output_type": "stream",
       "stream": "stdout",
       "text": [
        "***************\n",
        "crawl complete:\n",
        "{\n",
        "    \"TSData/catalog.xml\": {\n",
        "        \"children\": [\n",
        "            {\n",
        "                \"parent_type\": \"dataset\", \n",
        "                \"href\": \"\", \n",
        "                \"type\": \"catalogRef\", \n",
        "                \"id\": \"TSdata/ARGO_MERCHANT\", \n",
        "                \"parent\": \"TSdata\"\n",
        "            }, \n",
        "            {\n",
        "                \"parent_type\": \"dataset\", \n",
        "                \"href\": \"\", \n",
        "                \"type\": \"catalogRef\", \n",
        "                \"id\": \"TSdata/BARNEGAT\", \n",
        "                \"parent\": \"TSdata\"\n",
        "            }\n",
        "        ]\n",
        "    }\n",
        "}\n"
       ]
      }
     ],
     "prompt_number": 43
    }
   ],
   "metadata": {}
  }
 ]
}